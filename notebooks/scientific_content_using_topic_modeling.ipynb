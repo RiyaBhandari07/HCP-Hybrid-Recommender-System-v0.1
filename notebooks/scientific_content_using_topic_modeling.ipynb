{
 "cells": [
  {
   "cell_type": "markdown",
   "id": "887d0169-9326-485b-b121-9822b4c7250e",
   "metadata": {},
   "source": [
    "# Scientific Content Generation Using Topic Modeling"
   ]
  },
  {
   "cell_type": "markdown",
   "id": "011c55f1-3251-4960-9030-34121c9239ed",
   "metadata": {},
   "source": [
    "##### In this notebook, scientific content embeddings from PubMed abstracts using Latent Dirichlet Allocation (LDA) are created.\n",
    "\n",
    "Goal:\n",
    "\n",
    "- Transform unstructured biomedical text into structured topic distributions.\n",
    "- Identify latent scientific themes that can serve as input features for an LSTM-based recommender system predicting the Next Best Content (NBC) for healthcare professionals (HCPs).\n",
    "\n",
    "By the end, we’ll obtain:\n",
    "\n",
    "- Topic-level representations (topic_0 ... topic_9)\n",
    "- Dominant topic labels and keywords\n",
    "- Medical specialty mapping for each topic"
   ]
  },
  {
   "cell_type": "markdown",
   "id": "14d29b97-9248-41f2-a33b-2633a4aac279",
   "metadata": {},
   "source": [
    "#### Step 1 : Importing Required Libraries\n",
    "\n",
    "Here, import key Python packages for:\n",
    "\n",
    "- **Text Preprocessing:** spacy, nltk, re\n",
    "- **Topic Modeling:** gensim\n",
    "- **Visualization:** pyLDAvis, matplotlib, seaborn\n",
    "- **Data Handling:** pandas, numpy\n",
    "\n",
    "These libraries together provide a robust NLP + statistical modeling pipeline.\n",
    "**LDA** assumes a **bag-of-words (BoW)** representation of text which handles tokenization, lemmatization, and stop-word removal before modeling."
   ]
  },
  {
   "cell_type": "code",
   "execution_count": 1,
   "id": "6f87e670-df33-4547-b3c9-ee9147dd21d5",
   "metadata": {},
   "outputs": [],
   "source": [
    "# import required libraries\n",
    "import pandas as pd\n",
    "import numpy as np\n",
    "import spacy\n",
    "import nltk\n",
    "import re\n",
    "\n",
    "from gensim.models import LdaModel\n",
    "from gensim.models import CoherenceModel\n",
    "from gensim import corpora\n",
    "from gensim.corpora.dictionary import Dictionary\n",
    "\n",
    "from nltk.corpus import stopwords\n",
    "\n",
    "# EDA visualization\n",
    "import pyLDAvis\n",
    "import pyLDAvis.gensim_models\n",
    "import matplotlib.pyplot as plt\n",
    "import seaborn as sn\n",
    "sn.set()\n",
    "\n",
    "#enabling visualize inside notebook\n",
    "pyLDAvis.enable_notebook()"
   ]
  },
  {
   "cell_type": "code",
   "execution_count": 2,
   "id": "5ec14928-32b5-43c0-9017-14a9ba9d83c5",
   "metadata": {},
   "outputs": [
    {
     "name": "stderr",
     "output_type": "stream",
     "text": [
      "[nltk_data] Downloading package stopwords to\n",
      "[nltk_data]     C:\\Users\\bhand\\AppData\\Roaming\\nltk_data...\n",
      "[nltk_data]   Package stopwords is already up-to-date!\n"
     ]
    },
    {
     "data": {
      "text/plain": [
       "True"
      ]
     },
     "execution_count": 2,
     "metadata": {},
     "output_type": "execute_result"
    }
   ],
   "source": [
    "# Download nltk stopwords\n",
    "\n",
    "nltk.download('stopwords')"
   ]
  },
  {
   "cell_type": "markdown",
   "id": "16c2433b-1d17-4c55-9cf9-d3ae0d981fa8",
   "metadata": {},
   "source": [
    "#### Step 2 : Load and Inspect PubMed Abstracts\n",
    "\n",
    "We load the dataset of PubMed abstracts (2020–2025).\n",
    "Each abstract is treated as one document.\n",
    "In LDA’s statistical framework:\n",
    "\n",
    "- Each document is a mixture of latent topics\n",
    "- Each topic is a distribution over words\n",
    "\n",
    "The corpus therefore follows a hierarchical Bayesian model where both documents and words are generated probabilistically."
   ]
  },
  {
   "cell_type": "code",
   "execution_count": 3,
   "id": "7ebea024-e059-4470-aa34-b3106a2231d9",
   "metadata": {},
   "outputs": [
    {
     "name": "stdout",
     "output_type": "stream",
     "text": [
      " Loaded 509 abstracts\n"
     ]
    },
    {
     "data": {
      "text/html": [
       "<div>\n",
       "<style scoped>\n",
       "    .dataframe tbody tr th:only-of-type {\n",
       "        vertical-align: middle;\n",
       "    }\n",
       "\n",
       "    .dataframe tbody tr th {\n",
       "        vertical-align: top;\n",
       "    }\n",
       "\n",
       "    .dataframe thead th {\n",
       "        text-align: right;\n",
       "    }\n",
       "</style>\n",
       "<table border=\"1\" class=\"dataframe\">\n",
       "  <thead>\n",
       "    <tr style=\"text-align: right;\">\n",
       "      <th></th>\n",
       "      <th>PMID</th>\n",
       "      <th>Title</th>\n",
       "      <th>Abstract</th>\n",
       "      <th>Topic</th>\n",
       "    </tr>\n",
       "  </thead>\n",
       "  <tbody>\n",
       "    <tr>\n",
       "      <th>0</th>\n",
       "      <td>40887509</td>\n",
       "      <td>Sodium glucose co-transporter 2 inhibitor-asso...</td>\n",
       "      <td>Perioperative euglycaemic diabetic ketoacidosi...</td>\n",
       "      <td>Diabetes Management</td>\n",
       "    </tr>\n",
       "    <tr>\n",
       "      <th>1</th>\n",
       "      <td>40886230</td>\n",
       "      <td>Can Dual Incretin Receptor Agonists Exert Bett...</td>\n",
       "      <td>Despite advances in cardiovascular risk reduct...</td>\n",
       "      <td>Diabetes Management</td>\n",
       "    </tr>\n",
       "    <tr>\n",
       "      <th>2</th>\n",
       "      <td>40885915</td>\n",
       "      <td>The association between diabetes management se...</td>\n",
       "      <td>Self-efficacy emerges as a crucial element tha...</td>\n",
       "      <td>Diabetes Management</td>\n",
       "    </tr>\n",
       "    <tr>\n",
       "      <th>3</th>\n",
       "      <td>40884731</td>\n",
       "      <td>Intrinsic Motivation Moderates the Effect of F...</td>\n",
       "      <td>Few studies have examined effects of intrinsic...</td>\n",
       "      <td>Diabetes Management</td>\n",
       "    </tr>\n",
       "    <tr>\n",
       "      <th>4</th>\n",
       "      <td>40877913</td>\n",
       "      <td>Inhibitory effects of the flavonoids extracted...</td>\n",
       "      <td>Pollen Typhae (PT), a traditional Chinese medi...</td>\n",
       "      <td>Diabetes Management</td>\n",
       "    </tr>\n",
       "  </tbody>\n",
       "</table>\n",
       "</div>"
      ],
      "text/plain": [
       "       PMID                                              Title  \\\n",
       "0  40887509  Sodium glucose co-transporter 2 inhibitor-asso...   \n",
       "1  40886230  Can Dual Incretin Receptor Agonists Exert Bett...   \n",
       "2  40885915  The association between diabetes management se...   \n",
       "3  40884731  Intrinsic Motivation Moderates the Effect of F...   \n",
       "4  40877913  Inhibitory effects of the flavonoids extracted...   \n",
       "\n",
       "                                            Abstract                Topic  \n",
       "0  Perioperative euglycaemic diabetic ketoacidosi...  Diabetes Management  \n",
       "1  Despite advances in cardiovascular risk reduct...  Diabetes Management  \n",
       "2  Self-efficacy emerges as a crucial element tha...  Diabetes Management  \n",
       "3  Few studies have examined effects of intrinsic...  Diabetes Management  \n",
       "4  Pollen Typhae (PT), a traditional Chinese medi...  Diabetes Management  "
      ]
     },
     "execution_count": 3,
     "metadata": {},
     "output_type": "execute_result"
    }
   ],
   "source": [
    "# Loading pubmed abstracts csv\n",
    "\n",
    "pubmed_df = pd.read_csv(\"C:/Users/bhand/Desktop/Data Science - My Collection/Deep Learning Project - 1/Data/Data for Recommender System/HCP_Hybrid_Recommendation_System/data/pubmed_abstracts_2020_2025.csv\")\n",
    "print(f\" Loaded {len(pubmed_df)} abstracts\")\n",
    "\n",
    "# View the dataframe\n",
    "pubmed_df.head()"
   ]
  },
  {
   "cell_type": "markdown",
   "id": "1f658ae0-16d6-4c75-976f-e2e47037a820",
   "metadata": {},
   "source": [
    "#### Step 3 : Load SpaCy Model & Define Domain Stopwords\n",
    "\n",
    "SpaCy English medium model *(en_core_web_md)* is loaded, which includes pre-trained word embeddings and a **biomedical Named Entity Recognizer (NER)**.\n",
    "\n",
    "Next, a domain-specific stopword list is defined which helps to removes common biomedical filler words such as *“et”, “al”, “study”, “method”* etc.\n",
    "These words appear frequently across papers but carry little discriminative information, so removing them improves topic interpretability."
   ]
  },
  {
   "cell_type": "code",
   "execution_count": 4,
   "id": "2278b61f-b175-477f-94b1-fda87b2f12c2",
   "metadata": {},
   "outputs": [],
   "source": [
    "# Loading spacy data\n",
    "\n",
    "nlp = spacy.load(\"en_core_web_md\")\n",
    "\n",
    "# Custom stop words\n",
    "\n",
    "spacy_stopwords = spacy.lang.en.stop_words.STOP_WORDS\n",
    "extra_stopwords = {\"et\", \"al\", \"study\", \"patients\", \"conclusion\", \"method\", \"methods\", \"results\"}\n",
    "stopwords = spacy_stopwords.union(extra_stopwords)"
   ]
  },
  {
   "cell_type": "markdown",
   "id": "b9c800fb-2512-4052-9ec1-1fd0b252577d",
   "metadata": {},
   "source": [
    "#### Step 4: Biomedical Entity-Aware Preprocessing\n",
    "\n",
    "A custom preprocessing function is defined to:\n",
    "\n",
    "- Converts text to lowercase and removes non-alphanumeric characters.\n",
    "- Uses SpaCy NER to detect entities such as diseases, drugs, and genes.\n",
    "- Replaces each entity with placeholders like DISEASE, DRUG, GENE, TRIAL to preserve biomedical context.\n",
    "- Lemmatizes and filters remaining non-entity tokens.\n",
    "\n",
    "*This helps to reduce noise in the data and ensures models learns from conceptual patterns like \"Disease-Drug-Gene\" relationships. It improves semantic cohesion and topic interpretability a lot.*"
   ]
  },
  {
   "cell_type": "code",
   "execution_count": 5,
   "id": "7397db9e-093d-4446-815b-f78703b5198e",
   "metadata": {},
   "outputs": [],
   "source": [
    "# Preprocessing pubmed abstracts\n",
    "\n",
    "def preprocess_with_entities(text):\n",
    "    # Lowercase & keep only alphanumerics\n",
    "    text = re.sub(r\"[^a-zA-Z0-9]\", \" \", text.lower())\n",
    "    doc = nlp(text)\n",
    "\n",
    "    tokens = []\n",
    "    entity_spans = [(ent.start, ent.end, ent) for ent in doc.ents]\n",
    "\n",
    "    skip_indexes = set()  # to track which tokens belong to entities\n",
    "\n",
    "    for start, end, ent in entity_spans:\n",
    "        skip_indexes.update(range(start, end))  # mark tokens inside entity\n",
    "        # Replace entity with a placeholder depending on its type\n",
    "        if \"disease\" in ent.label_.lower():\n",
    "            tokens.append(\"<DISEASE>\")\n",
    "        elif \"chemical\" in ent.label_.lower() or \"drug\" in ent.label_.lower():\n",
    "            tokens.append(\"<DRUG>\")\n",
    "        elif \"gene\" in ent.label_.lower() or \"protein\" in ent.label_.lower():\n",
    "            tokens.append(\"<GENE>\")\n",
    "        elif \"clinical_trial\" in ent.label_.lower() or ent.text.lower().startswith(\"nct\"):\n",
    "            tokens.append(\"<TRIAL>\")\n",
    "        else:\n",
    "            # For untagged scientific entities, append their lemmatized words\n",
    "            tokens.extend([w.lemma_.lower() for w in ent if w.is_alpha and w.text.lower() not in stopwords])\n",
    "\n",
    "    # Process non-entity tokens\n",
    "    for i, token in enumerate(doc):\n",
    "        if i in skip_indexes:  # skip if token already covered by an entity\n",
    "            continue\n",
    "        if token.is_alpha and token.text.lower() not in stopwords and len(token.lemma_) > 2:\n",
    "            tokens.append(token.lemma_.lower())\n",
    "\n",
    "    return list(tokens)"
   ]
  },
  {
   "cell_type": "code",
   "execution_count": 6,
   "id": "6b23df17-0515-4f17-8e96-4e481f6c6885",
   "metadata": {},
   "outputs": [
    {
     "name": "stdout",
     "output_type": "stream",
     "text": [
      "0    [april, day, day, perioperative, euglycaemic, ...\n",
      "1    [mace, hr, ci, despite, advance, cardiovascula...\n",
      "2    [palestine, self, efficacy, emerge, crucial, e...\n",
      "3    [hispanic, debs, p, study, examine, effect, in...\n",
      "4    [pollen, typhae, pt, chinese, traditional, med...\n",
      "Name: tokens, dtype: object\n"
     ]
    }
   ],
   "source": [
    "# appling preprocessing with entities to tokens\n",
    "\n",
    "pubmed_df[\"tokens\"] = pubmed_df[\"Abstract\"].astype(str).apply(preprocess_with_entities)\n",
    "print(pubmed_df['tokens'].head())"
   ]
  },
  {
   "cell_type": "markdown",
   "id": "ce8acf3c-79c3-47a0-98f5-0398c48593ac",
   "metadata": {},
   "source": [
    "#### Step 5 : Create Dictionary and Corpus\n",
    "\n",
    "**After preprocessing:**\n",
    "\n",
    "- Build a Dictionary mapping each token to an integer ID.\n",
    "- Construct a Corpus, which represents each document as a bag-of-words vector:\n",
    "\n",
    "     *doci​={(w1​,n1​),(w2​,n2​),...,(wk​,nk​)}*\n",
    "\n",
    "**Filtering rules:**\n",
    "\n",
    "- no_below=5: Remove rare words appearing in fewer than 5 docs.\n",
    "- no_above=0.5: Remove overly common words (in >50% of docs).\n",
    "- keep_n=1000: Retain top 1000 most informative terms.\n",
    "\n",
    "These thresholds help balance vocabulary diversity and topic quality."
   ]
  },
  {
   "cell_type": "code",
   "execution_count": 7,
   "id": "c84b4e34-6994-4f0b-b4b7-e71690fd389a",
   "metadata": {},
   "outputs": [],
   "source": [
    "# Preparing dictionary and corpus for pubmeds tokens\n",
    "\n",
    "dictionary = corpora.Dictionary(pubmed_df[\"tokens\"])\n",
    "dictionary.filter_extremes(no_below = 5, no_above = 0.5, keep_n = 1000)\n",
    "\n",
    "# corpus\n",
    "corpus = [dictionary.doc2bow(tokens) for tokens in pubmed_df[\"tokens\"]]"
   ]
  },
  {
   "cell_type": "markdown",
   "id": "b45f2141-78b4-4b19-8bc8-d63c2797c82c",
   "metadata": {},
   "source": [
    "#### Step 6 : Train the LDA Topic Model\n",
    "\n",
    "**Latent Dirichlet Allocation (LDA)** model is trained with:\n",
    "\n",
    "- num_topics = 10\n",
    "- passes = 15 (iterations through corpus)\n",
    "- alpha = 'auto' (learns document-topic density)\n",
    "\n",
    "**LDA Assumptions**:\n",
    "- Each document is generated as a mixture of topics drawn from a Dirichlet distribution:  *θd​∼Dir(α)*\n",
    "\n",
    "- Each topic is a mixture of words drawn from another Dirichlet: *ϕk​∼Dir(β)*\n",
    "\n",
    "- Words in a document are generated from a topic-specific multinomial distribution.\n",
    "\n",
    "Thus, LDA captures the hidden semantic structure of the corpus through probabilistic inference.\n",
    "Each topic is displayed by its top-weighted keywords.\n",
    "Interpreting these keywords provides insight into the semantic domain represented by each latent topic."
   ]
  },
  {
   "cell_type": "code",
   "execution_count": 8,
   "id": "3f5a26db-fa66-4499-b022-f68ae374e9a6",
   "metadata": {},
   "outputs": [
    {
     "name": "stdout",
     "output_type": "stream",
     "text": [
      "Topic 0:0.082*\"thyroid\" + 0.029*\"disorder\" + 0.022*\"woman\" + 0.020*\"hormone\" + 0.018*\"disease\" + 0.016*\"hypothyroidism\" + 0.014*\"association\" + 0.014*\"pregnancy\" + 0.012*\"tsh\" + 0.012*\"level\"\n",
      "Topic 1:0.022*\"health\" + 0.020*\"care\" + 0.014*\"healthcare\" + 0.009*\"self\" + 0.009*\"model\" + 0.008*\"include\" + 0.008*\"factor\" + 0.008*\"intervention\" + 0.008*\"management\" + 0.008*\"medical\"\n",
      "Topic 2:0.018*\"treatment\" + 0.015*\"use\" + 0.014*\"respiratory\" + 0.013*\"cancer\" + 0.013*\"type\" + 0.012*\"therapy\" + 0.012*\"clinical\" + 0.010*\"need\" + 0.009*\"care\" + 0.009*\"obesity\"\n",
      "Topic 3:0.034*\"respiratory\" + 0.023*\"care\" + 0.016*\"disease\" + 0.015*\"practice\" + 0.012*\"use\" + 0.011*\"recommendation\" + 0.009*\"clinical\" + 0.008*\"pulmonary\" + 0.007*\"report\" + 0.007*\"year\"\n",
      "Topic 4:0.034*\"thyroid\" + 0.019*\"disorder\" + 0.016*\"drug\" + 0.013*\"infection\" + 0.013*\"role\" + 0.011*\"include\" + 0.010*\"relate\" + 0.010*\"adverse\" + 0.010*\"function\" + 0.009*\"gut\"\n",
      "Topic 5:0.019*\"management\" + 0.019*\"diabetes\" + 0.015*\"glucose\" + 0.014*\"risk\" + 0.014*\"clinical\" + 0.012*\"health\" + 0.011*\"diabete\" + 0.011*\"cardiovascular\" + 0.010*\"care\" + 0.010*\"insulin\"\n",
      "Topic 6:0.027*\"risk\" + 0.021*\"age\" + 0.020*\"factor\" + 0.019*\"high\" + 0.014*\"year\" + 0.014*\"disease\" + 0.013*\"prevalence\" + 0.012*\"associate\" + 0.011*\"cardiovascular\" + 0.009*\"group\"\n",
      "Topic 7:0.019*\"disease\" + 0.015*\"therapy\" + 0.014*\"ckd\" + 0.014*\"treatment\" + 0.013*\"cell\" + 0.011*\"risk\" + 0.010*\"inflammatory\" + 0.009*\"potential\" + 0.009*\"systemic\" + 0.009*\"effect\"\n",
      "Topic 8:0.089*\"vaccination\" + 0.072*\"hpv\" + 0.068*\"vaccine\" + 0.035*\"awareness\" + 0.020*\"knowledge\" + 0.017*\"covid\" + 0.013*\"adult\" + 0.013*\"rate\" + 0.012*\"cancer\" + 0.012*\"health\"\n",
      "Topic 9:0.014*\"group\" + 0.013*\"control\" + 0.013*\"risk\" + 0.013*\"cardiovascular\" + 0.012*\"disease\" + 0.009*\"analysis\" + 0.009*\"significant\" + 0.009*\"blood\" + 0.008*\"outcome\" + 0.008*\"pressure\"\n"
     ]
    }
   ],
   "source": [
    "# Training LDA model\n",
    "NUM_TOPICS = 10\n",
    "lda_model = LdaModel(corpus = corpus,\n",
    "                     id2word = dictionary,\n",
    "                     num_topics = NUM_TOPICS,\n",
    "                     passes = 15,\n",
    "                     random_state = 42,\n",
    "                     alpha = 'auto',\n",
    "                     per_word_topics=True)              \n",
    "\n",
    "# Print topics as per idx\n",
    "for idx, topic in lda_model.print_topics(num_words = 10):\n",
    "    print(f\"Topic {idx}:{topic}\")"
   ]
  },
  {
   "cell_type": "markdown",
   "id": "e996da33-c7f3-4b14-a6e7-2831110f7ae1",
   "metadata": {},
   "source": [
    "#### Step 7 : Model Evaluation — Coherence \n",
    "\n",
    "Model evaluation is performed using standard metrics:\n",
    "\n",
    "**Coherence Score (c_v)**: Measures semantic similarity between top words of each topic. \n",
    " Higher values (0.5–0.7) = more interpretable topics.\n",
    "\n",
    "In this case, it's **0.39** which is considered good."
   ]
  },
  {
   "cell_type": "code",
   "execution_count": 9,
   "id": "37d6538c-edb6-4fc8-8e3b-0f117e9c0389",
   "metadata": {},
   "outputs": [
    {
     "name": "stdout",
     "output_type": "stream",
     "text": [
      " Coherence Score: 0.3924401426074726\n"
     ]
    }
   ],
   "source": [
    "# Evaluation using Coherence \n",
    "coherence_model = CoherenceModel(model = lda_model,\n",
    "                                 texts = pubmed_df[\"tokens\"],\n",
    "                                 dictionary = dictionary,\n",
    "                                 coherence = 'c_v')\n",
    "\n",
    "coherence_score = coherence_model.get_coherence()\n",
    "\n",
    "print(f\" Coherence Score:\", coherence_score)"
   ]
  },
  {
   "cell_type": "markdown",
   "id": "b9547c91-de0c-430f-ae61-0aff1d487126",
   "metadata": {},
   "source": [
    "#### Step 8 : Extract Document-Level Topic Distributions\n",
    "\n",
    "Compute for each abstract:\n",
    "\n",
    "- The topic probability distribution (a 10-dimensional vector).\n",
    "- The dominant topic with the highest probability.\n",
    "- The top 10 keywords representing that dominant topic.\n",
    "\n",
    "These topic probability vectors serve as dense, interpretable features for downstream machine learning — ideal for content recommendation or clustering"
   ]
  },
  {
   "cell_type": "code",
   "execution_count": 10,
   "id": "2cd6a2f1-fdb5-4ee6-94d0-97b8de3d649b",
   "metadata": {},
   "outputs": [],
   "source": [
    "# Extract Topics\n",
    "topic_keywords = []\n",
    "topic_ids = []\n",
    "topic_distributions = []\n",
    "\n",
    "for i, row in enumerate(corpus):\n",
    "    topics = lda_model.get_document_topics(row, minimum_probability=0)\n",
    "\n",
    "    # Dominant topic\n",
    "    dominant_topic = max(topics, key=lambda x: x[1])[0]\n",
    "    topic_ids.append(dominant_topic)\n",
    "\n",
    "    # Keywords for dominant topic\n",
    "    keywords = \", \".join([w for w, _ in lda_model.show_topic(dominant_topic, topn=10)])\n",
    "    topic_keywords.append(keywords)\n",
    "\n",
    "    # Expand topic distribution into fixed-length vector\n",
    "    dist_dict = {t: p for t, p in topics}\n",
    "    topic_distributions.append([dist_dict.get(t, 0.0) for t in range(NUM_TOPICS)])"
   ]
  },
  {
   "cell_type": "markdown",
   "id": "94c3ea1e-2f66-474f-b08e-989d865f3fb3",
   "metadata": {},
   "source": [
    "#### Step 9 : Construct the Scientific Content Dataset\n",
    "\n",
    "Building a structured dataset containing:\n",
    "\n",
    "- PubMed metadata *(PMID, Title, Abstract)*\n",
    "- Topic-based features *(topic_id, topic_keywords, topic probabilities)*\n",
    "- Unique *content_id* and data source fields\n",
    "\n",
    "This transforms textual abstracts into numerical, **semantically-rich features**, enabling **hybrid recommender systems to understand content relevance**."
   ]
  },
  {
   "cell_type": "code",
   "execution_count": 11,
   "id": "b68627ad-0322-42fb-8e4d-d76e6c754c67",
   "metadata": {},
   "outputs": [],
   "source": [
    "# Saving the csv file\n",
    "topic_df = pd.DataFrame(topic_distributions, columns=[f\"topic_{i}\" for i in range(NUM_TOPICS)])\n",
    "scientific_content = pubmed_df[[\n",
    "    'PMID', 'Title', 'Abstract']].reset_index(drop=True)\n",
    "\n",
    "scientific_content['topic_ids'] = topic_ids\n",
    "scientific_content['topic_keywords'] = topic_keywords\n",
    "scientific_content['content_id'] = [\"C\"+ str(i).zfill(4) for i in range(len(scientific_content))]\n",
    "scientific_content['source'] = \"PubMed\""
   ]
  },
  {
   "cell_type": "code",
   "execution_count": 12,
   "id": "5966ec2c-ad1f-412a-89d6-5bc510a2c210",
   "metadata": {},
   "outputs": [
    {
     "name": "stdout",
     "output_type": "stream",
     "text": [
      "/nScientific Content Data Saved\n"
     ]
    }
   ],
   "source": [
    "# Merge structured topic distributions\n",
    "scientific_content_data = pd.concat([scientific_content, topic_df], axis=1)\n",
    "\n",
    "scientific_content_data.to_csv(\"Scientific_content_data.csv\", index = False)\n",
    "print(\"/nScientific Content Data Saved\")"
   ]
  },
  {
   "cell_type": "markdown",
   "id": "2119d8f2-12e5-4ea9-a2f9-7a9577a1ea05",
   "metadata": {},
   "source": [
    "#### Step 10 : Visualize Topics with pyLDAvis\n",
    "\n",
    "**pyLDAvis** is used for an interactive topic visualization:\n",
    "\n",
    "- Each bubble represents a topic\n",
    "- Distance between bubbles shows topic dissimilarity\n",
    "- Hovering reveals top contributing words\n",
    "\n",
    "This is crucial for qualitative model validation — ensuring topics are well-separated and interpretable."
   ]
  },
  {
   "cell_type": "code",
   "execution_count": 13,
   "id": "985d4c6c-a4ef-4d0f-a49c-30032478b7ba",
   "metadata": {},
   "outputs": [
    {
     "data": {
      "text/html": [
       "\n",
       "<link rel=\"stylesheet\" type=\"text/css\" href=\"https://cdn.jsdelivr.net/gh/bmabey/pyLDAvis@3.4.0/pyLDAvis/js/ldavis.v1.0.0.css\">\n",
       "\n",
       "\n",
       "<div id=\"ldavis_el2128424734896890405255991090\" style=\"background-color:white;\"></div>\n",
       "<script type=\"text/javascript\">\n",
       "\n",
       "var ldavis_el2128424734896890405255991090_data = {\"mdsDat\": {\"x\": [-0.05412432883515383, 0.02933197651956174, -0.06018478659752406, -0.13615834882504035, 0.05996791299314775, 0.3033609243327279, 0.08733098874294097, -0.08258638681353525, -0.06839147480360404, -0.07854647671352119], \"y\": [-0.04129255225746183, -0.08441623587424087, 0.12849369224089793, 0.01092961784056211, 0.03411140458763436, -0.029798212723809156, 0.10188758750080842, -0.046436781510811265, -0.201650129697762, 0.1281716098941819], \"topics\": [1, 2, 3, 4, 5, 6, 7, 8, 9, 10], \"cluster\": [1, 1, 1, 1, 1, 1, 1, 1, 1, 1], \"Freq\": [14.746698197333133, 13.583317937207568, 12.741037680325991, 10.46187878225655, 10.37884430284304, 9.391311060802499, 9.07247358605472, 8.95555822469301, 5.397242869295863, 5.271637359187626]}, \"tinfo\": {\"Term\": [\"vaccination\", \"hpv\", \"thyroid\", \"vaccine\", \"awareness\", \"respiratory\", \"disorder\", \"care\", \"woman\", \"hormone\", \"cancer\", \"therapy\", \"treatment\", \"knowledge\", \"covid\", \"ckd\", \"use\", \"hypothyroidism\", \"glucose\", \"drug\", \"infection\", \"insulin\", \"healthcare\", \"association\", \"cardiovascular\", \"diabetes\", \"age\", \"management\", \"cell\", \"health\", \"ldl\", \"duration\", \"left\", \"myocardial\", \"chest\", \"longitudinal\", \"strain\", \"systolic\", \"mg\", \"dietary\", \"untreated\", \"arterial\", \"poor\", \"cholesterol\", \"biochemical\", \"pain\", \"baseline\", \"chi\", \"cardiac\", \"calculate\", \"month\", \"correlation\", \"diastolic\", \"glycemic\", \"hdl\", \"square\", \"lipoprotein\", \"exercise\", \"triglyceride\", \"intake\", \"density\", \"parameter\", \"pressure\", \"control\", \"group\", \"blood\", \"sleep\", \"test\", \"follow\", \"cardiovascular\", \"mean\", \"significant\", \"change\", \"pulmonary\", \"individual\", \"finding\", \"outcome\", \"analysis\", \"risk\", \"evaluate\", \"disease\", \"low\", \"non\", \"associate\", \"reduce\", \"particularly\", \"age\", \"high\", \"factor\", \"include\", \"level\", \"aim\", \"multivariable\", \"arabia\", \"logistic\", \"saudi\", \"characteristic\", \"predictive\", \"measle\", \"prediction\", \"live\", \"clinic\", \"comparison\", \"overweight\", \"prevalence\", \"occurrence\", \"average\", \"cohort\", \"reactive\", \"prospective\", \"random\", \"severity\", \"frequent\", \"enrol\", \"age\", \"statistically\", \"derive\", \"demographic\", \"predict\", \"regression\", \"similar\", \"direct\", \"pneumonia\", \"region\", \"year\", \"factor\", \"hypertension\", \"ratio\", \"risk\", \"high\", \"association\", \"p\", \"marker\", \"old\", \"case\", \"associate\", \"index\", \"objective\", \"assess\", \"group\", \"cardiovascular\", \"population\", \"disease\", \"analysis\", \"rate\", \"level\", \"background\", \"woman\", \"increase\", \"include\", \"significant\", \"child\", \"low\", \"remain\", \"aim\", \"study\", \"artificial\", \"encompass\", \"digital\", \"diverse\", \"platform\", \"innovation\", \"overcome\", \"integrate\", \"dual\", \"solution\", \"personalized\", \"glucose\", \"limitation\", \"narrative\", \"advance\", \"modulation\", \"precision\", \"particular\", \"landscape\", \"data\", \"device\", \"individualized\", \"promising\", \"robust\", \"monitoring\", \"continuous\", \"train\", \"promise\", \"adoption\", \"tool\", \"insulin\", \"glp\", \"therapeutic\", \"diabetes\", \"management\", \"influenza\", \"diabete\", \"global\", \"strategy\", \"achieve\", \"emerge\", \"despite\", \"clinical\", \"diabetic\", \"system\", \"cardiovascular\", \"health\", \"challenge\", \"risk\", \"review\", \"care\", \"type\", \"improve\", \"datum\", \"disease\", \"treatment\", \"provide\", \"population\", \"include\", \"remain\", \"adult\", \"intervention\", \"line\", \"nan\", \"glucosidase\", \"oxidative\", \"pathophysiology\", \"ml\", \"molecular\", \"inhibitory\", \"endothelial\", \"antioxidant\", \"disrupt\", \"mutation\", \"ckd\", \"inflammatory\", \"nutritional\", \"anti\", \"systemic\", \"compound\", \"surface\", \"acid\", \"potent\", \"g\", \"cell\", \"update\", \"stage\", \"dyslipidemia\", \"exhibit\", \"multifactorial\", \"largely\", \"primarily\", \"inflammation\", \"diet\", \"activity\", \"stress\", \"renal\", \"therapy\", \"food\", \"immune\", \"profile\", \"treatment\", \"disease\", \"potential\", \"lipid\", \"induce\", \"effect\", \"hypothyroidism\", \"show\", \"risk\", \"management\", \"include\", \"high\", \"cardiovascular\", \"identify\", \"diabetes\", \"target\", \"lead\", \"self\", \"family\", \"social\", \"outbreak\", \"algorithm\", \"qualitative\", \"staff\", \"training\", \"professional\", \"hepatitis\", \"team\", \"communication\", \"healthcare\", \"psychological\", \"optimization\", \"plan\", \"transition\", \"socioeconomic\", \"dataset\", \"worker\", \"perspective\", \"personal\", \"behavior\", \"availability\", \"facility\", \"belief\", \"hold\", \"medical\", \"depend\", \"efficiency\", \"collect\", \"barrier\", \"decision\", \"make\", \"health\", \"education\", \"consider\", \"care\", \"model\", \"score\", \"experience\", \"intervention\", \"quality\", \"improve\", \"challenge\", \"crucial\", \"support\", \"patient\", \"management\", \"factor\", \"include\", \"control\", \"level\", \"woman\", \"datum\", \"thyroid\", \"aim\", \"high\", \"risk\", \"hpv\", \"papillomavirus\", \"student\", \"vaccine\", \"attitude\", \"vaccinate\", \"vaccination\", \"college\", \"university\", \"acceptance\", \"awareness\", \"hesitancy\", \"immunization\", \"indian\", \"uptake\", \"disparity\", \"site\", \"knowledge\", \"coronavirus\", \"gender\", \"effort\", \"covid\", \"pandemic\", \"china\", \"ethnic\", \"human\", \"educational\", \"school\", \"western\", \"india\", \"public\", \"cancer\", \"participant\", \"infection\", \"adult\", \"rate\", \"information\", \"health\", \"low\", \"education\", \"high\", \"population\", \"relate\", \"conduct\", \"review\", \"copd\", \"society\", \"asthma\", \"initiative\", \"home\", \"paper\", \"create\", \"perception\", \"web\", \"align\", \"recommendation\", \"practice\", \"state\", \"discussion\", \"question\", \"physician\", \"young\", \"safe\", \"respiratory\", \"clinician\", \"requirement\", \"june\", \"united\", \"oxygen\", \"states\", \"american\", \"facilitate\", \"continue\", \"willingness\", \"project\", \"pulmonary\", \"implementation\", \"use\", \"lung\", \"survey\", \"provider\", \"care\", \"guideline\", \"program\", \"report\", \"receive\", \"current\", \"disease\", \"pregnant\", \"information\", \"recommend\", \"clinical\", \"support\", \"patient\", \"chronic\", \"healthcare\", \"year\", \"improve\", \"covid\", \"woman\", \"global\", \"increase\", \"health\", \"base\", \"quality\", \"vaccine\", \"vaccination\", \"include\", \"gut\", \"microbiota\", \"axis\", \"endocrine\", \"environmental\", \"tract\", \"reaction\", \"production\", \"adverse\", \"problem\", \"attention\", \"drug\", \"play\", \"alter\", \"scientific\", \"alteration\", \"failure\", \"compromise\", \"emphasize\", \"gland\", \"supplementation\", \"commonly\", \"progression\", \"mechanistic\", \"interaction\", \"virus\", \"employ\", \"metabolism\", \"viral\", \"liver\", \"role\", \"infection\", \"disorder\", \"thyroid\", \"relate\", \"function\", \"hormone\", \"metabolic\", \"cause\", \"severe\", \"particularly\", \"dysfunction\", \"review\", \"impact\", \"include\", \"potential\", \"respiratory\", \"key\", \"research\", \"disease\", \"aim\", \"analysis\", \"clinical\", \"management\", \"identify\", \"hyperthyroidism\", \"tsh\", \"causal\", \"stimulate\", \"autoimmune\", \"hormone\", \"thyroid\", \"hypothyroidism\", \"pregnant\", \"pregnancy\", \"detection\", \"genetic\", \"valuable\", \"uncertain\", \"testing\", \"maternal\", \"serum\", \"date\", \"reproductive\", \"agonist\", \"laboratory\", \"disorder\", \"exposure\", \"median\", \"machine\", \"detect\", \"investigation\", \"pattern\", \"delay\", \"relationship\", \"woman\", \"diagnosis\", \"association\", \"metabolism\", \"cancer\", \"common\", \"function\", \"effect\", \"remain\", \"disease\", \"level\", \"metabolic\", \"condition\", \"study\", \"associate\", \"aim\", \"potential\", \"risk\", \"case\", \"survival\", \"peptide\", \"intermediate\", \"sodium\", \"innovative\", \"infant\", \"vitro\", \"glucagon\", \"unit\", \"delay\", \"progress\", \"grow\", \"obesity\", \"consideration\", \"glp\", \"ventilation\", \"cervical\", \"article\", \"admission\", \"threaten\", \"exacerbate\", \"practical\", \"hemoglobin\", \"intensive\", \"property\", \"class\", \"advanced\", \"combination\", \"scientific\", \"summarize\", \"receptor\", \"life\", \"use\", \"value\", \"cancer\", \"inhibitor\", \"type\", \"complication\", \"treatment\", \"therapy\", \"insulin\", \"need\", \"respiratory\", \"clinical\", \"diabete\", \"mortality\", \"trial\", \"diabetes\", \"care\", \"early\", \"include\", \"support\", \"remain\", \"associate\", \"cell\", \"pressure\", \"glucose\", \"review\"], \"Freq\": [309.0, 213.0, 271.0, 227.0, 134.0, 176.0, 134.0, 223.0, 130.0, 64.0, 89.0, 105.0, 165.0, 89.0, 85.0, 60.0, 95.0, 55.0, 89.0, 78.0, 88.0, 71.0, 77.0, 92.0, 182.0, 167.0, 159.0, 181.0, 61.0, 219.0, 28.32324861556898, 19.79553366635913, 9.45585514745352, 18.85853827215376, 8.566175608533674, 8.571936645527696, 12.155417209773685, 9.780196316851926, 14.086397064013703, 27.49928757272907, 6.67730308177724, 10.350361079899468, 13.222173794912385, 25.899878803891152, 8.816179568424015, 8.041351534156025, 10.900568866954663, 6.557711177247856, 22.289899834298, 8.709879594662345, 20.651806822649966, 18.69116238441443, 5.707618276987828, 30.591548230618134, 13.007652964264066, 6.790357319173938, 16.163729508758408, 9.773744643367813, 11.180194414016237, 8.474356965191529, 13.049728581589738, 19.360663785530527, 36.59338033968747, 61.56152011114221, 63.569682489737424, 39.53951414039935, 13.48438885289995, 23.434019530453895, 35.11500763121464, 58.867678776293296, 21.66029303659567, 40.8362209665814, 26.250580251338697, 22.121094302151167, 35.0354721056504, 31.189917835476685, 36.75666077991356, 41.52452272911655, 60.285722640610445, 31.179020290361397, 55.68038008784367, 34.87114039307052, 26.988797027187463, 31.961811873947457, 27.265021525448013, 25.143745251362407, 29.822767162225663, 31.61025049001419, 29.898291084084022, 28.13497842106787, 26.321647552359813, 26.06918094935849, 9.03655613993604, 13.694532101778641, 22.315992667240465, 13.189223800697894, 21.158180990959654, 9.38731080133449, 13.530994120880187, 11.393449639133312, 11.4141520405537, 5.545670260979564, 7.340400836954348, 10.96751820062233, 53.200852750645886, 6.070732924389399, 9.071936067716171, 18.36100328597463, 5.281199533378993, 7.456727956284721, 5.602410029299276, 12.919260882142286, 7.793353122275946, 5.498497518998965, 88.77379039845657, 5.497075707891801, 5.425802970609036, 11.26130635641448, 9.885502125926177, 22.430422718269078, 7.8018077497439595, 7.154092590779438, 15.822885307405882, 20.386341524315934, 61.022774275972345, 87.1090674181824, 25.64581883354447, 20.602446911413217, 116.4866235658317, 80.04528013015053, 35.45566793504436, 13.044630759718984, 13.707901680734093, 28.564204945296016, 32.75194361666152, 49.26063000646378, 22.378580079292007, 19.580018187727728, 34.29002837672091, 38.629411717690125, 45.65387543334588, 34.59126222856171, 60.85615306402396, 37.65574438217008, 31.124944176208334, 36.939167426066206, 20.84074680949809, 31.48591587717142, 31.677844534731992, 36.17666082258135, 26.07707711311154, 21.792944401252303, 24.294155688303285, 24.046473421101783, 24.397193428329793, 22.285663337272062, 8.825868535978572, 6.850185456547771, 14.476368551459872, 12.07809077679032, 11.024888701243254, 6.537891991173309, 5.71230423716329, 19.45706395040011, 8.846003259688185, 9.29541345054638, 9.316673787039022, 60.43618979741118, 9.18494365738166, 13.811386795630245, 16.942313114389684, 6.302282289727771, 8.721304495031077, 8.540172780581951, 7.280933879037841, 5.467656663772175, 13.18279985311853, 9.548529588427629, 10.704220008082201, 5.842657998714671, 25.08077401015597, 13.300779303843948, 5.0776926658368025, 11.036345433331897, 6.069856252160302, 16.581923849349643, 39.82314380820314, 14.046300883235446, 28.711959984374563, 75.1187163732742, 76.8779637105928, 20.944598392108617, 44.34978261302323, 24.463888053991923, 30.46468211095591, 16.398213069967788, 21.0841279410332, 20.45411726552117, 54.93075823732144, 21.708497550502234, 25.844554291952036, 43.6911765434605, 46.586598106520675, 20.11801411787072, 54.933314084168714, 32.29365243018297, 40.029372415586074, 26.98271412836202, 27.789917802305997, 28.59532161026523, 38.886685981235104, 29.236144483813575, 21.94672996688116, 24.649300254676177, 26.545253821727606, 23.47853479649511, 22.66290574369995, 21.85387619951552, 16.122054352381042, 16.11943866763105, 12.133111468348108, 21.173370180362117, 8.45649888304092, 18.740215995684462, 21.924244049018185, 12.581909590124818, 9.268492839551836, 14.496320107558198, 9.770827088589037, 10.513057758715547, 47.384543088480875, 33.083058703413705, 13.987820315896023, 27.80841982946621, 30.51369673897947, 14.180758713705426, 8.494919707843822, 19.52424576566998, 5.34527837659363, 12.259821948432277, 41.67334261680866, 7.612825400033198, 22.725517511005673, 6.7297870054235975, 15.52115606886823, 4.749538635206561, 5.286706484246679, 10.405162669254262, 20.018395132951603, 11.337021332671311, 14.883662601745366, 15.85624892564133, 12.904725505559702, 48.052706412535244, 12.751946638451154, 18.71631336512946, 22.55165454711354, 44.82296869625273, 63.48908989261403, 31.114084086987184, 18.63409850422674, 15.406367925629931, 29.425870818383984, 20.09697548845536, 22.924266846947706, 34.39174907882868, 25.59867410086926, 26.82289082289479, 22.85836531787349, 20.23530326926295, 17.640145925133925, 17.592918707475956, 16.635697053067684, 16.534399132344635, 29.73266219883238, 25.74740601799487, 19.651804475525147, 12.28712828676149, 12.79273834084021, 9.577835028274462, 7.331804624276353, 18.570637914750023, 18.326774028904985, 19.687025846210325, 8.07347790363789, 7.414519920747125, 46.76645120640036, 7.349847292664333, 6.10779995687233, 6.049736442422705, 9.94867696371936, 6.6050903655041715, 7.993805401928176, 9.768831300818297, 7.353915952590978, 4.308955224004802, 10.265660221433171, 5.236150468876109, 4.272222669198487, 4.227531337443808, 5.468567182287146, 26.24717181808822, 4.431941780526754, 4.36331472971496, 13.364183064959203, 16.84875954812222, 21.957418278277945, 14.582174013925721, 70.15051202725748, 22.49227835071737, 16.265692891352963, 63.93111821558044, 27.86318483362358, 18.273919276745236, 14.465255646558031, 26.28594891611725, 19.687855011565404, 25.929220192076507, 16.67741131703523, 13.035021062823835, 21.08234470050337, 20.137600049845826, 26.257593881894365, 26.886739738889002, 27.454324607495586, 21.30391947166659, 22.986656089078185, 21.356601733223275, 20.890551793726964, 22.876299930004233, 19.153783251443485, 19.474886613649765, 19.388638285967126, 211.85845411566942, 19.449016469830454, 29.373841685035003, 199.55205398009528, 15.669176672338239, 20.846569410613252, 261.358402064729, 25.556767616970664, 21.03390039824275, 12.741923084128581, 103.77705445545242, 24.92901227290881, 22.50073295953925, 9.042781955308131, 19.65214833687872, 11.913381155614799, 8.195472289590251, 59.67808559040227, 9.351728099077521, 15.335753609562804, 14.776958883770078, 50.452458530959625, 21.460721294151334, 8.474955906312397, 6.199710047401932, 26.4719563053645, 11.080011751073757, 10.106021228336559, 4.9195636237040645, 14.770383056385246, 28.637368185450605, 35.511034138043094, 31.93718490582516, 32.30844601595321, 38.03512776077613, 36.8417444711677, 18.448121598990124, 34.75583671272167, 26.88219319188052, 18.812003215134364, 29.016041648162766, 23.150661013261182, 17.224817815592793, 17.096321520906958, 17.399967846269792, 16.371583791067653, 19.68340812794103, 13.475679277712835, 8.671858551800483, 9.061196884046042, 7.561733605643628, 6.173994593446827, 8.504777065257008, 6.597532085779262, 4.7578749869291785, 32.32163056277465, 41.57366132600137, 12.131832295800406, 8.551333527145783, 10.638627687217813, 6.4085016081833945, 19.106273328865008, 6.252047427642087, 95.23912564896611, 10.35211564966205, 4.534979312502882, 4.494398147650983, 7.479738021082162, 11.07080920672849, 7.470981570629474, 5.270954310792011, 7.977570103676421, 5.99322656520946, 6.943614571211145, 4.543113797722524, 21.91070365299569, 9.826173780575685, 35.09347797671698, 15.451273640174279, 16.646187558605927, 11.918062746005717, 64.32303202536004, 13.091478689109518, 16.193531776878256, 21.252450832212272, 15.312535383745733, 17.79709900741889, 44.809705762763464, 11.834981946189144, 13.694316093977715, 12.99731295443244, 26.727715596880987, 19.584100020428053, 19.038303539760914, 18.072115434505726, 17.1029791942065, 19.964754646692626, 17.90585992837275, 16.472512116359425, 18.550706604335016, 14.154625916755112, 17.286243680449978, 18.244046332058154, 16.01010196229, 14.71904630480452, 16.068454932235195, 16.189311274892827, 15.497540446803006, 25.67357616222787, 18.142857334969865, 8.757981857433053, 12.29959449301847, 7.614984372937288, 10.65723332039749, 15.398156469087906, 9.230479272962873, 27.450967184356998, 15.672019329347785, 5.596243406596639, 45.004518613676474, 17.487372768050744, 6.478810514339074, 4.242466187473432, 9.499221639437197, 10.849436577251408, 4.518540051360499, 9.887885657029452, 5.389781232639475, 5.268037641420131, 5.753356527939506, 9.0385292990754, 3.814629152118499, 9.169585608849655, 12.525165169536923, 8.622168005752997, 13.811555410971579, 9.660479331795422, 6.5914169878230275, 35.43693733773629, 36.69524189270617, 52.379904481059384, 95.00808052491462, 28.117639286015642, 27.147427132807106, 22.68132253062109, 20.81151717087935, 20.158789993780495, 14.038226693369996, 19.40543375522948, 16.109615266009083, 25.5060725641404, 19.53543058496626, 31.02816085439874, 21.54140034523595, 25.04541873845649, 15.77461198658105, 16.818589539810958, 24.782675522656472, 19.059370888127443, 18.65347710090542, 19.115037000706405, 17.439170669488107, 15.765177848872122, 14.937482505396288, 20.973938949727685, 10.220529904955628, 8.783948191806356, 13.031125802505414, 33.58571564361176, 139.00995109380676, 26.844011309584978, 15.035646439997729, 22.877684147953993, 7.337206867861994, 9.412740918727794, 3.3580428900664723, 3.665925441726762, 8.614016269268815, 9.345660892464334, 10.103805324517339, 4.01051265603999, 5.473745250326226, 6.748370398358884, 4.266468439220063, 48.2048762667852, 10.709459600799743, 3.944590063751095, 8.273141341489913, 6.188834082727177, 4.406108796052108, 10.558924729479717, 4.230418816528936, 10.241414860759072, 36.58505117565968, 17.248754619539756, 24.23844724767358, 8.571581482265252, 16.545329039215602, 12.350793823237323, 14.506186884174129, 17.594867506508784, 18.188055959229647, 30.21849078497549, 19.62863557994164, 12.951494187688418, 12.292475202348967, 11.844103692536736, 12.777334601829777, 12.378606072522798, 11.516527059526098, 13.153631258138212, 11.10011835251112, 12.66872007395847, 9.131278141590759, 5.023733223327113, 4.41194936853638, 4.128217430338895, 7.187810699351486, 6.514180689062639, 4.302885901264915, 9.281493733628702, 5.719234257999527, 3.2328322863358743, 7.349591800673063, 15.069719493831412, 5.576650103743927, 10.022137451041894, 11.343319165650986, 7.9095633420287506, 6.700906524275383, 4.242573718557693, 2.7864243012682195, 3.745957328479135, 3.5701210861824952, 2.5469596976107, 6.385266645537494, 4.348508526895429, 2.8797290032238347, 6.5383722699803215, 5.308977615659105, 2.2546706351445853, 4.497279679123513, 7.412772881390506, 12.830715593320457, 24.001509699926082, 14.684495581316304, 21.769872865133312, 9.511283011408999, 20.869715190553414, 13.518018404171809, 29.566142018340564, 20.258211846819133, 14.983651016477921, 17.249334976812825, 23.38011084834835, 20.18702198330916, 14.78887336115988, 10.721205587271886, 8.309993259373814, 14.450922862629412, 15.64082002315549, 9.86471310911489, 14.79507995648014, 11.15514850636666, 11.978917256349217, 12.255034664280089, 9.579106742241562, 9.518855272886283, 9.70161860123037, 9.781191518449283], \"Total\": [309.0, 213.0, 271.0, 227.0, 134.0, 176.0, 134.0, 223.0, 130.0, 64.0, 89.0, 105.0, 165.0, 89.0, 85.0, 60.0, 95.0, 55.0, 89.0, 78.0, 88.0, 71.0, 77.0, 92.0, 182.0, 167.0, 159.0, 181.0, 61.0, 219.0, 29.279712272822636, 21.720863525872655, 10.407572213850148, 20.78364798138196, 9.461849934353534, 10.478558852460463, 15.148158534271456, 12.394181676996256, 17.954107889497646, 35.24982379166488, 8.591152100037325, 13.360843981986264, 17.105259228416692, 33.51511474770896, 11.421104519287482, 10.473591779216068, 14.272071014640442, 8.608861079670886, 29.38423261504946, 11.487895177264562, 27.41556339314637, 24.892880713957453, 7.6356783472184535, 40.92895358463931, 18.269809782707302, 9.568947530855926, 23.08683675237621, 14.133737767747828, 16.25137992248525, 12.320623760337927, 19.117916962592044, 30.617335019366493, 64.96886759768161, 119.52929561962539, 138.06149773604935, 78.6824864995872, 20.796023518734167, 43.9599704888494, 82.38661271148017, 182.00705457071214, 42.284646135020765, 119.57030968356612, 60.801477455335736, 46.801295580947134, 101.80682128870959, 83.92717320545182, 116.00982771104053, 151.94441553963273, 322.6287413438448, 97.59262639976478, 353.10095895523574, 130.76901724017813, 85.38504741091182, 154.36523484261957, 96.51957482931073, 74.82860520232397, 159.44686015421752, 222.95912459500337, 195.1342257036509, 229.08433516370803, 155.70554085157002, 156.6360670334271, 9.989856229509801, 15.954625127269177, 26.816098961870974, 16.856956901550546, 30.660688692278228, 13.801134103410572, 20.59610549321255, 17.76783435895281, 17.802268633544504, 8.85994127537457, 11.786362141931331, 17.706497706005113, 86.12336747831309, 9.834139739839914, 14.766144218679356, 30.666112427517273, 8.849130475861848, 12.783070256328548, 9.770277459685008, 22.59602310202893, 13.78343267610864, 9.797203629313145, 159.44686015421752, 9.89088956746647, 9.8413686773267, 20.502878756062778, 18.668266637224512, 42.389294776924096, 14.794897892716019, 13.751683531390487, 30.473750480442437, 40.42711004663326, 131.3975248396694, 195.1342257036509, 52.47989380409807, 42.10093565614778, 322.6287413438448, 222.95912459500337, 92.9303958147802, 26.26950432080827, 28.19201861977218, 73.41341859555752, 87.92138710595371, 154.36523484261957, 54.42829600757342, 45.677244525708545, 105.05146214073974, 138.06149773604935, 182.00705457071214, 123.54731829964848, 353.10095895523574, 151.94441553963273, 110.79315916521034, 155.70554085157002, 52.40399496891986, 130.27868623830497, 145.20015832903002, 229.08433516370803, 119.57030968356612, 63.3053906260867, 130.76901724017813, 129.25389242498792, 156.6360670334271, 98.11910627603379, 9.775491677150923, 7.816568254743153, 17.50782098023304, 14.7263029328184, 14.56683001751585, 8.74618633831582, 7.766055581037079, 27.11731823701552, 12.579157781795523, 13.53412355185789, 13.6727708725747, 89.04430155945327, 13.537679821689968, 20.451065330475558, 26.13737794896659, 9.739776801476962, 13.55343361522819, 13.527470848348552, 11.605393982150687, 8.854809364480829, 21.386126749112766, 15.529566629140785, 17.448976801306824, 9.694081182190002, 41.782421873488595, 22.164216445207373, 8.757672368868569, 19.278718933906244, 10.613190978784084, 29.140771133346448, 71.12735273420911, 24.92982808049978, 53.181510094236785, 167.81638123981486, 181.72923476336186, 42.45618398350269, 110.70165073759088, 53.12099324972271, 72.5316398911497, 31.94694126412095, 45.43432689539318, 43.97189974233551, 185.27530396437, 51.09077069216741, 74.13496348682449, 182.00705457071214, 219.14584444781116, 51.70666034841775, 322.6287413438448, 130.16374735097398, 223.6303079680503, 103.99287165933058, 112.66911090715075, 120.48655028152267, 353.10095895523574, 165.02219153835867, 76.82544630054923, 123.54731829964848, 229.08433516370803, 129.25389242498792, 115.16659063047139, 102.02832848305373, 17.008633993509967, 17.00834147156378, 13.234725375785548, 23.66096101096519, 9.463423747330722, 21.783358428750606, 25.61778412150328, 15.10101842638083, 11.346406407913625, 18.017366878319432, 12.306498150975836, 13.278171682618165, 60.69080172561798, 42.74856058940448, 18.10083850130197, 37.066084653545886, 40.845134153862574, 19.02545858889636, 11.419045520153313, 27.520490433493666, 7.622568950511064, 17.920980760190286, 61.74018052019945, 11.449826127882739, 34.94722414447956, 10.53777478723009, 24.730924884938847, 7.602917101017567, 8.505214844140012, 17.05443450080391, 34.471869537511395, 19.045778174101823, 25.635589338039132, 27.5491411372672, 21.955527146568873, 105.64233243394489, 21.87308611573651, 37.16460709750863, 49.9198554142823, 165.02219153835867, 353.10095895523574, 105.07164519937687, 42.19036380351476, 29.634180809193797, 118.33555727861774, 55.015814129437636, 77.36939064181435, 322.6287413438448, 181.72923476336186, 229.08433516370803, 222.95912459500337, 182.00705457071214, 106.06048891193619, 167.81638123981486, 66.06912490298679, 66.26952163438641, 34.719585884438885, 32.19675440253391, 25.516427635927865, 16.05984615165617, 17.084745891437812, 13.321295904767327, 10.416226025940901, 26.458567634057278, 27.47487560251658, 31.39059957539276, 13.250557352289887, 12.324200118194785, 77.8958091453305, 12.405153452673867, 10.40930284750776, 10.367386363477303, 17.10071241860563, 11.40256524498871, 14.391019696243063, 18.043193030475784, 14.314597380696318, 8.558007163578536, 20.390945752796064, 10.456025227999511, 8.59397818529524, 8.56269197432543, 11.495493753071859, 55.354704455661334, 9.455700710912339, 9.461313809521352, 29.018420513613457, 39.02994722891193, 54.0906418793664, 34.31862649265598, 219.14584444781116, 58.57488055427105, 41.64516051863384, 223.6303079680503, 89.86277475737081, 49.93685892782633, 39.03789679772031, 102.02832848305373, 68.75019279785162, 112.66911090715075, 51.70666034841775, 34.51018018717433, 94.83168214275771, 89.87901167434205, 181.72923476336186, 195.1342257036509, 229.08433516370803, 119.52929561962539, 155.70554085157002, 130.27868623830497, 120.48655028152267, 271.9600389738645, 156.6360670334271, 222.95912459500337, 322.6287413438448, 213.81172531211203, 20.41087043123067, 32.50687125391367, 227.92515660598582, 18.288884710803682, 24.352851387630704, 309.2098107619759, 30.312603270111854, 25.341851877015237, 16.10741034814485, 134.2757545048494, 32.342810098234025, 29.259813684991794, 12.046930660047867, 28.035183337601453, 17.156813995745054, 11.995970478286688, 89.40208720798039, 14.04719424763241, 24.32188923621253, 23.80558205616947, 85.50588464528812, 37.71298757905845, 15.04084198277375, 11.016105612841661, 47.61749630744981, 20.702850442122998, 18.889989071586314, 9.831702586770943, 29.621853646296678, 59.4320008709447, 89.71529945914556, 85.69610289278933, 88.96521013482365, 115.16659063047139, 110.79315916521034, 42.38185434087941, 219.14584444781116, 130.76901724017813, 58.57488055427105, 222.95912459500337, 123.54731829964848, 80.40376096126101, 81.32187617235041, 130.16374735097398, 17.380582983750415, 23.1179914811652, 19.14186714249109, 12.528298938123486, 13.447061301019458, 11.543575913194152, 9.578824812505312, 13.458690906544724, 10.621956973149317, 7.693142790919778, 53.93241912622828, 69.45679183881366, 20.3547387174952, 14.407111644388902, 18.586419086235225, 11.458505645544863, 35.31876749228646, 11.56703253486483, 176.4327177390785, 19.384464821627663, 8.593081191565087, 8.806610615789522, 14.819122923640792, 21.95622067047604, 14.821686113096712, 10.756909890885165, 16.428924388798677, 12.572709744777228, 14.57798828678797, 9.5538385399673, 46.801295580947134, 21.001931038450284, 95.69700229838489, 37.22972688340954, 41.20854822370845, 27.789971144879008, 223.6303079680503, 31.708439390677384, 42.67804571690212, 70.15677555983994, 46.011219365500146, 63.04666133172833, 353.10095895523574, 31.73925550395883, 42.38185434087941, 38.372982133474366, 185.27530396437, 94.83168214275771, 89.87901167434205, 87.41926495171565, 77.8958091453305, 131.3975248396694, 112.66911090715075, 85.50588464528812, 130.27868623830497, 53.12099324972271, 145.20015832903002, 219.14584444781116, 109.3099281579103, 68.75019279785162, 227.92515660598582, 309.2098107619759, 229.08433516370803, 27.058495915025233, 19.327029245419975, 11.550699009376643, 18.465454859580447, 11.546191228971919, 16.526365696202863, 23.96981775040385, 14.391747750125049, 45.35101893215944, 26.97269455486206, 9.701804037382884, 78.32136303593182, 31.075818205360534, 11.658199959480493, 7.654615722417978, 17.45991064578238, 20.250885553973056, 8.620357547247847, 19.10545901209112, 10.515835215028323, 10.525457439346692, 11.514511994120827, 18.19443839030929, 7.744482540040754, 19.190548621114186, 26.44291624403868, 18.33208912683482, 30.460812858064436, 21.314246701102274, 14.60057356189006, 82.3303656207014, 88.96521013482365, 134.6342029894925, 271.9600389738645, 80.40376096126101, 77.83648887956032, 64.2920283448604, 72.92590941181072, 71.72313733818264, 41.446650494830294, 74.82860520232397, 53.484585449583136, 130.16374735097398, 78.1807037579223, 229.08433516370803, 105.07164519937687, 176.4327177390785, 55.94741630494729, 74.57966058675541, 353.10095895523574, 156.6360670334271, 151.94441553963273, 185.27530396437, 181.72923476336186, 106.06048891193619, 16.20177656246475, 23.302283092921844, 13.142774498810446, 13.861366473352117, 23.711966776227193, 64.2920283448604, 271.9600389738645, 55.015814129437636, 31.73925550395883, 48.65543953146759, 16.767290025078808, 21.760008843939193, 7.844470028376205, 8.8781259125454, 21.011661708735172, 22.94405849491997, 27.183919321398626, 10.791586851829805, 14.835386419576304, 18.568544578139694, 11.748843224688217, 134.6342029894925, 30.12671590974562, 11.73562056074868, 24.809959753698358, 18.681759231414855, 13.610847877371738, 32.918358580814, 13.448168093300986, 35.04693331223657, 130.27868623830497, 61.990267020339935, 92.9303958147802, 30.460812858064436, 89.71529945914556, 57.84689579928955, 77.83648887956032, 118.33555727861774, 129.25389242498792, 353.10095895523574, 155.70554085157002, 72.92590941181072, 69.56992868767956, 98.11910627603379, 154.36523484261957, 156.6360670334271, 105.07164519937687, 322.6287413438448, 87.92138710595371, 19.68887699652464, 15.19058776371421, 8.494930369987966, 7.526254350041837, 8.442221162400354, 15.169471618508208, 14.22101987665663, 9.563783651256164, 21.80198507407772, 13.448168093300986, 7.628215986878038, 17.416412298785637, 36.00491459875322, 13.371978046995782, 24.92982808049978, 28.263733821569044, 20.12567161124137, 18.229154477436843, 11.584075897914772, 7.6338696546323375, 10.35687529922258, 10.55953942107833, 7.542137405654161, 20.835128790533986, 14.204412453308322, 9.53628781813282, 21.837965523021367, 17.997738763248435, 7.654615722417978, 15.3376171889512, 26.052141720907688, 47.281675032633935, 95.69700229838489, 55.783066975295725, 89.71529945914556, 36.97993577758949, 103.99287165933058, 59.29461488530568, 165.02219153835867, 105.64233243394489, 71.12735273420911, 90.71991369875693, 176.4327177390785, 185.27530396437, 110.70165073759088, 59.064996960246376, 36.213260594911496, 167.81638123981486, 223.6303079680503, 62.457484582078685, 229.08433516370803, 94.83168214275771, 129.25389242498792, 154.36523484261957, 61.74018052019945, 64.96886759768161, 89.04430155945327, 130.16374735097398], \"Category\": [\"Default\", \"Default\", \"Default\", \"Default\", \"Default\", \"Default\", \"Default\", \"Default\", \"Default\", \"Default\", \"Default\", \"Default\", \"Default\", \"Default\", \"Default\", \"Default\", \"Default\", \"Default\", \"Default\", \"Default\", \"Default\", \"Default\", \"Default\", \"Default\", \"Default\", \"Default\", \"Default\", \"Default\", \"Default\", \"Default\", \"Topic1\", \"Topic1\", \"Topic1\", \"Topic1\", \"Topic1\", \"Topic1\", \"Topic1\", \"Topic1\", \"Topic1\", \"Topic1\", \"Topic1\", \"Topic1\", \"Topic1\", \"Topic1\", \"Topic1\", \"Topic1\", \"Topic1\", \"Topic1\", \"Topic1\", \"Topic1\", \"Topic1\", \"Topic1\", \"Topic1\", \"Topic1\", \"Topic1\", \"Topic1\", \"Topic1\", \"Topic1\", \"Topic1\", \"Topic1\", \"Topic1\", \"Topic1\", \"Topic1\", \"Topic1\", \"Topic1\", \"Topic1\", \"Topic1\", \"Topic1\", \"Topic1\", \"Topic1\", \"Topic1\", \"Topic1\", \"Topic1\", \"Topic1\", \"Topic1\", \"Topic1\", \"Topic1\", \"Topic1\", \"Topic1\", \"Topic1\", \"Topic1\", \"Topic1\", \"Topic1\", \"Topic1\", \"Topic1\", \"Topic1\", \"Topic1\", \"Topic1\", \"Topic1\", \"Topic1\", \"Topic1\", \"Topic1\", \"Topic2\", \"Topic2\", \"Topic2\", \"Topic2\", \"Topic2\", \"Topic2\", \"Topic2\", \"Topic2\", \"Topic2\", \"Topic2\", \"Topic2\", \"Topic2\", \"Topic2\", \"Topic2\", \"Topic2\", \"Topic2\", \"Topic2\", \"Topic2\", \"Topic2\", \"Topic2\", \"Topic2\", \"Topic2\", \"Topic2\", \"Topic2\", \"Topic2\", \"Topic2\", \"Topic2\", \"Topic2\", \"Topic2\", \"Topic2\", \"Topic2\", \"Topic2\", \"Topic2\", \"Topic2\", \"Topic2\", \"Topic2\", \"Topic2\", \"Topic2\", \"Topic2\", \"Topic2\", \"Topic2\", \"Topic2\", \"Topic2\", \"Topic2\", \"Topic2\", \"Topic2\", \"Topic2\", \"Topic2\", \"Topic2\", \"Topic2\", \"Topic2\", \"Topic2\", \"Topic2\", \"Topic2\", \"Topic2\", \"Topic2\", \"Topic2\", \"Topic2\", \"Topic2\", \"Topic2\", \"Topic2\", \"Topic2\", \"Topic2\", \"Topic2\", \"Topic3\", \"Topic3\", \"Topic3\", \"Topic3\", \"Topic3\", \"Topic3\", \"Topic3\", \"Topic3\", \"Topic3\", \"Topic3\", \"Topic3\", \"Topic3\", \"Topic3\", \"Topic3\", \"Topic3\", \"Topic3\", \"Topic3\", \"Topic3\", \"Topic3\", \"Topic3\", \"Topic3\", \"Topic3\", \"Topic3\", \"Topic3\", \"Topic3\", \"Topic3\", \"Topic3\", \"Topic3\", \"Topic3\", \"Topic3\", \"Topic3\", \"Topic3\", \"Topic3\", \"Topic3\", \"Topic3\", \"Topic3\", \"Topic3\", \"Topic3\", \"Topic3\", \"Topic3\", \"Topic3\", \"Topic3\", \"Topic3\", \"Topic3\", \"Topic3\", \"Topic3\", \"Topic3\", \"Topic3\", \"Topic3\", \"Topic3\", \"Topic3\", \"Topic3\", \"Topic3\", \"Topic3\", \"Topic3\", \"Topic3\", \"Topic3\", \"Topic3\", \"Topic3\", \"Topic3\", \"Topic3\", \"Topic3\", \"Topic4\", \"Topic4\", \"Topic4\", \"Topic4\", \"Topic4\", \"Topic4\", \"Topic4\", \"Topic4\", \"Topic4\", \"Topic4\", \"Topic4\", \"Topic4\", \"Topic4\", \"Topic4\", \"Topic4\", \"Topic4\", \"Topic4\", \"Topic4\", \"Topic4\", \"Topic4\", \"Topic4\", \"Topic4\", \"Topic4\", \"Topic4\", \"Topic4\", \"Topic4\", \"Topic4\", \"Topic4\", \"Topic4\", \"Topic4\", \"Topic4\", \"Topic4\", \"Topic4\", \"Topic4\", \"Topic4\", \"Topic4\", \"Topic4\", \"Topic4\", \"Topic4\", \"Topic4\", \"Topic4\", \"Topic4\", \"Topic4\", \"Topic4\", \"Topic4\", \"Topic4\", \"Topic4\", \"Topic4\", \"Topic4\", \"Topic4\", \"Topic4\", \"Topic4\", \"Topic4\", \"Topic4\", \"Topic4\", \"Topic4\", \"Topic5\", \"Topic5\", \"Topic5\", \"Topic5\", \"Topic5\", \"Topic5\", \"Topic5\", \"Topic5\", \"Topic5\", \"Topic5\", \"Topic5\", \"Topic5\", \"Topic5\", \"Topic5\", \"Topic5\", \"Topic5\", \"Topic5\", \"Topic5\", \"Topic5\", \"Topic5\", \"Topic5\", \"Topic5\", \"Topic5\", \"Topic5\", \"Topic5\", \"Topic5\", \"Topic5\", \"Topic5\", \"Topic5\", \"Topic5\", \"Topic5\", \"Topic5\", \"Topic5\", \"Topic5\", \"Topic5\", \"Topic5\", \"Topic5\", \"Topic5\", \"Topic5\", \"Topic5\", \"Topic5\", \"Topic5\", \"Topic5\", \"Topic5\", \"Topic5\", \"Topic5\", \"Topic5\", \"Topic5\", \"Topic5\", \"Topic5\", \"Topic5\", \"Topic5\", \"Topic5\", \"Topic5\", \"Topic5\", \"Topic5\", \"Topic5\", \"Topic5\", \"Topic5\", \"Topic6\", \"Topic6\", \"Topic6\", \"Topic6\", \"Topic6\", \"Topic6\", \"Topic6\", \"Topic6\", \"Topic6\", \"Topic6\", \"Topic6\", \"Topic6\", \"Topic6\", \"Topic6\", \"Topic6\", \"Topic6\", \"Topic6\", \"Topic6\", \"Topic6\", \"Topic6\", \"Topic6\", \"Topic6\", \"Topic6\", \"Topic6\", \"Topic6\", \"Topic6\", \"Topic6\", \"Topic6\", \"Topic6\", \"Topic6\", \"Topic6\", \"Topic6\", \"Topic6\", \"Topic6\", \"Topic6\", \"Topic6\", \"Topic6\", \"Topic6\", \"Topic6\", \"Topic6\", \"Topic6\", \"Topic6\", \"Topic6\", \"Topic6\", \"Topic6\", \"Topic7\", \"Topic7\", \"Topic7\", \"Topic7\", \"Topic7\", \"Topic7\", \"Topic7\", \"Topic7\", \"Topic7\", \"Topic7\", \"Topic7\", \"Topic7\", \"Topic7\", \"Topic7\", \"Topic7\", \"Topic7\", \"Topic7\", \"Topic7\", \"Topic7\", \"Topic7\", \"Topic7\", \"Topic7\", \"Topic7\", \"Topic7\", \"Topic7\", \"Topic7\", \"Topic7\", \"Topic7\", \"Topic7\", \"Topic7\", \"Topic7\", \"Topic7\", \"Topic7\", \"Topic7\", \"Topic7\", \"Topic7\", \"Topic7\", \"Topic7\", \"Topic7\", \"Topic7\", \"Topic7\", \"Topic7\", \"Topic7\", \"Topic7\", \"Topic7\", \"Topic7\", \"Topic7\", \"Topic7\", \"Topic7\", \"Topic7\", \"Topic7\", \"Topic7\", \"Topic7\", \"Topic7\", \"Topic7\", \"Topic7\", \"Topic7\", \"Topic7\", \"Topic7\", \"Topic7\", \"Topic7\", \"Topic7\", \"Topic7\", \"Topic8\", \"Topic8\", \"Topic8\", \"Topic8\", \"Topic8\", \"Topic8\", \"Topic8\", \"Topic8\", \"Topic8\", \"Topic8\", \"Topic8\", \"Topic8\", \"Topic8\", \"Topic8\", \"Topic8\", \"Topic8\", \"Topic8\", \"Topic8\", \"Topic8\", \"Topic8\", \"Topic8\", \"Topic8\", \"Topic8\", \"Topic8\", \"Topic8\", \"Topic8\", \"Topic8\", \"Topic8\", \"Topic8\", \"Topic8\", \"Topic8\", \"Topic8\", \"Topic8\", \"Topic8\", \"Topic8\", \"Topic8\", \"Topic8\", \"Topic8\", \"Topic8\", \"Topic8\", \"Topic8\", \"Topic8\", \"Topic8\", \"Topic8\", \"Topic8\", \"Topic8\", \"Topic8\", \"Topic8\", \"Topic8\", \"Topic8\", \"Topic8\", \"Topic8\", \"Topic8\", \"Topic8\", \"Topic8\", \"Topic9\", \"Topic9\", \"Topic9\", \"Topic9\", \"Topic9\", \"Topic9\", \"Topic9\", \"Topic9\", \"Topic9\", \"Topic9\", \"Topic9\", \"Topic9\", \"Topic9\", \"Topic9\", \"Topic9\", \"Topic9\", \"Topic9\", \"Topic9\", \"Topic9\", \"Topic9\", \"Topic9\", \"Topic9\", \"Topic9\", \"Topic9\", \"Topic9\", \"Topic9\", \"Topic9\", \"Topic9\", \"Topic9\", \"Topic9\", \"Topic9\", \"Topic9\", \"Topic9\", \"Topic9\", \"Topic9\", \"Topic9\", \"Topic9\", \"Topic9\", \"Topic9\", \"Topic9\", \"Topic9\", \"Topic9\", \"Topic9\", \"Topic9\", \"Topic9\", \"Topic9\", \"Topic9\", \"Topic9\", \"Topic9\", \"Topic10\", \"Topic10\", \"Topic10\", \"Topic10\", \"Topic10\", \"Topic10\", \"Topic10\", \"Topic10\", \"Topic10\", \"Topic10\", \"Topic10\", \"Topic10\", \"Topic10\", \"Topic10\", \"Topic10\", \"Topic10\", \"Topic10\", \"Topic10\", \"Topic10\", \"Topic10\", \"Topic10\", \"Topic10\", \"Topic10\", \"Topic10\", \"Topic10\", \"Topic10\", \"Topic10\", \"Topic10\", \"Topic10\", \"Topic10\", \"Topic10\", \"Topic10\", \"Topic10\", \"Topic10\", \"Topic10\", \"Topic10\", \"Topic10\", \"Topic10\", \"Topic10\", \"Topic10\", \"Topic10\", \"Topic10\", \"Topic10\", \"Topic10\", \"Topic10\", \"Topic10\", \"Topic10\", \"Topic10\", \"Topic10\", \"Topic10\", \"Topic10\", \"Topic10\", \"Topic10\", \"Topic10\", \"Topic10\", \"Topic10\", \"Topic10\", \"Topic10\"], \"logprob\": [30.0, 29.0, 28.0, 27.0, 26.0, 25.0, 24.0, 23.0, 22.0, 21.0, 20.0, 19.0, 18.0, 17.0, 16.0, 15.0, 14.0, 13.0, 12.0, 11.0, 10.0, 9.0, 8.0, 7.0, 6.0, 5.0, 4.0, 3.0, 2.0, 1.0, -5.0938, -5.452, -6.1908, -5.5005, -6.2896, -6.289, -5.9397, -6.1571, -5.7922, -5.1233, -6.5387, -6.1004, -5.8556, -5.1832, -6.2609, -6.3528, -6.0486, -6.5568, -5.3333, -6.273, -5.4096, -5.5094, -6.6956, -5.0167, -5.8719, -6.5219, -5.6547, -6.1577, -6.0233, -6.3004, -5.8687, -5.4742, -4.8376, -4.3174, -4.2853, -4.7601, -5.8359, -5.2833, -4.8788, -4.3622, -5.362, -4.7279, -5.1698, -5.3409, -4.8811, -4.9974, -4.8331, -4.7112, -4.3384, -4.9977, -4.4178, -4.8858, -5.142, -4.9729, -5.1318, -5.2128, -5.0422, -4.984, -5.0396, -5.1004, -5.1671, -5.1767, -6.154, -5.7383, -5.25, -5.7759, -5.3032, -6.1159, -5.7503, -5.9222, -5.9204, -6.6423, -6.3619, -5.9603, -4.3812, -6.5518, -6.1501, -5.445, -6.6911, -6.3462, -6.6321, -5.7965, -6.302, -6.6508, -3.8692, -6.6511, -6.6641, -5.9339, -6.0642, -5.2449, -6.3009, -6.3876, -5.5938, -5.3404, -4.244, -3.8881, -5.1109, -5.3299, -3.5975, -3.9727, -4.787, -5.7869, -5.7373, -5.0031, -4.8663, -4.4581, -5.2472, -5.3808, -4.8204, -4.7013, -4.5342, -4.8117, -4.2468, -4.7268, -4.9173, -4.746, -5.3184, -4.9057, -4.8997, -4.7669, -5.0942, -5.2737, -5.165, -5.1753, -5.1608, -5.2513, -6.1136, -6.367, -5.6187, -5.7999, -5.8911, -6.4136, -6.5486, -5.323, -6.1113, -6.0617, -6.0594, -4.1897, -6.0737, -5.6658, -5.4614, -6.4503, -6.1255, -6.1465, -6.306, -6.5924, -5.7123, -6.0349, -5.9206, -6.5261, -5.0692, -5.7034, -6.6664, -5.8901, -6.4879, -5.4829, -4.6068, -5.6489, -4.9339, -3.9722, -3.949, -5.2494, -4.4991, -5.0941, -4.8747, -5.4941, -5.2427, -5.2731, -4.2852, -5.2136, -5.0392, -4.5141, -4.4499, -5.2896, -4.2851, -4.8164, -4.6016, -4.9961, -4.9666, -4.938, -4.6306, -4.9158, -5.2026, -5.0865, -5.0124, -5.1352, -5.1705, -5.2069, -5.314, -5.3141, -5.5982, -5.0414, -5.9592, -5.1635, -5.0066, -5.5619, -5.8675, -5.4203, -5.8148, -5.7415, -4.2359, -4.5951, -5.456, -4.7688, -4.676, -5.4423, -5.9547, -5.1225, -6.418, -5.5878, -4.3643, -6.0643, -4.9707, -6.1876, -5.352, -6.5361, -6.429, -5.7519, -5.0975, -5.6661, -5.3939, -5.3306, -5.5366, -4.2219, -5.5485, -5.1648, -4.9784, -4.2914, -3.9433, -4.6565, -5.1692, -5.3594, -4.7123, -5.0936, -4.962, -4.5563, -4.8516, -4.8049, -4.9648, -5.0867, -5.224, -5.2267, -5.2826, -5.2887, -4.694, -4.8379, -5.108, -5.5776, -5.5373, -5.8267, -6.094, -5.1646, -5.1778, -5.1062, -5.9976, -6.0828, -4.241, -6.0915, -6.2766, -6.2862, -5.7888, -6.1984, -6.0075, -5.807, -6.091, -6.6255, -5.7574, -6.4306, -6.6341, -6.6446, -6.3872, -4.8186, -6.5974, -6.613, -5.4936, -5.2619, -4.9971, -5.4064, -3.8356, -4.973, -5.2971, -3.9284, -4.7589, -5.1807, -5.4144, -4.8172, -5.1062, -4.8308, -5.2721, -5.5186, -5.0378, -5.0836, -4.8182, -4.7946, -4.7737, -5.0273, -4.9513, -5.0248, -5.0469, -4.9561, -5.1337, -5.1171, -5.1215, -2.6303, -5.0184, -4.6061, -2.6901, -5.2345, -4.949, -2.4203, -4.7453, -4.9401, -5.4413, -3.344, -4.7702, -4.8727, -5.7842, -5.008, -5.5085, -5.8826, -3.8972, -5.7507, -5.256, -5.2931, -4.0652, -4.92, -5.8491, -6.1617, -4.7101, -5.5811, -5.6731, -6.393, -5.2936, -4.6315, -4.4164, -4.5224, -4.5109, -4.3477, -4.3796, -5.0712, -4.4379, -4.6947, -5.0517, -4.6184, -4.8442, -5.1399, -5.1473, -5.1297, -5.1561, -4.9719, -5.3508, -5.7916, -5.7477, -5.9286, -6.1313, -5.811, -6.065, -6.3919, -4.4759, -4.2242, -5.4558, -5.8056, -5.5872, -6.094, -5.0017, -6.1188, -3.3953, -5.6145, -6.4399, -6.4488, -5.9395, -5.5474, -5.9406, -6.2895, -5.875, -6.161, -6.0138, -6.4381, -4.8647, -5.6666, -4.3937, -5.214, -5.1395, -5.4736, -3.7878, -5.3797, -5.1671, -4.8952, -5.223, -5.0726, -4.1492, -5.4806, -5.3347, -5.3869, -4.666, -4.977, -5.0052, -5.0573, -5.1124, -4.9577, -5.0665, -5.15, -5.0312, -5.3016, -5.1018, -5.0478, -5.1785, -5.2625, -5.1748, -5.1673, -5.211, -4.6932, -5.0404, -5.7687, -5.4291, -5.9086, -5.5725, -5.2045, -5.7162, -4.6263, -5.1868, -6.2166, -4.1319, -5.0772, -6.0702, -6.4936, -5.6875, -5.5546, -6.4305, -5.6474, -6.2542, -6.277, -6.1889, -5.7372, -6.5999, -5.7228, -5.411, -5.7844, -5.3132, -5.6707, -6.0529, -4.3709, -4.3361, -3.9802, -3.3847, -4.6023, -4.6374, -4.8172, -4.9032, -4.9351, -5.2969, -4.9731, -5.1593, -4.6998, -4.9665, -4.5038, -4.8687, -4.718, -5.1803, -5.1162, -4.7286, -4.9911, -5.0127, -4.9882, -5.08, -5.1809, -4.7284, -4.389, -5.1079, -5.2594, -4.865, -3.9182, -2.4978, -4.1423, -4.7219, -4.3022, -5.4394, -5.1903, -6.221, -6.1332, -5.2789, -5.1974, -5.1194, -6.0434, -5.7324, -5.523, -5.9815, -3.5569, -5.0612, -6.06, -5.3193, -5.6096, -5.9493, -5.0753, -5.99, -5.1059, -3.8327, -4.5846, -4.2444, -5.2839, -4.6262, -4.9186, -4.7577, -4.5647, -4.5315, -4.0239, -4.4553, -4.8711, -4.9233, -4.9605, -4.8846, -4.9163, -4.9885, -4.8556, -5.0254, -4.8696, -5.1971, -5.7946, -5.9245, -5.9909, -5.4364, -5.5348, -5.9495, -5.1807, -5.6649, -6.2354, -5.4141, -4.6961, -5.6902, -5.104, -4.9801, -5.3407, -5.5065, -5.9636, -6.384, -6.0881, -6.1362, -6.4739, -5.5548, -5.9389, -6.3511, -5.5311, -5.7394, -6.5958, -5.9053, -5.4056, -4.8569, -4.2307, -4.722, -4.3282, -5.1563, -4.3705, -4.8047, -4.0221, -4.4002, -4.7018, -4.561, -4.2569, -4.4037, -4.7149, -5.0365, -5.2913, -4.738, -4.6589, -5.1198, -4.7145, -4.9969, -4.9256, -4.9028, -5.1492, -5.1555, -5.1365, -5.1283], \"loglift\": [30.0, 29.0, 28.0, 27.0, 26.0, 25.0, 24.0, 23.0, 22.0, 21.0, 20.0, 19.0, 18.0, 17.0, 16.0, 15.0, 14.0, 13.0, 12.0, 11.0, 10.0, 9.0, 8.0, 7.0, 6.0, 5.0, 4.0, 3.0, 2.0, 1.0, 1.8809, 1.8213, 1.8183, 1.817, 1.8147, 1.7133, 1.694, 1.6773, 1.6715, 1.6659, 1.6621, 1.6588, 1.6567, 1.6564, 1.6553, 1.6499, 1.6447, 1.642, 1.6378, 1.6373, 1.6308, 1.6276, 1.6231, 1.623, 1.5744, 1.5711, 1.5577, 1.5453, 1.5401, 1.5399, 1.5323, 1.4558, 1.3401, 1.2506, 1.1386, 1.226, 1.4809, 1.2851, 1.0614, 0.7854, 1.2452, 0.8398, 1.0742, 1.1648, 0.8474, 0.9243, 0.7648, 0.6169, 0.2367, 0.7731, 0.067, 0.5924, 0.7624, 0.3394, 0.65, 0.8236, 0.2377, -0.0394, 0.0383, -0.1829, 0.1366, 0.121, 1.896, 1.8436, 1.8126, 1.751, 1.6254, 1.6109, 1.5762, 1.552, 1.5519, 1.5278, 1.5228, 1.5173, 1.5146, 1.5139, 1.5092, 1.4834, 1.4802, 1.4573, 1.4402, 1.4373, 1.4261, 1.4187, 1.4107, 1.4089, 1.4009, 1.3971, 1.3606, 1.3599, 1.3564, 1.3429, 1.3409, 1.3117, 1.2293, 1.1898, 1.2803, 1.2817, 0.9776, 0.9719, 1.0328, 1.2963, 1.2753, 1.0524, 1.0088, 0.8541, 1.1075, 1.1492, 0.8767, 0.7226, 0.6134, 0.7233, 0.2381, 0.6013, 0.7267, 0.5576, 1.0743, 0.5762, 0.4738, 0.1507, 0.4735, 0.9299, 0.3131, 0.3145, 0.1369, 0.5141, 1.9582, 1.9284, 1.8702, 1.8621, 1.7818, 1.7693, 1.7532, 1.7284, 1.7083, 1.6846, 1.6767, 1.6728, 1.6724, 1.6678, 1.6268, 1.625, 1.6195, 1.6004, 1.5941, 1.5782, 1.5765, 1.574, 1.5717, 1.554, 1.55, 1.5497, 1.5153, 1.5025, 1.5016, 1.4965, 1.4803, 1.4866, 1.4439, 1.2565, 1.2, 1.3538, 1.1456, 1.285, 1.1929, 1.3934, 1.2926, 1.295, 0.8446, 1.2044, 1.0066, 0.6334, 0.5119, 1.1164, 0.29, 0.6664, 0.34, 0.7112, 0.6606, 0.622, -0.1458, 0.3297, 0.8074, 0.4485, -0.0949, 0.3547, 0.4347, 0.5195, 2.2039, 2.2038, 2.1705, 2.1463, 2.1449, 2.107, 2.1017, 2.0749, 2.0552, 2.04, 2.0267, 2.0239, 2.0099, 2.0011, 1.9997, 1.9701, 1.9658, 1.9635, 1.9616, 1.9142, 1.9025, 1.8778, 1.8644, 1.8493, 1.8271, 1.809, 1.7916, 1.7869, 1.7819, 1.7633, 1.7139, 1.7387, 1.7137, 1.705, 1.726, 1.4697, 1.7179, 1.5715, 1.4628, 0.9541, 0.5415, 1.0405, 1.4402, 1.6033, 0.8658, 1.2504, 1.041, 0.0187, 0.2975, 0.1126, -0.0202, 0.0608, 0.4636, 0.0021, 0.8783, 0.8691, 2.1103, 2.0419, 2.0042, 1.9976, 1.9761, 1.9355, 1.9143, 1.9114, 1.8605, 1.7989, 1.7699, 1.7573, 1.7552, 1.742, 1.7323, 1.7268, 1.7237, 1.7194, 1.6775, 1.6518, 1.5994, 1.5792, 1.5791, 1.5738, 1.5665, 1.5596, 1.5225, 1.5192, 1.5076, 1.4914, 1.49, 1.4253, 1.3638, 1.4095, 1.1263, 1.3083, 1.3253, 1.0132, 1.0944, 1.2601, 1.2726, 0.9092, 1.0149, 0.7963, 1.1339, 1.2918, 0.7617, 0.7695, 0.3308, 0.2833, 0.1438, 0.5407, 0.3523, 0.4571, 0.5132, -0.2102, 0.164, -0.1725, -0.5464, 2.3562, 2.3171, 2.264, 2.2324, 2.2108, 2.2099, 2.1973, 2.1947, 2.1791, 2.131, 2.1077, 2.105, 2.1027, 2.0785, 2.0101, 2.0007, 1.9844, 1.9612, 1.9585, 1.9042, 1.8885, 1.8378, 1.8016, 1.7917, 1.7905, 1.7783, 1.7403, 1.7399, 1.673, 1.6695, 1.6353, 1.4386, 1.3783, 1.3525, 1.2575, 1.2644, 1.5336, 0.524, 0.7834, 1.2296, 0.3262, 0.6908, 0.8247, 0.8058, 0.3531, 2.3401, 2.2391, 2.0489, 2.032, 2.0052, 1.9769, 1.9607, 1.9409, 1.9237, 1.9194, 1.8879, 1.8867, 1.8824, 1.8783, 1.842, 1.8188, 1.7855, 1.7847, 1.7834, 1.7726, 1.7608, 1.7273, 1.7162, 1.7152, 1.7149, 1.6866, 1.6775, 1.659, 1.6582, 1.6566, 1.641, 1.6404, 1.3968, 1.5205, 1.4935, 1.5533, 1.1538, 1.5153, 1.4309, 1.2057, 1.2997, 1.1351, 0.3356, 1.4134, 1.2702, 1.3173, 0.4638, 0.8225, 0.8479, 0.8236, 0.8838, 0.5157, 0.5606, 0.753, 0.4508, 1.0774, 0.2717, -0.086, 0.479, 0.8586, -0.2522, -0.5497, -0.2935, 2.3604, 2.3497, 2.1361, 2.0066, 1.9967, 1.9742, 1.9703, 1.9688, 1.9109, 1.8699, 1.8627, 1.8588, 1.8379, 1.8254, 1.8227, 1.8042, 1.7888, 1.767, 1.7542, 1.7445, 1.7208, 1.7191, 1.7133, 1.7048, 1.6744, 1.6656, 1.6586, 1.622, 1.6216, 1.6176, 1.5699, 1.5273, 1.4689, 1.3612, 1.3622, 1.3596, 1.371, 1.159, 1.1437, 1.3303, 1.0632, 1.2129, 0.783, 1.0261, 0.4137, 0.8282, 0.4606, 1.1469, 0.9235, -0.2437, 0.3065, 0.3154, 0.1415, 0.0691, 0.5067, 2.838, 2.814, 2.6678, 2.4631, 2.3206, 2.2699, 2.2482, 2.2017, 2.1722, 2.1647, 2.0928, 2.0813, 2.0708, 2.0348, 2.0276, 2.0211, 1.9296, 1.9294, 1.9222, 1.9071, 1.9063, 1.8922, 1.885, 1.829, 1.8211, 1.8145, 1.7914, 1.7822, 1.7627, 1.689, 1.6492, 1.64, 1.5754, 1.6513, 1.2287, 1.3752, 1.2392, 1.0134, 0.9583, 0.461, 0.8483, 1.191, 1.1859, 0.8049, 0.4276, 0.3813, 0.7084, -0.2805, 0.8498, 2.5019, 2.4339, 2.4175, 2.4087, 2.2274, 2.1959, 2.1621, 2.1441, 2.0889, 2.0878, 2.0843, 2.0801, 2.0719, 2.0683, 2.0316, 2.0299, 2.0089, 1.942, 1.9384, 1.935, 1.9259, 1.8584, 1.8572, 1.7602, 1.7591, 1.7454, 1.7369, 1.722, 1.7205, 1.716, 1.6859, 1.6385, 1.5598, 1.6082, 1.5267, 1.5849, 1.3368, 1.4643, 1.2234, 1.2913, 1.3853, 1.2828, 0.9218, 0.726, 0.9299, 1.2364, 1.4709, 0.4907, 0.2827, 1.0973, 0.203, 0.8026, 0.5642, 0.4094, 1.0795, 1.0222, 0.726, 0.3545]}, \"token.table\": {\"Topic\": [1, 5, 6, 1, 2, 3, 4, 5, 7, 8, 10, 3, 4, 8, 10, 1, 2, 3, 4, 5, 2, 7, 10, 3, 5, 7, 10, 1, 2, 3, 4, 6, 7, 8, 10, 1, 3, 7, 8, 10, 1, 2, 4, 7, 10, 1, 2, 3, 4, 8, 10, 1, 2, 3, 4, 5, 6, 7, 8, 9, 1, 3, 7, 9, 10, 1, 2, 3, 4, 5, 6, 7, 8, 9, 2, 5, 5, 7, 8, 1, 6, 8, 9, 4, 5, 8, 9, 1, 6, 7, 1, 2, 3, 4, 5, 6, 7, 8, 9, 10, 2, 3, 4, 8, 4, 8, 2, 8, 1, 2, 2, 3, 8, 10, 3, 1, 2, 3, 4, 5, 6, 7, 8, 9, 1, 2, 3, 4, 5, 6, 8, 9, 10, 1, 2, 4, 5, 6, 7, 8, 9, 10, 7, 10, 3, 8, 5, 6, 9, 2, 4, 5, 8, 9, 3, 5, 7, 10, 2, 4, 5, 7, 1, 2, 3, 5, 6, 7, 8, 4, 8, 1, 2, 5, 7, 9, 10, 1, 3, 5, 7, 8, 10, 1, 2, 3, 4, 5, 6, 7, 8, 9, 10, 1, 2, 5, 2, 3, 5, 6, 9, 5, 7, 1, 2, 3, 1, 2, 3, 4, 5, 8, 9, 10, 1, 6, 2, 3, 4, 5, 6, 8, 9, 10, 1, 5, 8, 1, 2, 3, 4, 8, 9, 10, 1, 2, 3, 4, 5, 6, 7, 8, 10, 1, 2, 3, 4, 5, 7, 8, 9, 10, 2, 9, 1, 2, 3, 4, 7, 8, 9, 10, 1, 4, 6, 8, 9, 10, 5, 6, 10, 1, 3, 5, 7, 8, 10, 1, 2, 3, 4, 5, 7, 8, 10, 1, 2, 4, 5, 8, 9, 1, 1, 6, 1, 2, 3, 4, 5, 6, 7, 8, 10, 6, 7, 9, 10, 1, 2, 9, 1, 2, 3, 4, 5, 7, 8, 4, 7, 8, 3, 5, 8, 10, 2, 7, 10, 1, 2, 3, 4, 5, 7, 8, 9, 10, 1, 3, 7, 1, 2, 3, 6, 7, 9, 10, 1, 2, 5, 6, 7, 1, 5, 6, 1, 2, 4, 10, 1, 2, 3, 4, 5, 6, 7, 8, 9, 10, 1, 3, 8, 10, 5, 7, 8, 1, 2, 4, 7, 1, 2, 3, 4, 8, 10, 3, 4, 1, 4, 8, 1, 2, 3, 4, 5, 6, 7, 8, 9, 10, 1, 2, 3, 4, 5, 6, 7, 8, 9, 1, 2, 3, 4, 5, 8, 10, 3, 4, 7, 8, 9, 10, 3, 6, 7, 10, 1, 3, 10, 1, 3, 4, 5, 7, 8, 10, 7, 6, 8, 1, 2, 9, 1, 2, 3, 5, 6, 7, 5, 7, 1, 3, 4, 5, 6, 7, 8, 9, 1, 2, 3, 4, 6, 7, 8, 10, 2, 3, 2, 3, 5, 9, 3, 8, 9, 10, 1, 2, 3, 5, 6, 7, 8, 9, 10, 1, 3, 4, 5, 7, 8, 5, 9, 10, 1, 2, 1, 5, 9, 4, 5, 8, 2, 8, 10, 1, 2, 3, 4, 6, 7, 9, 1, 2, 4, 5, 7, 8, 9, 1, 2, 7, 8, 9, 1, 3, 7, 8, 1, 2, 3, 4, 5, 8, 9, 10, 1, 2, 3, 4, 5, 7, 8, 9, 10, 1, 3, 4, 8, 1, 2, 3, 4, 5, 7, 8, 9, 1, 2, 1, 3, 4, 9, 1, 4, 9, 3, 5, 2, 3, 4, 10, 3, 5, 7, 1, 2, 3, 4, 5, 6, 7, 8, 9, 10, 1, 2, 4, 5, 8, 9, 2, 3, 6, 7, 1, 3, 4, 3, 9, 2, 3, 4, 7, 8, 10, 3, 5, 10, 1, 5, 1, 2, 4, 8, 9, 10, 2, 3, 4, 1, 2, 3, 4, 5, 7, 8, 9, 10, 2, 3, 4, 5, 6, 7, 5, 6, 7, 8, 1, 2, 3, 4, 5, 6, 7, 8, 9, 10, 4, 5, 7, 2, 5, 6, 1, 2, 3, 4, 5, 8, 9, 10, 1, 5, 8, 2, 5, 7, 8, 9, 3, 2, 5, 8, 9, 4, 10, 1, 2, 7, 5, 7, 8, 2, 6, 7, 1, 2, 3, 4, 5, 6, 7, 8, 9, 10, 1, 4, 10, 1, 10, 1, 2, 4, 8, 10, 1, 2, 4, 5, 6, 7, 10, 1, 3, 5, 8, 9, 3, 4, 5, 7, 8, 2, 3, 5, 7, 8, 1, 2, 3, 4, 5, 6, 7, 8, 9, 10, 1, 7, 8, 9, 2, 5, 6, 10, 1, 2, 3, 4, 5, 6, 7, 8, 9, 1, 2, 3, 4, 5, 7, 8, 9, 10, 1, 4, 8, 2, 5, 9, 10, 1, 2, 3, 4, 5, 8, 9, 1, 4, 5, 2, 6, 9, 1, 2, 4, 8, 9, 1, 5, 8, 1, 3, 4, 5, 7, 8, 10, 3, 10, 3, 10, 1, 3, 4, 8, 9, 10, 4, 1, 3, 8, 1, 2, 3, 5, 6, 7, 8, 9, 1, 2, 3, 6, 10, 1, 2, 3, 4, 5, 7, 10, 3, 8, 1, 9, 1, 2, 3, 4, 5, 6, 7, 8, 9, 10, 2, 3, 5, 7, 10, 1, 10, 2, 3, 5, 8, 2, 6, 7, 1, 2, 3, 4, 5, 6, 7, 8, 9, 10, 5, 7, 9, 10, 2, 5, 7, 4, 5, 8, 9, 10, 2, 6, 3, 4, 5, 6, 8, 1, 2, 3, 5, 10, 9, 2, 4, 5, 8, 9, 1, 2, 3, 4, 5, 6, 7, 8, 9, 10, 4, 8, 9, 10, 2, 5, 6, 7, 1, 2, 3, 4, 5, 7, 8, 9, 10, 1, 3, 5, 7, 10, 1, 2, 3, 4, 5, 7, 8, 10, 1, 2, 3, 4, 5, 6, 7, 8, 9, 10, 1, 2, 3, 4, 5, 6, 7, 8, 9, 10, 1, 2, 4, 5, 7, 9, 10, 1, 2, 4, 5, 6, 8, 1, 6, 1, 2, 3, 4, 5, 6, 7, 8, 10, 1, 2, 3, 8, 1, 3, 4, 8, 9, 1, 2, 4, 6, 10, 2, 3, 5, 6, 7, 8, 10, 1, 2, 3, 4, 10, 2, 3, 4, 8, 10, 2, 3, 7, 9, 3, 5, 6, 7, 8, 10, 1, 3, 4, 10, 4, 10, 1, 2, 7, 10, 3, 10, 4, 5, 10, 1, 2, 3, 4, 10, 1, 5, 8, 1, 3, 5, 10, 1, 4, 5, 6, 7, 8, 10, 1, 3, 4, 8, 1, 3, 7, 10, 1, 2, 3, 4, 5, 6, 7, 8, 9, 10, 1, 4, 7, 9, 2, 3, 7, 9, 2, 3, 4, 5, 7, 8, 10, 1, 2, 3, 4, 5, 6, 7, 8, 9, 10, 1, 2, 9, 10, 3, 4, 1, 4, 10, 1, 1, 2, 3, 4, 5, 7, 8, 9, 10, 1, 1, 2, 3, 4, 5, 6, 7, 8, 9, 1, 2, 3, 4, 5, 7, 8, 10, 3, 5, 4, 1, 2, 3, 4, 9, 1, 2, 9, 2, 3, 8, 10, 2, 3, 5, 8, 1, 2, 1, 9, 1, 2, 3, 4, 5, 6, 7, 8, 9, 10, 1, 2, 3, 7, 10, 2, 5, 7, 9, 1, 2, 3, 4, 5, 7, 10, 1, 2, 3, 4, 5, 7, 8, 9, 10, 1, 2, 4, 2, 7, 8, 9, 1, 2, 5, 8, 10, 2, 5, 3, 4, 8, 1, 2, 5, 8, 9, 1, 2, 3, 4, 5, 6, 7, 8, 9, 1, 2, 3, 4, 8, 9, 10, 2, 3, 5, 8, 9, 1, 4, 8, 1, 2, 4, 1, 2, 3, 4, 5, 6, 7, 8, 9, 3, 8, 2, 3, 4, 1, 3, 4, 8, 9, 10, 1, 2, 5, 10, 1, 2, 3, 4, 5, 6, 7, 8, 10, 3, 4, 5, 2, 4, 8, 1, 4, 4, 2, 3, 4, 8, 1, 2, 3, 5, 6, 7, 8, 9, 10, 1, 2, 3, 4, 5, 6, 7, 8, 9, 10, 2, 3, 4, 1, 2, 4, 10, 1, 2, 3, 5, 6, 7, 10, 2, 4, 8, 1, 2, 3, 4, 6, 7, 3, 5, 10, 3, 5, 7, 1, 2, 3, 4, 5, 6, 7, 8, 9, 10, 3, 5, 2, 4, 9, 10, 3, 4, 8, 1, 4, 5, 7, 10, 1, 2, 3, 4, 5, 1, 2, 3, 1, 5, 6, 7, 3, 4, 5, 7, 6, 1, 2, 5, 7, 9, 1, 2, 5, 6, 7, 8, 1, 3, 4, 5, 1, 2, 3, 4, 5, 7, 8, 9, 10, 4, 1, 2, 3, 5, 7, 8, 9, 10, 1, 3, 4, 5, 9, 3, 10, 1, 3, 5, 7, 5, 7, 2, 3, 8, 1, 5, 6, 7, 8, 5, 7, 4, 5, 7, 10, 3, 5, 8, 2, 3, 4, 5, 6, 7, 8, 9, 1, 2, 7, 8, 1, 2, 5, 1, 2, 3, 4, 5, 6, 7, 8, 10, 3, 4, 1, 2, 3, 4, 5, 8, 9, 10, 3, 7, 10, 1, 2, 3, 4, 5, 7, 8, 9, 10, 3, 5, 7, 2, 4, 5, 7, 9, 2, 3, 4, 5, 1, 2, 3, 10, 1, 2, 4, 5, 7, 8, 9, 10, 2, 7, 9, 10, 1, 2, 3, 7, 10, 1, 2, 3, 5, 6, 7, 8, 3, 4, 5, 10, 1, 3, 5, 8, 9, 4, 8, 5, 6, 7, 10, 1, 2, 3, 4, 8, 9, 10, 1, 3, 5, 6, 7, 8, 3, 4, 10, 1, 4, 8, 4, 5, 7, 1, 3, 4, 7, 10, 1, 2, 3, 4, 3, 4, 10, 1, 2, 8, 1, 3, 4, 5, 6, 7, 8, 9, 10, 2, 3, 5, 7, 2, 5, 10, 2, 3, 5, 6, 7, 8, 9, 1, 7, 8, 5, 6, 8, 1, 2, 4, 5, 7, 8, 10, 2, 3, 6, 7, 1, 2, 5, 1, 2, 3, 4, 5, 6, 7, 9, 10, 1, 2, 4, 5, 8, 9, 10, 4, 8, 1, 2, 3, 4, 1, 2, 3, 4, 5, 7, 8, 10, 3, 4, 8, 9, 10, 1, 2, 3, 4, 5, 6, 7, 9, 10, 2, 3, 4, 5, 7, 10, 1, 3, 4, 5, 6, 7, 8, 9, 10, 1, 2, 3, 5, 6, 7, 8, 1, 2, 5, 6, 9, 10, 1, 2, 3, 4, 6, 7, 8, 9, 1, 2, 5, 6, 7, 8, 9, 1, 2, 3, 4, 5, 7, 8, 9, 10, 3, 4, 8, 10, 1, 2, 3, 6, 7, 8, 9, 10, 2, 4, 5, 8, 9, 5, 7, 1, 2, 3, 4, 5, 6, 7, 8, 9, 10, 1, 2, 3, 5, 6, 7, 8, 10, 1, 2, 3, 4, 5, 6, 7, 8, 10, 1, 2, 3, 4, 5, 6, 7, 8, 9, 10, 3, 5, 7, 8, 1, 2, 3, 4, 5, 6, 7, 8, 9, 10, 1, 6, 7, 10, 2, 5, 8, 2, 5, 6, 9, 8, 10, 1, 2, 5, 7, 4, 5, 8, 1, 4, 5, 8, 9, 1, 2, 3, 4, 7, 8, 10, 1, 2, 4, 7, 9, 10, 1, 2, 3, 4, 5, 6, 7, 8, 9, 10, 1, 2, 3, 4, 5, 6, 7, 8, 9, 10, 1, 2, 4, 5, 6, 4, 6, 8, 1, 8, 10, 5, 7, 9, 4, 7, 3, 5, 7, 4, 10, 3, 5, 10, 1, 6, 8, 3, 5, 1, 4, 5, 8, 10, 3, 5, 6, 7, 6, 7, 1, 2, 6, 4, 9, 10, 1, 4, 8, 1, 2, 3, 4, 5, 6, 8, 10, 1, 2, 3, 4, 5, 5, 6, 1, 2, 3, 4, 6, 7, 8, 9, 10, 2, 3, 4, 8, 10, 1, 8, 1, 2, 3, 4, 5, 7, 8, 9, 10, 4, 5, 9, 2, 5, 6, 7, 1, 4, 5, 10, 1, 2, 3, 4, 5, 7, 8, 10, 2, 3, 4, 8, 10, 1, 2, 2, 3, 4, 5, 6, 8, 9, 4, 5, 9, 1, 2, 4, 5, 9, 1, 2, 6, 7, 9, 3, 4, 8, 9, 10, 2, 3, 4, 7, 8, 9, 10, 2, 4, 8, 10, 1, 2, 4, 5, 8, 9, 1, 2, 3, 5, 7, 2, 3, 8, 2, 3, 5, 5, 7, 3, 5, 7, 8, 1, 2, 3, 4, 5, 7, 8, 9, 10, 1, 3, 7, 10, 1, 3, 9, 10, 2, 9, 1, 2, 3, 4, 5, 6, 7, 8, 9, 10, 1, 3, 9, 1, 2, 5, 7, 8, 10, 6, 7, 1, 2, 6, 1, 9, 3, 4, 3, 4, 5, 6, 7, 1, 2, 3, 4, 5, 7, 8, 10, 2, 5, 6, 2, 3, 5, 6, 7, 2, 3, 5, 6, 7, 9, 5, 7, 8, 9, 1, 2, 4, 5, 7, 8, 10, 1, 5, 8, 10, 2, 3, 4, 5, 8, 2, 3, 5, 8, 2, 3, 4, 8, 10, 1, 2, 4, 7, 1, 6, 10, 2, 5, 7, 9, 1, 2, 3, 5, 7, 9, 10, 5, 7, 1, 2, 3, 4, 5, 6, 7, 8, 10, 2, 3, 6, 7], \"Freq\": [0.0620832261913023, 0.0620832261913023, 0.8070819404869298, 0.03130190122843098, 0.09390570368529294, 0.5008304196548957, 0.06260380245686196, 0.1565095061421549, 0.06260380245686196, 0.03130190122843098, 0.03130190122843098, 0.03633656174902157, 0.7267312349804314, 0.18168280874510784, 0.03633656174902157, 0.07801654074058358, 0.07801654074058358, 0.07801654074058358, 0.5851240555543769, 0.15603308148116715, 0.345301605000709, 0.1726508025003545, 0.345301605000709, 0.5653342158822999, 0.18844473862743333, 0.09422236931371666, 0.09422236931371666, 0.06078151625118876, 0.06946459000135859, 0.19971069625390592, 0.09551381125186806, 0.32995680250645326, 0.12156303250237752, 0.09551381125186806, 0.03473229500067929, 0.038259384776564306, 0.6504095412015932, 0.07651876955312861, 0.038259384776564306, 0.15303753910625723, 0.04579181146457118, 0.09158362292914236, 0.3205426802519983, 0.18316724585828473, 0.3205426802519983, 0.11025110609928074, 0.0882008848794246, 0.06615066365956844, 0.0441004424397123, 0.595355972936116, 0.06615066365956844, 0.1881504594758649, 0.5581796964450658, 0.03135840991264415, 0.03135840991264415, 0.03763009189517298, 0.06898850180781713, 0.0627168198252883, 0.012543363965057659, 0.012543363965057659, 0.053854517018920064, 0.26927258509460034, 0.053854517018920064, 0.37698161913244044, 0.21541806807568026, 0.16598986741956076, 0.15322141607959455, 0.10853183638971281, 0.07661070803979728, 0.12130028772967903, 0.1021476107197297, 0.07022648236981417, 0.12130028772967903, 0.07661070803979728, 0.1755952367722062, 0.7609126926795603, 0.1299858883654546, 0.649929441827273, 0.1299858883654546, 0.1715530705384404, 0.0857765352692202, 0.5146592116153212, 0.0857765352692202, 0.1718221851682088, 0.05727406172273627, 0.5154665555046264, 0.1718221851682088, 0.18592700136818047, 0.2788905020522707, 0.46481750342045114, 0.2764168715963427, 0.25009145525383386, 0.0789762490275265, 0.07239489494189928, 0.06581354085627207, 0.013162708171254416, 0.05265083268501766, 0.12504572762691693, 0.04606947859939045, 0.019744062256881623, 0.026978840882357292, 0.026978840882357292, 0.7554075447060042, 0.16187304529414376, 0.7770280804375699, 0.11100401149108141, 0.8774884955505229, 0.0626777496821802, 0.7484557123399154, 0.14969114246798307, 0.10971435907658264, 0.16457153861487395, 0.2742858976914566, 0.3840002567680392, 0.9206698033446702, 0.19038288085134467, 0.3236508974472859, 0.047595720212836166, 0.019038288085134466, 0.09519144042567233, 0.1427871606385085, 0.03807657617026893, 0.06663400829797063, 0.06663400829797063, 0.2073005624137135, 0.3174289861959988, 0.006478142575428547, 0.0842158534805711, 0.012956285150857094, 0.10365028120685675, 0.0971721386314282, 0.0842158534805711, 0.07773771090514256, 0.1398896441365679, 0.3766259649830674, 0.07532519299661349, 0.010760741856659069, 0.03228222556997721, 0.053803709283295344, 0.043042967426636276, 0.25825780455981767, 0.010760741856659069, 0.6791396002923151, 0.2612075385739674, 0.3092208406230876, 0.6184416812461752, 0.05467801978156033, 0.8748483165049653, 0.05467801978156033, 0.04217279863105096, 0.2530367917863058, 0.04217279863105096, 0.1265183958931529, 0.5482463822036625, 0.1912772737621491, 0.4781931844053728, 0.09563863688107455, 0.09563863688107455, 0.6095023769722422, 0.06772248633024913, 0.06772248633024913, 0.2031674589907474, 0.014894721741651204, 0.059578886966604815, 0.029789443483302407, 0.07447360870825602, 0.7745255305658626, 0.022342082612476805, 0.029789443483302407, 0.1731496940900665, 0.7791736234052993, 0.2671552046423793, 0.40073280696356894, 0.07633005846925123, 0.13357760232118965, 0.038165029234625614, 0.07633005846925123, 0.05124270315483477, 0.07686405473225216, 0.43556297681609557, 0.333077570506426, 0.05124270315483477, 0.025621351577417385, 0.11892789812486254, 0.10063129841334523, 0.18296599711517314, 0.13722449783637986, 0.09148299855758657, 0.07318639884606926, 0.1463727976921385, 0.0640380989903106, 0.03659319942303463, 0.045741499278793285, 0.7707360752841044, 0.14013383186983716, 0.07006691593491858, 0.14712412245952994, 0.049041374153176644, 0.4904137415317665, 0.24520687076588324, 0.049041374153176644, 0.4671428111619209, 0.4671428111619209, 0.7880148530994684, 0.08755720589994094, 0.08755720589994094, 0.5083723428111268, 0.1652210114136162, 0.13980239427305988, 0.10167446856222535, 0.01270930857027817, 0.02541861714055634, 0.03812792571083451, 0.03812792571083451, 0.7834333323141475, 0.17409629606981056, 0.011146370864596833, 0.011146370864596833, 0.06687822518758099, 0.033439112593790496, 0.40126935112548595, 0.055731854322984165, 0.18948830469814615, 0.2452201590211303, 0.7487008521955566, 0.034031856917979844, 0.17015928458989923, 0.32416325916135147, 0.252737456295291, 0.24174887123897398, 0.10988585056316999, 0.005494292528158499, 0.032965755168951, 0.032965755168951, 0.08496165020134257, 0.02682999480042397, 0.17886663200282646, 0.022358329000353307, 0.2861866112045223, 0.008943331600141323, 0.2861866112045223, 0.04024499220063595, 0.07154665280113058, 0.21610214107635922, 0.3753352976589397, 0.056868984493778744, 0.056868984493778744, 0.0682427813925345, 0.022747593797511498, 0.0682427813925345, 0.12511176588631323, 0.03412139069626725, 0.15217486993945, 0.7608743496972501, 0.055770008792832795, 0.20913753297312299, 0.12548251978387379, 0.1951950307749148, 0.013942502198208199, 0.27885004396416396, 0.055770008792832795, 0.055770008792832795, 0.01619690761469075, 0.6802701198170115, 0.064787630458763, 0.064787630458763, 0.0323938152293815, 0.1619690761469075, 0.29812669688243587, 0.29812669688243587, 0.3975022625099145, 0.03867973654696113, 0.3867973654696113, 0.32877776064916964, 0.11603920964088339, 0.03867973654696113, 0.07735947309392226, 0.4276211876446487, 0.03289393751112682, 0.06578787502225364, 0.11512878128894388, 0.09868181253338047, 0.09868181253338047, 0.08223484377781706, 0.06578787502225364, 0.09784516029985778, 0.6849161220990044, 0.032615053433285926, 0.06523010686657185, 0.032615053433285926, 0.06523010686657185, 0.9511881991832616, 0.8131156880356591, 0.11615938400509417, 0.015796443085020994, 0.34752174787046186, 0.04738932925506298, 0.03159288617004199, 0.03159288617004199, 0.2369466462753149, 0.09477865851012596, 0.17376087393523093, 0.03159288617004199, 0.5318851171471907, 0.13297127928679767, 0.13297127928679767, 0.06648563964339883, 0.7757693863118079, 0.05967456817783138, 0.14918642044457844, 0.17158689229753832, 0.13726951383803065, 0.11439126153169223, 0.18302601845070754, 0.102952135378523, 0.205904270757046, 0.06863475691901533, 0.7744171878382189, 0.19772353732039633, 0.01647696144336636, 0.3145878204615045, 0.209725213641003, 0.1048626068205015, 0.3145878204615045, 0.6772053914935614, 0.11286756524892691, 0.11286756524892691, 0.11334484170668788, 0.09175534804827114, 0.29685553780323015, 0.08096060121906277, 0.03238424048762511, 0.145729082194313, 0.10255009487747951, 0.03238424048762511, 0.1079474682920837, 0.05158770227611745, 0.36111391593282216, 0.5158770227611745, 0.13043714000118012, 0.5869671300053105, 0.03260928500029503, 0.06521857000059006, 0.03260928500029503, 0.03260928500029503, 0.03260928500029503, 0.03446086941675094, 0.24122608591725656, 0.4479913024177622, 0.13784347766700375, 0.06892173883350187, 0.09896873499340758, 0.03298957833113586, 0.8577290366095324, 0.11112507111637937, 0.11112507111637937, 0.4445002844655175, 0.2778126777909484, 0.1555831108246008, 0.1037220738830672, 0.01728701231384453, 0.08643506156922266, 0.03457402462768906, 0.13829609851075625, 0.06914804925537812, 0.1555831108246008, 0.2074441477661344, 0.01728701231384453, 0.08684692851165451, 0.17369385702330903, 0.5210815710699271, 0.17369385702330903, 0.5679881803984648, 0.24342350588505632, 0.0811411686283521, 0.1696876420320373, 0.5939067471121305, 0.08484382101601864, 0.08484382101601864, 0.18551431729976556, 0.10118962761805395, 0.18551431729976556, 0.11805456555439627, 0.16864937936342325, 0.23610913110879253, 0.21024460363517758, 0.7358561127231215, 0.11600446901639967, 0.23200893803279934, 0.5800223450819983, 0.11499221216560991, 0.057496106082804956, 0.07187013260350619, 0.22998442433121982, 0.12936623868631114, 0.028748053041402478, 0.028748053041402478, 0.14374026520701239, 0.17248831824841487, 0.028748053041402478, 0.20904584104738144, 0.24593628358515462, 0.024593628358515463, 0.036890442537773196, 0.11067132761331958, 0.20904584104738144, 0.049187256717030926, 0.061484070896288656, 0.049187256717030926, 0.16808675756857508, 0.04802478787673574, 0.0720371818151036, 0.2161115454453108, 0.3841983030138859, 0.02401239393836787, 0.04802478787673574, 0.224349755096554, 0.14956650339770267, 0.07478325169885133, 0.07478325169885133, 0.07478325169885133, 0.448699510193108, 0.07953734877363294, 0.1590746975472659, 0.47722409264179766, 0.1590746975472659, 0.225588845532194, 0.5865309983837044, 0.1353533073193164, 0.5187012914164641, 0.1589568473695616, 0.041830749307779365, 0.17568914709267333, 0.03346459944622349, 0.02509844958466762, 0.041830749307779365, 0.92056751001729, 0.6406973407886709, 0.2135657802628903, 0.7632704393809547, 0.040172128388471305, 0.16068851355388522, 0.09356081202115073, 0.011695101502643841, 0.011695101502643841, 0.09356081202115073, 0.584755075132192, 0.18712162404230145, 0.31319082024377887, 0.6263816404875577, 0.028976956787135206, 0.028976956787135206, 0.08693087036140561, 0.3767004382327577, 0.08693087036140561, 0.028976956787135206, 0.28976956787135205, 0.028976956787135206, 0.03172253625734019, 0.09516760877202059, 0.23791902193005146, 0.1427514131580309, 0.06344507251468039, 0.2855028263160618, 0.07930634064335049, 0.047583804386010294, 0.3387989369973178, 0.5646648949955296, 0.1389755585229393, 0.20846333778440895, 0.5559022340917572, 0.06948777926146965, 0.09266477800995888, 0.37065911203983554, 0.37065911203983554, 0.09266477800995888, 0.10789586032320511, 0.15769394970314593, 0.24069076533638065, 0.17429331282979288, 0.09129649719655818, 0.05809777094326429, 0.09129649719655818, 0.033198726253293884, 0.04149840781661735, 0.018487486287003432, 0.07394994514801373, 0.24033732173104463, 0.40672469831407554, 0.24033732173104463, 0.018487486287003432, 0.14871914048994314, 0.2974382809798863, 0.4461574214698294, 0.3901891093041932, 0.5365100252932656, 0.6799903998661073, 0.10461390767170882, 0.15692086150756324, 0.3172689250345936, 0.4230252333794581, 0.10575630834486452, 0.5080594136788497, 0.3048356482073098, 0.10161188273576993, 0.1591925761911192, 0.13645077959238788, 0.4548359319746263, 0.022741796598731313, 0.06822538979619394, 0.13645077959238788, 0.022741796598731313, 0.107056298886287, 0.1605844483294305, 0.0535281494431435, 0.0535281494431435, 0.1605844483294305, 0.107056298886287, 0.321168896658861, 0.11927985959619017, 0.059639929798095084, 0.059639929798095084, 0.23855971919238034, 0.41747950858666555, 0.046759285200696124, 0.6078707076090496, 0.1870371408027845, 0.09351857040139225, 0.18969906826212343, 0.0903328896486302, 0.3974647144539729, 0.07226631171890417, 0.036133155859452086, 0.054199733789178126, 0.009033288964863022, 0.13549933447294532, 0.11321898291233205, 0.08342451372487625, 0.44691703781183706, 0.10726008907484089, 0.07150672604989393, 0.0059588938374911605, 0.0774656198873851, 0.0059588938374911605, 0.08342451372487625, 0.1761570608168525, 0.43060614866341723, 0.1370110473019964, 0.23487608108913668, 0.24197346972353379, 0.03226312929647117, 0.03226312929647117, 0.0967893878894135, 0.16131564648235586, 0.14518408183412027, 0.016131564648235584, 0.27423659902000497, 0.7857848022351147, 0.13096413370585244, 0.21002029759220564, 0.10501014879610282, 0.5775558183785655, 0.05250507439805141, 0.7659612757095364, 0.05673787227478048, 0.11347574454956096, 0.7996426291887783, 0.1142346613126826, 0.509028584319974, 0.21815510756570314, 0.07271836918856771, 0.07271836918856771, 0.13882033049830184, 0.20823049574745273, 0.6246914872423582, 0.1585948680674622, 0.1727551241449142, 0.11044999740412546, 0.17841922657589498, 0.04248076823235595, 0.03964871701686555, 0.12744230469706785, 0.07080128038725991, 0.0849615364647119, 0.014160256077451984, 0.014855066213420445, 0.08913039728052267, 0.07427533106710223, 0.07427533106710223, 0.38623172154893154, 0.3565215891220907, 0.11657175979736135, 0.05828587989868068, 0.6994305587841682, 0.11657175979736135, 0.08125788406515184, 0.08125788406515184, 0.8125788406515184, 0.8148684740999942, 0.13581141234999905, 0.012767908540371364, 0.2553581708074273, 0.06383954270185682, 0.038303725621114094, 0.5745558843167113, 0.038303725621114094, 0.7154692035920515, 0.07949657817689461, 0.15899315635378922, 0.920773705712811, 0.046038685285640556, 0.11218185481975657, 0.16827278222963485, 0.16827278222963485, 0.29915161285268416, 0.18696975803292762, 0.05609092740987828, 0.09489669500356207, 0.18979339000712414, 0.6642768650249344, 0.30420693576013447, 0.16010891355796553, 0.01601089135579655, 0.01601089135579655, 0.0320217827115931, 0.048032674067389654, 0.17611980491376206, 0.0640435654231862, 0.16010891355796553, 0.13657731649299407, 0.03414432912324852, 0.01707216456162426, 0.3755876203557337, 0.3243711266708609, 0.08536082280812128, 0.2898151641858996, 0.5313278010074826, 0.048302527364316596, 0.048302527364316596, 0.18591199894552082, 0.03380218162645833, 0.08450545406614583, 0.2450658167918229, 0.05915381784630208, 0.025351636219843748, 0.008450545406614583, 0.11830763569260416, 0.15210981731906248, 0.07605490865953124, 0.31708069940360323, 0.422774265871471, 0.2113871329357355, 0.042006954404244, 0.294048680829708, 0.6301043160636599, 0.08803916054945629, 0.022009790137364073, 0.4622055928846455, 0.044019580274728146, 0.022009790137364073, 0.2641174816483689, 0.022009790137364073, 0.08803916054945629, 0.20936424492437222, 0.20936424492437222, 0.5234106123109306, 0.10909831313619169, 0.21819662627238337, 0.10909831313619169, 0.4909424091128626, 0.05454915656809584, 0.8955336628388484, 0.05415517828314796, 0.10831035656629592, 0.6498621393977755, 0.16246553484944387, 0.7932026825447476, 0.08813363139386084, 0.306209824099606, 0.5103497068326767, 0.10206994136653534, 0.1732172939403223, 0.08660864697016114, 0.6928691757612891, 0.09077618126992927, 0.5446570876195757, 0.2723285438097878, 0.3176469487870522, 0.06148005460394558, 0.07172673037126985, 0.1434534607425397, 0.1127134334405669, 0.040986703069297054, 0.1127134334405669, 0.040986703069297054, 0.040986703069297054, 0.05123337883662132, 0.09655421844029186, 0.48277109220145925, 0.3862168737611674, 0.7075269234737948, 0.2830107693895179, 0.16174081715949098, 0.12130561286961825, 0.6469632686379639, 0.040435204289872746, 0.040435204289872746, 0.15369680469953959, 0.10246453646635972, 0.12808067058294967, 0.35862587763225906, 0.05123226823317986, 0.07684840234976979, 0.10246453646635972, 0.13277252030999004, 0.03319313007749751, 0.29873817069747755, 0.13277252030999004, 0.3651244308524726, 0.30434128745574024, 0.060868257491148055, 0.060868257491148055, 0.48694605992918444, 0.060868257491148055, 0.11636054670362718, 0.11636054670362718, 0.4654421868145087, 0.11636054670362718, 0.11636054670362718, 0.1537403286984663, 0.44584695322555223, 0.04099742098625768, 0.08199484197251536, 0.13836629582861965, 0.02049871049312884, 0.00512467762328221, 0.05637145385610431, 0.046122098609539884, 0.015374032869846628, 0.19752222634112082, 0.14814166975584062, 0.5431861224380823, 0.049380556585280205, 0.06211806242937947, 0.8075348115819332, 0.06211806242937947, 0.031059031214689736, 0.36936785567783514, 0.1668112896609578, 0.03574527635591953, 0.11915092118639843, 0.09532073694911875, 0.04766036847455937, 0.023830184237279686, 0.059575460593199216, 0.0834056448304789, 0.4248263018479812, 0.15779262640067873, 0.06068947169256875, 0.08496526036959624, 0.07282736603108249, 0.09710315470811, 0.036413683015541244, 0.0242757886770275, 0.036413683015541244, 0.09143657138354645, 0.5943377139930519, 0.2743097141506393, 0.5804069412887771, 0.14510173532219428, 0.14510173532219428, 0.07255086766109714, 0.128474448731538, 0.0256948897463076, 0.192711673097307, 0.07708466923892279, 0.0256948897463076, 0.3468810115751526, 0.192711673097307, 0.055800517470639924, 0.6696062096476791, 0.2232020698825597, 0.2878065898588912, 0.6167284068404811, 0.04111522712269874, 0.04595586367505221, 0.13786759102515664, 0.04595586367505221, 0.32169104572536544, 0.4136027730754699, 0.19018936290878471, 0.19018936290878471, 0.4754734072719618, 0.11294969527007705, 0.4517987810803082, 0.05647484763503852, 0.037649898423359016, 0.2635492889635131, 0.018824949211679508, 0.018824949211679508, 0.5615762754076455, 0.4011259110054611, 0.4182445092716643, 0.4182445092716643, 0.06738218948232087, 0.6738218948232086, 0.11230364913720145, 0.011230364913720144, 0.02246072982744029, 0.11230364913720145, 0.906705629264917, 0.7574100309184142, 0.21989323478276543, 0.02443258164252949, 0.4635615363405471, 0.2824828112075209, 0.014486298010642096, 0.13037668209577888, 0.03621574502660524, 0.014486298010642096, 0.014486298010642096, 0.04345889403192629, 0.05741710651106515, 0.1148342130221303, 0.17225131953319545, 0.2296684260442606, 0.4019197455774561, 0.15768672618653232, 0.06307469047461292, 0.18922407142383876, 0.06307469047461292, 0.06307469047461292, 0.40998548808498403, 0.06307469047461292, 0.036956969195198794, 0.9608811990751687, 0.7115563957488342, 0.21894042946117975, 0.041068540554248655, 0.07757390993580301, 0.21446904511663187, 0.02737902703616577, 0.3194219820886007, 0.15971099104430034, 0.08213708110849731, 0.041068540554248655, 0.031942198208860066, 0.00912634234538859, 0.038512983341669756, 0.11553895002500926, 0.6033700723528261, 0.2182402389361286, 0.012837661113889917, 0.5303536364905385, 0.3977652273679039, 0.031856670899140925, 0.22299669629398647, 0.6371334179828185, 0.09557001269742278, 0.03091877288840161, 0.7729693222100402, 0.15459386444200804, 0.143524065490151, 0.3588101637253775, 0.022425635232836093, 0.10315792207104603, 0.08521741388477716, 0.13006868435044935, 0.05830665160537384, 0.03139588932597053, 0.02691076227940331, 0.03588101637253775, 0.4349530439842034, 0.17398121759368138, 0.17398121759368138, 0.08699060879684069, 0.07436569058580757, 0.22309707175742272, 0.6692912152722681, 0.04666208357757971, 0.04666208357757971, 0.35774264076144446, 0.5288369472125701, 0.015554027859193239, 0.004677011976495902, 0.9915265390171313, 0.02100068415070258, 0.02100068415070258, 0.14700478905491807, 0.5460177879182672, 0.2310075256577284, 0.3429884989324123, 0.49542783179126215, 0.03810983321471247, 0.11432949964413743, 0.019054916607356236, 0.9258243959956249, 0.054529775619457245, 0.36353183746304835, 0.036353183746304835, 0.054529775619457245, 0.4907679805751152, 0.10371440027146665, 0.1791430550143515, 0.02828574552858181, 0.16971447317149088, 0.15085730948576967, 0.01885716368572121, 0.11314298211432725, 0.15085730948576967, 0.04714290921430302, 0.02828574552858181, 0.5112390923479906, 0.2690732064989424, 0.05381464129978848, 0.1345366032494712, 0.034176567587405005, 0.034176567587405005, 0.7860610545103152, 0.13670627034962002, 0.051163519995746615, 0.14069967998830318, 0.12790879998936652, 0.025581759997873307, 0.20465407998298646, 0.12790879998936652, 0.25581759997873305, 0.03837263999680996, 0.03837263999680996, 0.14284400774898307, 0.04761466924966102, 0.2380733462483051, 0.4761466924966102, 0.04761466924966102, 0.17751094189854535, 0.008875547094927268, 0.2485153186579635, 0.062128829664490876, 0.23076422446810896, 0.1597598477086908, 0.062128829664490876, 0.062128829664490876, 0.12222572957679828, 0.15714736659874065, 0.11786052494905548, 0.11786052494905548, 0.11786052494905548, 0.06984327404388474, 0.06547806941614194, 0.13532134346002667, 0.026191227766456774, 0.06547806941614194, 0.15840203113195633, 0.220385434618374, 0.06887044831824188, 0.0550963586545935, 0.06887044831824188, 0.110192717309187, 0.11707976214101119, 0.10330567247736282, 0.048209313822769315, 0.04132226899094513, 0.293964742121886, 0.4042015204175933, 0.11023677829570726, 0.0734911855304715, 0.018372796382617875, 0.0734911855304715, 0.018372796382617875, 0.03375885965613836, 0.10127657896841509, 0.06751771931227672, 0.23631201759296855, 0.5063828948420754, 0.06751771931227672, 0.1660173911876781, 0.7470782603445515, 0.3437883587460707, 0.17680544164083636, 0.15716039256963232, 0.02946757360680606, 0.13751534349842828, 0.01964504907120404, 0.02946757360680606, 0.03929009814240808, 0.05893514721361212, 0.1931798917279885, 0.06439329724266284, 0.6439329724266283, 0.12878659448532567, 0.03374481671819175, 0.0674896334363835, 0.5061722507728763, 0.3374481671819175, 0.03374481671819175, 0.13184374843747415, 0.06592187421873708, 0.19776562265621123, 0.06592187421873708, 0.46145311953115953, 0.07868244215229465, 0.06744209327339541, 0.011240348878899237, 0.3596911641247756, 0.056201744394496184, 0.41589290851927174, 0.022480697757798474, 0.029009160611722144, 0.23207328489377715, 0.05801832122344429, 0.5801832122344429, 0.08702748183516643, 0.07017780151277352, 0.02339260050425784, 0.7719558166405087, 0.07017780151277352, 0.04678520100851568, 0.23553694801882633, 0.4946275908395353, 0.11776847400941316, 0.1413221688112958, 0.023595003464382404, 0.11797501732191201, 0.42471006235888326, 0.33033004850135367, 0.0707850103931472, 0.023595003464382404, 0.1352084554735785, 0.21633352875772555, 0.3785836753260197, 0.270416910947157, 0.8608690906097803, 0.1324413985553508, 0.07981929589475313, 0.07981929589475313, 0.7183736630527782, 0.07981929589475313, 0.8003488296760817, 0.11433554709658308, 0.11845223913983233, 0.355356717419497, 0.4738089565593293, 0.028118577777998595, 0.014059288888999297, 0.5623715555599719, 0.18277075555699088, 0.21088933333498946, 0.6493177744582452, 0.1623294436145613, 0.08116472180728065, 0.0737536058145297, 0.7006592552380321, 0.0737536058145297, 0.0737536058145297, 0.33597104536163497, 0.047995863623090704, 0.047995863623090704, 0.047995863623090704, 0.14398759086927213, 0.047995863623090704, 0.28797518173854425, 0.10421796893286951, 0.15632695339930427, 0.20843593786573902, 0.4689808601979128, 0.11771726858797274, 0.11771726858797274, 0.11771726858797274, 0.5885863429398637, 0.13721679270993167, 0.039204797917123335, 0.21562638854417834, 0.009801199479280834, 0.25483118646130165, 0.06860839635496584, 0.11761439375137, 0.09801199479280834, 0.0294035984378425, 0.0294035984378425, 0.07347080865274505, 0.2938832346109802, 0.22041242595823513, 0.2938832346109802, 0.11355106335768758, 0.11355106335768758, 0.4542042534307503, 0.11355106335768758, 0.07149570550671328, 0.3217306747802097, 0.0893696318833916, 0.14299141101342655, 0.03574785275335664, 0.2859828220268531, 0.03574785275335664, 0.011185421182322642, 0.0782979482762585, 0.022370842364645285, 0.022370842364645285, 0.04474168472929057, 0.6711252709393586, 0.06711252709393585, 0.0782979482762585, 0.011185421182322642, 0.011185421182322642, 0.25534428731638914, 0.17022952487759277, 0.34045904975518554, 0.17022952487759277, 0.6031678037614346, 0.3446673164351055, 0.11757492530467795, 0.5878746265233897, 0.11757492530467795, 0.9562935502610638, 0.09053935884889015, 0.12071914513185353, 0.045269679424445076, 0.25652818340518874, 0.07544946570740846, 0.09053935884889015, 0.1659888245562986, 0.060359572565926764, 0.09053935884889015, 0.8647549894511436, 0.16698185470987903, 0.23762802401021246, 0.10918044346415168, 0.07064616930033343, 0.14771471762796992, 0.02568951610921216, 0.07706854832763647, 0.032111895136515196, 0.12844758054606079, 0.06344952876414366, 0.04229968584276244, 0.08459937168552488, 0.16919874337104976, 0.2537981150565746, 0.02114984292138122, 0.08459937168552488, 0.27494795797795585, 0.664811113761183, 0.22160370458706097, 0.9406987066748079, 0.2133188526629921, 0.04740418948066492, 0.2133188526629921, 0.4503398000663167, 0.07110628422099737, 0.6930356103615278, 0.04331472564759549, 0.21657362823797743, 0.6178987760735669, 0.16851784802006373, 0.0561726160066879, 0.0561726160066879, 0.20547138009910115, 0.20547138009910115, 0.06849046003303372, 0.4794332202312361, 0.11187309549631407, 0.8204027003063031, 0.8588967363471663, 0.0954329707052407, 0.26764749585688885, 0.18352971144472377, 0.03823535655098412, 0.03823535655098412, 0.12235314096314918, 0.20647092537531425, 0.030588285240787296, 0.02294121393059047, 0.06882364179177142, 0.02294121393059047, 0.4834846104665149, 0.026860256137028606, 0.026860256137028606, 0.4029038420554291, 0.05372051227405721, 0.40306393477761787, 0.12091918043328537, 0.12091918043328537, 0.32245114782209433, 0.029138695285896573, 0.029138695285896573, 0.14569347642948285, 0.029138695285896573, 0.4370804292884486, 0.3205256481448623, 0.029138695285896573, 0.09354576341080452, 0.02751345982670721, 0.42370728133129104, 0.1430699910988775, 0.1430699910988775, 0.005502691965341442, 0.09354576341080452, 0.016508075896024328, 0.04952422768807298, 0.28376825753049423, 0.49659445067836483, 0.17735516095655887, 0.30508987769316687, 0.1743370729675239, 0.043584268241880976, 0.3922584141769288, 0.5202834127960049, 0.3074401984703665, 0.1182462301809102, 0.02364924603618204, 0.02364924603618204, 0.6797401578960499, 0.29131721052687853, 0.2582483709737275, 0.12912418548686375, 0.516496741947455, 0.3408426490354097, 0.17042132451770484, 0.08521066225885242, 0.08521066225885242, 0.3408426490354097, 0.19871843067667194, 0.036130623759394895, 0.09032655939848724, 0.036130623759394895, 0.46969810887213365, 0.05419593563909235, 0.05419593563909235, 0.018065311879697447, 0.05419593563909235, 0.1234129278961368, 0.1234129278961368, 0.1097003803521216, 0.0548501901760608, 0.2879634984243192, 0.17826311807219758, 0.1097003803521216, 0.032829064826983174, 0.19697438896189903, 0.032829064826983174, 0.45960690757776446, 0.29546158344284856, 0.7797658388913535, 0.1670926797624329, 0.9313381674664538, 0.04590660357863631, 0.04590660357863631, 0.8722254679940898, 0.06676847021695001, 0.20030541065085003, 0.166921175542375, 0.04451231347796667, 0.3115861943457667, 0.022256156738983335, 0.07789654858644167, 0.06676847021695001, 0.04451231347796667, 0.6160305438508762, 0.3080152719254381, 0.03903538242250278, 0.07807076484500557, 0.8587784132950612, 0.047867019438359124, 0.598337742979489, 0.023933509719179562, 0.11966754859589782, 0.07180052915753869, 0.11966754859589782, 0.7659882709267904, 0.036475631948894784, 0.14590252779557913, 0.036475631948894784, 0.18623551284364812, 0.27088801868166995, 0.15237451050843936, 0.016930501167604372, 0.05079150350281312, 0.06772200467041749, 0.016930501167604372, 0.06772200467041749, 0.18623551284364812, 0.13152846291933934, 0.6576423145966966, 0.13152846291933934, 0.9009138663491684, 0.8284273063285954, 0.15062314660519918, 0.914180225580237, 0.04811474871474932, 0.9407148855019388, 0.04889720823050867, 0.6845609152271214, 0.09779441646101734, 0.14669162469152602, 0.07716056722941875, 0.16534407263446874, 0.14329819628320623, 0.1543211344588375, 0.09920644358068124, 0.12125231993194374, 0.033068814526893746, 0.011022938175631249, 0.18738994898573122, 0.3162146162437982, 0.07026991472084405, 0.09369321962779206, 0.07026991472084405, 0.011711652453474008, 0.12882817698821408, 0.04684660981389603, 0.1522514818951621, 0.08198156717431807, 0.023423304906948016, 0.1104921189068751, 0.05524605945343755, 0.7734448323481257, 0.24996587550055327, 0.13886993083364071, 0.13886993083364071, 0.4166097925009221, 0.15324917412783484, 0.4378547832223853, 0.021892739161119265, 0.19703465245007337, 0.04378547832223853, 0.08757095664447706, 0.04378547832223853, 0.6101194571898234, 0.2033731523966078, 0.1016865761983039, 0.10897190395223069, 0.3950231518268362, 0.17707934392237487, 0.16345785592834602, 0.06810743997014418, 0.08172892796417301, 0.19213582593370782, 0.5764074778011234, 0.09606791296685391, 0.12453419423284763, 0.7472051653970857, 0.062267097116423815, 0.3189384962467171, 0.06895967486415505, 0.10343951229623258, 0.05171975614811629, 0.11205947165425197, 0.04309979679009691, 0.10343951229623258, 0.0948195529382132, 0.034479837432077526, 0.07757963422217444, 0.772592976883995, 0.1287654961473325, 0.6212408677673947, 0.22590577009723445, 0.05647644252430861, 0.05647644252430861, 0.042263710232926306, 0.8875379148914525, 0.042263710232926306, 0.31881625280860465, 0.04554517897265781, 0.04554517897265781, 0.5009969686992358, 0.04554517897265781, 0.22840172112601895, 0.49487039577304104, 0.03806695352100316, 0.03806695352100316, 0.19033476760501578, 0.7638258363167547, 0.09547822953959434, 0.09547822953959434, 0.10606425681907922, 0.07954819261430941, 0.5568373483001658, 0.21212851363815843, 0.08662826904936913, 0.08662826904936913, 0.08662826904936913, 0.693026152394953, 0.9308765181776913, 0.6205634810469906, 0.09798370753373535, 0.0653224716891569, 0.09798370753373535, 0.09798370753373535, 0.22171369944056937, 0.22171369944056937, 0.1400297049098333, 0.37341254642622207, 0.035007426227458324, 0.01166914207581944, 0.07392364849354535, 0.6653128364419081, 0.1478472969870907, 0.07392364849354535, 0.3340968327874641, 0.10691098649198852, 0.013363873311498565, 0.09354711318048996, 0.09354711318048996, 0.0400916199344957, 0.25391359291847276, 0.05345549324599426, 0.013363873311498565, 0.8453600106680735, 0.24477349706194407, 0.022252136096540368, 0.15576495267578258, 0.22252136096540368, 0.2113952929171335, 0.07788247633789129, 0.033378204144810554, 0.033378204144810554, 0.39491641018750145, 0.06075637079807714, 0.18226911239423144, 0.03037818539903857, 0.3341600393894243, 0.329151187417745, 0.592472137351941, 0.148602862929814, 0.074301431464907, 0.074301431464907, 0.6687128831841631, 0.46739853374081514, 0.35054890030561137, 0.07313806464831743, 0.658242581834857, 0.14627612929663486, 0.13971751679841604, 0.48901130879445615, 0.13971751679841604, 0.13971751679841604, 0.06985875839920802, 0.34908565948608006, 0.5236284892291201, 0.0964563261115497, 0.5787379566692982, 0.0964563261115497, 0.0964563261115497, 0.7551402732628222, 0.1372982315023313, 0.06864911575116565, 0.032179361888128866, 0.12871744755251546, 0.032179361888128866, 0.09653808566438661, 0.06435872377625773, 0.032179361888128866, 0.5470491520981907, 0.032179361888128866, 0.06563025451309538, 0.5250420361047631, 0.29533614530892927, 0.06563025451309538, 0.7600001745897723, 0.1169231037830419, 0.05846155189152095, 0.08903471278365495, 0.283292267947993, 0.20235161996285217, 0.04047032399257043, 0.10522284238068312, 0.186163490365824, 0.02428219439554226, 0.016188129597028172, 0.056658453589598604, 0.1311893675862327, 0.6559468379311635, 0.07613852419289466, 0.03806926209644733, 0.19034631048223666, 0.2950367812474668, 0.028551946572335497, 0.2093809415304603, 0.11420778628934199, 0.047586577620559165, 0.473505500630008, 0.09470110012600161, 0.37880440050400643, 0.014397440099460262, 0.05758976039784105, 0.05758976039784105, 0.014397440099460262, 0.07198720049730131, 0.604692484177331, 0.10078208069622183, 0.028794880198920524, 0.07198720049730131, 0.6640383725263462, 0.22134612417544872, 0.07378204139181624, 0.5356683721272765, 0.05356683721272765, 0.16070051163818294, 0.1071336744254553, 0.1071336744254553, 0.6190962712603941, 0.1688444376164711, 0.05628147920549037, 0.05628147920549037, 0.07245781343091778, 0.6521203208782601, 0.07245781343091778, 0.07245781343091778, 0.08221074639379274, 0.20552686598448183, 0.020552686598448184, 0.020552686598448184, 0.04110537319689637, 0.12331611959068911, 0.4727117917643082, 0.04110537319689637, 0.09452017548508064, 0.37808070194032256, 0.4726008774254032, 0.03150672516169355, 0.5695035386659615, 0.20009583790966215, 0.04617596259453742, 0.030783975063024945, 0.15391987531512472, 0.09289000458574147, 0.6153962803805372, 0.011611250573217683, 0.023222501146435367, 0.08127875401252378, 0.023222501146435367, 0.15094625745182988, 0.11727155185976551, 0.5863577592988276, 0.11727155185976551, 0.058635775929882755, 0.07414906196828165, 0.11122359295242248, 0.1482981239365633, 0.5931924957462532, 0.037074530984140826, 0.2779370559746813, 0.625358375943033, 0.6551440035765359, 0.10919066726275597, 0.10919066726275597, 0.10919066726275597, 0.12019265581212746, 0.1802889837181912, 0.10016054651010621, 0.46073851394648857, 0.06009632790606373, 0.020032109302021244, 0.04006421860404249, 0.023431250967613126, 0.023431250967613126, 0.2811750116113575, 0.2577437606437444, 0.37490001548181, 0.023431250967613126, 0.393276751098889, 0.13109225036629632, 0.393276751098889, 0.2748092517471216, 0.16488555104827296, 0.4946566531448189, 0.31400991208401435, 0.10466997069467146, 0.5233498534733573, 0.05187066648091749, 0.5705773312900924, 0.05187066648091749, 0.05187066648091749, 0.20748266592366996, 0.057309950685767774, 0.057309950685767774, 0.6304094575434456, 0.2292398027430711, 0.14080131836316706, 0.49280461427108474, 0.2816026367263341, 0.15645693561058657, 0.547599274637053, 0.23468540341587985, 0.09111564380134238, 0.286363451947076, 0.06508260271524455, 0.15619824651658692, 0.02603304108609782, 0.18223128760268476, 0.10413216434439128, 0.02603304108609782, 0.07809912325829346, 0.07196840865984669, 0.10795261298977003, 0.35984204329923347, 0.43181045195908013, 0.24183497700734735, 0.5642816130171437, 0.08061165900244911, 0.08412976051163736, 0.10095571261396483, 0.2187373773302571, 0.48795261096749665, 0.01682595210232747, 0.06730380840930988, 0.01682595210232747, 0.4700724569034415, 0.4700724569034415, 0.042733859718494686, 0.7506777172047708, 0.15013554344095417, 0.07506777172047709, 0.14545413755279665, 0.1599995513080763, 0.05818165502111866, 0.2909082751055933, 0.21818120632919497, 0.02909082751055933, 0.10181789628695766, 0.05380272527808126, 0.1614081758342438, 0.1614081758342438, 0.5918299780588939, 0.10235123865481706, 0.6141074319289023, 0.20470247730963412, 0.045129140081150675, 0.2798006685031342, 0.03610331206492054, 0.027077484048690405, 0.11733576421099175, 0.33395563660051497, 0.09025828016230135, 0.027077484048690405, 0.045129140081150675, 0.23752441232359528, 0.4988012658795501, 0.023752441232359527, 0.023752441232359527, 0.023752441232359527, 0.0950097649294381, 0.07125732369707859, 0.3337530590888708, 0.6257869857916327, 0.11300545321687173, 0.5650272660843587, 0.11300545321687173, 0.11300545321687173, 0.17387063656040622, 0.13040297742030466, 0.021733829570050777, 0.021733829570050777, 0.23907212527055854, 0.32600744355076167, 0.043467659140101554, 0.021733829570050777, 0.3838456011459003, 0.11515368034377008, 0.03838456011459002, 0.1535382404583601, 0.26869192080213017, 0.026060002230779398, 0.052120004461558796, 0.0781800066923382, 0.0781800066923382, 0.026060002230779398, 0.3127200267693528, 0.3387800290001322, 0.052120004461558796, 0.026060002230779398, 0.05562517032619157, 0.11125034065238314, 0.1668755109785747, 0.037083446884127715, 0.5933351501460434, 0.037083446884127715, 0.27973600223320433, 0.15540889012955797, 0.12432711210364637, 0.062163556051823186, 0.1450482974542541, 0.05180296337651932, 0.04144237070121546, 0.062163556051823186, 0.07252414872712705, 0.09894350586489961, 0.4947175293244981, 0.07420762939867472, 0.14841525879734943, 0.14841525879734943, 0.049471752932449806, 0.024735876466224903, 0.23590861920740905, 0.5189989622562999, 0.04718172384148181, 0.09436344768296362, 0.07077258576222271, 0.023590861920740905, 0.06218614577505931, 0.07462337493007117, 0.0994978332400949, 0.08706060408508302, 0.21143289563520165, 0.07462337493007117, 0.3482424163403321, 0.04974891662004745, 0.2567985027339801, 0.08559950091132669, 0.22826533576353786, 0.057066333940884464, 0.057066333940884464, 0.028533166970442232, 0.2853316697044223, 0.13926079642395484, 0.18568106189860642, 0.1779443509861645, 0.09284053094930321, 0.03868355456220968, 0.10057724186174515, 0.030946843649767738, 0.13926079642395484, 0.09284053094930321, 0.2732797058319621, 0.5921060293025846, 0.04554661763866035, 0.04554661763866035, 0.1995530707944061, 0.1995530707944061, 0.11403032616823205, 0.07126895385514503, 0.29932960619160914, 0.07126895385514503, 0.04276137231308702, 0.014253790771029007, 0.2022192017891287, 0.06740640059637623, 0.06740640059637623, 0.2696256023855049, 0.33703200298188113, 0.34911807919897003, 0.5818634653316167, 0.013408481510005555, 0.12067633359005, 0.10726785208004444, 0.08045088906003334, 0.16090177812006667, 0.02681696302001111, 0.1474932966100611, 0.22794418567009445, 0.08045088906003334, 0.04022544453001667, 0.05667882991401133, 0.011335765982802266, 0.03967518093980793, 0.06801459589681359, 0.011335765982802266, 0.5384488841831077, 0.14169707478502833, 0.13036130880222607, 0.09219156826856835, 0.08450893757952099, 0.2458441820495156, 0.1229220910247578, 0.007682630689047363, 0.13060472171380516, 0.03841315344523681, 0.1997483979152314, 0.07682630689047362, 0.18597227187535162, 0.3595463922923465, 0.17047458255240563, 0.10538428739603257, 0.05889121942719468, 0.024796302916713548, 0.012398151458356774, 0.009298613593767581, 0.040293992239659515, 0.024796302916713548, 0.6189343669850031, 0.10315572783083386, 0.10315572783083386, 0.10315572783083386, 0.012146186798283292, 0.012146186798283292, 0.13360805478111623, 0.08502330758798304, 0.03643856039484988, 0.04858474719313317, 0.09716949438626633, 0.4251165379399152, 0.060730933991416464, 0.060730933991416464, 0.08645259680785412, 0.08645259680785412, 0.5187155808471247, 0.17290519361570825, 0.7711949479329941, 0.11864537660507603, 0.059322688302538014, 0.10587618618627645, 0.26469046546569114, 0.5293809309313823, 0.052938093093138225, 0.5225605236178283, 0.26128026180891417, 0.2603287487262441, 0.3404299021804731, 0.3604551905440303, 0.02002528836355724, 0.08640656055015283, 0.8640656055015283, 0.028802186850050943, 0.33107808677593387, 0.22071872451728924, 0.03678645408621488, 0.03678645408621488, 0.36786454086214876, 0.12063701023617476, 0.1930192163778796, 0.07238220614170486, 0.12063701023617476, 0.0482548040944699, 0.33778362866128936, 0.12063701023617476, 0.08851115043427342, 0.5753224778227772, 0.08851115043427342, 0.04425557521713671, 0.08851115043427342, 0.08851115043427342, 0.19387512135701426, 0.27142516989981996, 0.0775500485428057, 0.2972751860807552, 0.012925008090467618, 0.03877502427140285, 0.03877502427140285, 0.012925008090467618, 0.025850016180935236, 0.025850016180935236, 0.3428944870052058, 0.21744528444232564, 0.058542961196010754, 0.033453120683434714, 0.12544920256288017, 0.025089840512576036, 0.033453120683434714, 0.09199608187944547, 0.0418164008542934, 0.025089840512576036, 0.13518173727881294, 0.5407269491152518, 0.06759086863940647, 0.06759086863940647, 0.13518173727881294, 0.1667226510452073, 0.6668906041808292, 0.08336132552260365, 0.6251195084622263, 0.1442583481066676, 0.19234446414222348, 0.7838087794013698, 0.15676175588027397, 0.03919043897006849, 0.08651270598613421, 0.8651270598613421, 0.17539912791807755, 0.6138969477132714, 0.17539912791807755, 0.26573643501549776, 0.5314728700309955, 0.6649858016675583, 0.14777462259279073, 0.07388731129639536, 0.7315329065634308, 0.10450470093763298, 0.10450470093763298, 0.19200812223344005, 0.6720284278170402, 0.0572291519272477, 0.6581352471633486, 0.14307287981811925, 0.08584372789087155, 0.0572291519272477, 0.14738582703699635, 0.09825721802466422, 0.09825721802466422, 0.5895433081479854, 0.4048122429673025, 0.4722809501285196, 0.20220628148336467, 0.5055157037084117, 0.20220628148336467, 0.21642887847798928, 0.6492866354339678, 0.07214295949266308, 0.7921754959753684, 0.06601462466461404, 0.06601462466461404, 0.0689354329710957, 0.1102966927537531, 0.4136125978265741, 0.027574173188438276, 0.1102966927537531, 0.013787086594219138, 0.1378708659421914, 0.1102966927537531, 0.21779263353816422, 0.10889631676908211, 0.036298772256360703, 0.5807803561017713, 0.036298772256360703, 0.061525453630336985, 0.8921190776398863, 0.10191694950693372, 0.2242172889152542, 0.13249203435901385, 0.061150169704160234, 0.12230033940832047, 0.030575084852080117, 0.12230033940832047, 0.12230033940832047, 0.09172525455624035, 0.06519917583549893, 0.19559752750649678, 0.06519917583549893, 0.26079670334199573, 0.26079670334199573, 0.3800309889665259, 0.4750387362081573, 0.10544999069979799, 0.0738149934898586, 0.09490499162981819, 0.052724995349898995, 0.22144498046957578, 0.21089998139959598, 0.0632699944198788, 0.052724995349898995, 0.11599498976977779, 0.700583948621705, 0.08757299357771313, 0.08757299357771313, 0.14560085852643626, 0.14560085852643626, 0.2669349072984665, 0.41253576582490276, 0.05079009839802005, 0.2031603935920802, 0.1015801967960401, 0.6602712791742607, 0.053955648075700385, 0.013488912018925096, 0.3507117124920525, 0.026977824037850193, 0.16186694422710116, 0.16186694422710116, 0.18884476826495133, 0.026977824037850193, 0.0489654408396861, 0.07344816125952915, 0.7589643330151346, 0.0489654408396861, 0.0489654408396861, 0.8068301934415013, 0.16136603868830027, 0.10594964002139448, 0.2270349429029882, 0.2573062686233866, 0.09081397716119527, 0.10594964002139448, 0.16649229146219133, 0.030271325720398427, 0.22640557074239273, 0.6037481886463806, 0.07546852358079757, 0.5232032629738465, 0.06824390386615388, 0.04549593591076925, 0.20473171159846162, 0.13648780773230776, 0.1427778555349961, 0.1903704740466615, 0.1903704740466615, 0.04759261851166537, 0.42833356660498834, 0.5453023042898267, 0.16923174960718762, 0.18803527734131956, 0.018803527734131957, 0.07521411093652783, 0.018931804646120837, 0.1419885348459063, 0.4543633115069001, 0.11359082787672503, 0.06626131626142294, 0.018931804646120837, 0.1893180464612084, 0.1309951630354582, 0.2619903260709164, 0.1309951630354582, 0.3929854891063746, 0.007354021596504481, 0.022062064789513443, 0.025739075587765683, 0.08457124835980152, 0.3493160258339628, 0.5111045009570614, 0.10294854539957701, 0.10294854539957701, 0.5833750905976031, 0.10294854539957701, 0.10294854539957701, 0.12101874282374889, 0.18152811423562334, 0.6656030855306189, 0.11418559154539291, 0.5709279577269646, 0.22837118309078583, 0.7181038770800025, 0.2645645862926325, 0.11695419179285148, 0.5847709589642573, 0.11695419179285148, 0.11695419179285148, 0.14543498529663695, 0.0060597910540265395, 0.17573394056676966, 0.2726905974311943, 0.0302989552701327, 0.06665770159429193, 0.08483707475637156, 0.04241853737818578, 0.18179373162079618, 0.38659871466992973, 0.3313703268599398, 0.027614193904994984, 0.22091355123995987, 0.6768655986425195, 0.06153323624022904, 0.12306647248045809, 0.06153323624022904, 0.042914249904712286, 0.901199247998958, 0.20193691803024474, 0.17308878688306692, 0.25963318032460037, 0.0961604371572594, 0.00961604371572594, 0.00961604371572594, 0.01923208743145188, 0.00961604371572594, 0.01923208743145188, 0.20193691803024474, 0.11263638405791604, 0.3379091521737481, 0.45054553623166416, 0.1376021490615073, 0.04586738302050244, 0.09173476604100488, 0.18346953208200975, 0.04586738302050244, 0.4128064471845219, 0.4048822613130675, 0.4723626381985787, 0.07892083063645307, 0.07892083063645307, 0.8286687216827573, 0.814791766981938, 0.11639882385456257, 0.2620127123759869, 0.6987005663359651, 0.035669465327119024, 0.17834732663559513, 0.035669465327119024, 0.7133893065423805, 0.035669465327119024, 0.03134894435507968, 0.052248240591799465, 0.1567447217753984, 0.052248240591799465, 0.07314753682851925, 0.3657376841425963, 0.010449648118359894, 0.2507915548406374, 0.04106295333071017, 0.04106295333071017, 0.8623220199449135, 0.022638350260459468, 0.025872400297667963, 0.04851075055812743, 0.8440870597114173, 0.05174480059533593, 0.026324430744484248, 0.004387405124080708, 0.004387405124080708, 0.8774810248161415, 0.07019848198529133, 0.013162215372242124, 0.2549566755644801, 0.12747833778224005, 0.2549566755644801, 0.38243501334672014, 0.10755952164941343, 0.28682539106510246, 0.07170634776627562, 0.03585317388313781, 0.053779760824706715, 0.17926586941568906, 0.26889880412353356, 0.14152411798286396, 0.24766720647001195, 0.21228617697429594, 0.3891913244528759, 0.23458487978096937, 0.046916975956193874, 0.046916975956193874, 0.1876679038247755, 0.46916975956193874, 0.4159904262632096, 0.0378173114784736, 0.0756346229569472, 0.49162504922015676, 0.07031844471587227, 0.07031844471587227, 0.2812737788634891, 0.07031844471587227, 0.49222911301110595, 0.09414461031313223, 0.09414461031313223, 0.09414461031313223, 0.6590122721919256, 0.3051353489920101, 0.5085589149866835, 0.1017117829973367, 0.13719314082674905, 0.20578971124012355, 0.4801759928936216, 0.13719314082674905, 0.15351705315339242, 0.2379514323877583, 0.007675852657669622, 0.16119290581106205, 0.14584120049572283, 0.28400654833377603, 0.007675852657669622, 0.554225628640648, 0.3879579400484536, 0.18265184240939608, 0.46424009945721506, 0.007610493433724837, 0.030441973734899347, 0.04566296060234902, 0.08371542777097321, 0.15220986867449673, 0.02283148030117451, 0.007610493433724837, 0.08494067638841568, 0.16988135277683136, 0.19819491157296992, 0.5379576171266327], \"Term\": [\"acceptance\", \"acceptance\", \"acceptance\", \"achieve\", \"achieve\", \"achieve\", \"achieve\", \"achieve\", \"achieve\", \"achieve\", \"achieve\", \"acid\", \"acid\", \"acid\", \"acid\", \"activity\", \"activity\", \"activity\", \"activity\", \"activity\", \"admission\", \"admission\", \"admission\", \"adoption\", \"adoption\", \"adoption\", \"adoption\", \"adult\", \"adult\", \"adult\", \"adult\", \"adult\", \"adult\", \"adult\", \"adult\", \"advance\", \"advance\", \"advance\", \"advance\", \"advance\", \"advanced\", \"advanced\", \"advanced\", \"advanced\", \"advanced\", \"adverse\", \"adverse\", \"adverse\", \"adverse\", \"adverse\", \"adverse\", \"age\", \"age\", \"age\", \"age\", \"age\", \"age\", \"age\", \"age\", \"age\", \"agonist\", \"agonist\", \"agonist\", \"agonist\", \"agonist\", \"aim\", \"aim\", \"aim\", \"aim\", \"aim\", \"aim\", \"aim\", \"aim\", \"aim\", \"algorithm\", \"algorithm\", \"align\", \"align\", \"align\", \"alter\", \"alter\", \"alter\", \"alter\", \"alteration\", \"alteration\", \"alteration\", \"alteration\", \"american\", \"american\", \"american\", \"analysis\", \"analysis\", \"analysis\", \"analysis\", \"analysis\", \"analysis\", \"analysis\", \"analysis\", \"analysis\", \"analysis\", \"anti\", \"anti\", \"anti\", \"anti\", \"antioxidant\", \"antioxidant\", \"arabia\", \"arabia\", \"arterial\", \"arterial\", \"article\", \"article\", \"article\", \"article\", \"artificial\", \"assess\", \"assess\", \"assess\", \"assess\", \"assess\", \"assess\", \"assess\", \"assess\", \"assess\", \"associate\", \"associate\", \"associate\", \"associate\", \"associate\", \"associate\", \"associate\", \"associate\", \"associate\", \"association\", \"association\", \"association\", \"association\", \"association\", \"association\", \"association\", \"association\", \"association\", \"asthma\", \"asthma\", \"attention\", \"attention\", \"attitude\", \"attitude\", \"attitude\", \"autoimmune\", \"autoimmune\", \"autoimmune\", \"autoimmune\", \"autoimmune\", \"availability\", \"availability\", \"availability\", \"availability\", \"average\", \"average\", \"average\", \"average\", \"awareness\", \"awareness\", \"awareness\", \"awareness\", \"awareness\", \"awareness\", \"awareness\", \"axis\", \"axis\", \"background\", \"background\", \"background\", \"background\", \"background\", \"background\", \"barrier\", \"barrier\", \"barrier\", \"barrier\", \"barrier\", \"barrier\", \"base\", \"base\", \"base\", \"base\", \"base\", \"base\", \"base\", \"base\", \"base\", \"base\", \"baseline\", \"baseline\", \"baseline\", \"behavior\", \"behavior\", \"behavior\", \"behavior\", \"behavior\", \"belief\", \"belief\", \"biochemical\", \"biochemical\", \"biochemical\", \"blood\", \"blood\", \"blood\", \"blood\", \"blood\", \"blood\", \"blood\", \"blood\", \"calculate\", \"calculate\", \"cancer\", \"cancer\", \"cancer\", \"cancer\", \"cancer\", \"cancer\", \"cancer\", \"cancer\", \"cardiac\", \"cardiac\", \"cardiac\", \"cardiovascular\", \"cardiovascular\", \"cardiovascular\", \"cardiovascular\", \"cardiovascular\", \"cardiovascular\", \"cardiovascular\", \"care\", \"care\", \"care\", \"care\", \"care\", \"care\", \"care\", \"care\", \"care\", \"case\", \"case\", \"case\", \"case\", \"case\", \"case\", \"case\", \"case\", \"case\", \"causal\", \"causal\", \"cause\", \"cause\", \"cause\", \"cause\", \"cause\", \"cause\", \"cause\", \"cause\", \"cell\", \"cell\", \"cell\", \"cell\", \"cell\", \"cell\", \"cervical\", \"cervical\", \"cervical\", \"challenge\", \"challenge\", \"challenge\", \"challenge\", \"challenge\", \"challenge\", \"change\", \"change\", \"change\", \"change\", \"change\", \"change\", \"change\", \"change\", \"characteristic\", \"characteristic\", \"characteristic\", \"characteristic\", \"characteristic\", \"characteristic\", \"chest\", \"chi\", \"chi\", \"child\", \"child\", \"child\", \"child\", \"child\", \"child\", \"child\", \"child\", \"child\", \"china\", \"china\", \"china\", \"china\", \"cholesterol\", \"cholesterol\", \"cholesterol\", \"chronic\", \"chronic\", \"chronic\", \"chronic\", \"chronic\", \"chronic\", \"chronic\", \"ckd\", \"ckd\", \"ckd\", \"class\", \"class\", \"class\", \"class\", \"clinic\", \"clinic\", \"clinic\", \"clinical\", \"clinical\", \"clinical\", \"clinical\", \"clinical\", \"clinical\", \"clinical\", \"clinical\", \"clinical\", \"clinician\", \"clinician\", \"clinician\", \"cohort\", \"cohort\", \"cohort\", \"cohort\", \"cohort\", \"cohort\", \"cohort\", \"collect\", \"collect\", \"collect\", \"collect\", \"collect\", \"college\", \"college\", \"college\", \"combination\", \"combination\", \"combination\", \"combination\", \"common\", \"common\", \"common\", \"common\", \"common\", \"common\", \"common\", \"common\", \"common\", \"common\", \"commonly\", \"commonly\", \"commonly\", \"commonly\", \"communication\", \"communication\", \"communication\", \"comparison\", \"comparison\", \"comparison\", \"comparison\", \"complication\", \"complication\", \"complication\", \"complication\", \"complication\", \"complication\", \"compound\", \"compound\", \"compromise\", \"compromise\", \"compromise\", \"condition\", \"condition\", \"condition\", \"condition\", \"condition\", \"condition\", \"condition\", \"condition\", \"condition\", \"condition\", \"conduct\", \"conduct\", \"conduct\", \"conduct\", \"conduct\", \"conduct\", \"conduct\", \"conduct\", \"conduct\", \"consider\", \"consider\", \"consider\", \"consider\", \"consider\", \"consider\", \"consider\", \"consideration\", \"consideration\", \"consideration\", \"consideration\", \"consideration\", \"consideration\", \"continue\", \"continue\", \"continue\", \"continue\", \"continuous\", \"continuous\", \"continuous\", \"control\", \"control\", \"control\", \"control\", \"control\", \"control\", \"control\", \"copd\", \"coronavirus\", \"coronavirus\", \"correlation\", \"correlation\", \"correlation\", \"covid\", \"covid\", \"covid\", \"covid\", \"covid\", \"covid\", \"create\", \"create\", \"crucial\", \"crucial\", \"crucial\", \"crucial\", \"crucial\", \"crucial\", \"crucial\", \"crucial\", \"current\", \"current\", \"current\", \"current\", \"current\", \"current\", \"current\", \"current\", \"data\", \"data\", \"dataset\", \"dataset\", \"dataset\", \"dataset\", \"date\", \"date\", \"date\", \"date\", \"datum\", \"datum\", \"datum\", \"datum\", \"datum\", \"datum\", \"datum\", \"datum\", \"datum\", \"decision\", \"decision\", \"decision\", \"decision\", \"decision\", \"decision\", \"delay\", \"delay\", \"delay\", \"demographic\", \"demographic\", \"density\", \"density\", \"density\", \"depend\", \"depend\", \"depend\", \"derive\", \"derive\", \"derive\", \"despite\", \"despite\", \"despite\", \"despite\", \"despite\", \"despite\", \"despite\", \"detect\", \"detect\", \"detect\", \"detect\", \"detect\", \"detect\", \"detect\", \"detection\", \"detection\", \"detection\", \"detection\", \"detection\", \"device\", \"device\", \"device\", \"device\", \"diabete\", \"diabete\", \"diabete\", \"diabete\", \"diabete\", \"diabete\", \"diabete\", \"diabete\", \"diabetes\", \"diabetes\", \"diabetes\", \"diabetes\", \"diabetes\", \"diabetes\", \"diabetes\", \"diabetes\", \"diabetes\", \"diabetic\", \"diabetic\", \"diabetic\", \"diabetic\", \"diagnosis\", \"diagnosis\", \"diagnosis\", \"diagnosis\", \"diagnosis\", \"diagnosis\", \"diagnosis\", \"diagnosis\", \"diastolic\", \"diastolic\", \"diet\", \"diet\", \"diet\", \"diet\", \"dietary\", \"dietary\", \"dietary\", \"digital\", \"digital\", \"direct\", \"direct\", \"direct\", \"direct\", \"discussion\", \"discussion\", \"discussion\", \"disease\", \"disease\", \"disease\", \"disease\", \"disease\", \"disease\", \"disease\", \"disease\", \"disease\", \"disease\", \"disorder\", \"disorder\", \"disorder\", \"disorder\", \"disorder\", \"disorder\", \"disparity\", \"disparity\", \"disparity\", \"disparity\", \"disrupt\", \"disrupt\", \"disrupt\", \"diverse\", \"diverse\", \"drug\", \"drug\", \"drug\", \"drug\", \"drug\", \"drug\", \"dual\", \"dual\", \"dual\", \"duration\", \"duration\", \"dysfunction\", \"dysfunction\", \"dysfunction\", \"dysfunction\", \"dysfunction\", \"dysfunction\", \"dyslipidemia\", \"dyslipidemia\", \"dyslipidemia\", \"early\", \"early\", \"early\", \"early\", \"early\", \"early\", \"early\", \"early\", \"early\", \"education\", \"education\", \"education\", \"education\", \"education\", \"education\", \"educational\", \"educational\", \"educational\", \"educational\", \"effect\", \"effect\", \"effect\", \"effect\", \"effect\", \"effect\", \"effect\", \"effect\", \"effect\", \"effect\", \"efficiency\", \"efficiency\", \"efficiency\", \"effort\", \"effort\", \"effort\", \"emerge\", \"emerge\", \"emerge\", \"emerge\", \"emerge\", \"emerge\", \"emerge\", \"emerge\", \"emphasize\", \"emphasize\", \"emphasize\", \"employ\", \"employ\", \"employ\", \"employ\", \"employ\", \"encompass\", \"endocrine\", \"endocrine\", \"endocrine\", \"endocrine\", \"endothelial\", \"endothelial\", \"enrol\", \"enrol\", \"enrol\", \"environmental\", \"environmental\", \"environmental\", \"ethnic\", \"ethnic\", \"ethnic\", \"evaluate\", \"evaluate\", \"evaluate\", \"evaluate\", \"evaluate\", \"evaluate\", \"evaluate\", \"evaluate\", \"evaluate\", \"evaluate\", \"exacerbate\", \"exacerbate\", \"exacerbate\", \"exercise\", \"exercise\", \"exhibit\", \"exhibit\", \"exhibit\", \"exhibit\", \"exhibit\", \"experience\", \"experience\", \"experience\", \"experience\", \"experience\", \"experience\", \"experience\", \"exposure\", \"exposure\", \"exposure\", \"exposure\", \"exposure\", \"facilitate\", \"facilitate\", \"facilitate\", \"facilitate\", \"facilitate\", \"facility\", \"facility\", \"facility\", \"facility\", \"facility\", \"factor\", \"factor\", \"factor\", \"factor\", \"factor\", \"factor\", \"factor\", \"factor\", \"factor\", \"factor\", \"failure\", \"failure\", \"failure\", \"failure\", \"family\", \"family\", \"family\", \"family\", \"finding\", \"finding\", \"finding\", \"finding\", \"finding\", \"finding\", \"finding\", \"finding\", \"finding\", \"follow\", \"follow\", \"follow\", \"follow\", \"follow\", \"follow\", \"follow\", \"follow\", \"follow\", \"food\", \"food\", \"food\", \"frequent\", \"frequent\", \"frequent\", \"frequent\", \"function\", \"function\", \"function\", \"function\", \"function\", \"function\", \"function\", \"g\", \"g\", \"g\", \"gender\", \"gender\", \"gender\", \"genetic\", \"genetic\", \"genetic\", \"genetic\", \"genetic\", \"gland\", \"gland\", \"gland\", \"global\", \"global\", \"global\", \"global\", \"global\", \"global\", \"global\", \"glp\", \"glp\", \"glucagon\", \"glucagon\", \"glucose\", \"glucose\", \"glucose\", \"glucose\", \"glucose\", \"glucose\", \"glucosidase\", \"glycemic\", \"glycemic\", \"glycemic\", \"group\", \"group\", \"group\", \"group\", \"group\", \"group\", \"group\", \"group\", \"grow\", \"grow\", \"grow\", \"grow\", \"grow\", \"guideline\", \"guideline\", \"guideline\", \"guideline\", \"guideline\", \"guideline\", \"guideline\", \"gut\", \"gut\", \"hdl\", \"hdl\", \"health\", \"health\", \"health\", \"health\", \"health\", \"health\", \"health\", \"health\", \"health\", \"health\", \"healthcare\", \"healthcare\", \"healthcare\", \"healthcare\", \"healthcare\", \"hemoglobin\", \"hemoglobin\", \"hepatitis\", \"hepatitis\", \"hepatitis\", \"hepatitis\", \"hesitancy\", \"hesitancy\", \"hesitancy\", \"high\", \"high\", \"high\", \"high\", \"high\", \"high\", \"high\", \"high\", \"high\", \"high\", \"hold\", \"hold\", \"hold\", \"hold\", \"home\", \"home\", \"home\", \"hormone\", \"hormone\", \"hormone\", \"hormone\", \"hormone\", \"hpv\", \"hpv\", \"human\", \"human\", \"human\", \"human\", \"human\", \"hypertension\", \"hypertension\", \"hypertension\", \"hypertension\", \"hypertension\", \"hyperthyroidism\", \"hypothyroidism\", \"hypothyroidism\", \"hypothyroidism\", \"hypothyroidism\", \"hypothyroidism\", \"identify\", \"identify\", \"identify\", \"identify\", \"identify\", \"identify\", \"identify\", \"identify\", \"identify\", \"identify\", \"immune\", \"immune\", \"immune\", \"immune\", \"immunization\", \"immunization\", \"immunization\", \"immunization\", \"impact\", \"impact\", \"impact\", \"impact\", \"impact\", \"impact\", \"impact\", \"impact\", \"impact\", \"implementation\", \"implementation\", \"implementation\", \"implementation\", \"implementation\", \"improve\", \"improve\", \"improve\", \"improve\", \"improve\", \"improve\", \"improve\", \"improve\", \"include\", \"include\", \"include\", \"include\", \"include\", \"include\", \"include\", \"include\", \"include\", \"include\", \"increase\", \"increase\", \"increase\", \"increase\", \"increase\", \"increase\", \"increase\", \"increase\", \"increase\", \"increase\", \"index\", \"index\", \"index\", \"index\", \"index\", \"index\", \"index\", \"india\", \"india\", \"india\", \"india\", \"india\", \"india\", \"indian\", \"indian\", \"individual\", \"individual\", \"individual\", \"individual\", \"individual\", \"individual\", \"individual\", \"individual\", \"individual\", \"individualized\", \"individualized\", \"individualized\", \"individualized\", \"induce\", \"induce\", \"induce\", \"induce\", \"induce\", \"infant\", \"infant\", \"infant\", \"infant\", \"infant\", \"infection\", \"infection\", \"infection\", \"infection\", \"infection\", \"infection\", \"infection\", \"inflammation\", \"inflammation\", \"inflammation\", \"inflammation\", \"inflammation\", \"inflammatory\", \"inflammatory\", \"inflammatory\", \"inflammatory\", \"inflammatory\", \"influenza\", \"influenza\", \"influenza\", \"influenza\", \"information\", \"information\", \"information\", \"information\", \"information\", \"information\", \"inhibitor\", \"inhibitor\", \"inhibitor\", \"inhibitor\", \"inhibitory\", \"inhibitory\", \"initiative\", \"initiative\", \"initiative\", \"initiative\", \"innovation\", \"innovation\", \"innovative\", \"innovative\", \"innovative\", \"insulin\", \"insulin\", \"insulin\", \"insulin\", \"insulin\", \"intake\", \"intake\", \"intake\", \"integrate\", \"integrate\", \"integrate\", \"integrate\", \"intensive\", \"intensive\", \"intensive\", \"intensive\", \"intensive\", \"intensive\", \"intensive\", \"interaction\", \"interaction\", \"interaction\", \"interaction\", \"intermediate\", \"intermediate\", \"intermediate\", \"intermediate\", \"intervention\", \"intervention\", \"intervention\", \"intervention\", \"intervention\", \"intervention\", \"intervention\", \"intervention\", \"intervention\", \"intervention\", \"investigation\", \"investigation\", \"investigation\", \"investigation\", \"june\", \"june\", \"june\", \"june\", \"key\", \"key\", \"key\", \"key\", \"key\", \"key\", \"key\", \"knowledge\", \"knowledge\", \"knowledge\", \"knowledge\", \"knowledge\", \"knowledge\", \"knowledge\", \"knowledge\", \"knowledge\", \"knowledge\", \"laboratory\", \"laboratory\", \"laboratory\", \"laboratory\", \"landscape\", \"landscape\", \"largely\", \"largely\", \"largely\", \"ldl\", \"lead\", \"lead\", \"lead\", \"lead\", \"lead\", \"lead\", \"lead\", \"lead\", \"lead\", \"left\", \"level\", \"level\", \"level\", \"level\", \"level\", \"level\", \"level\", \"level\", \"level\", \"life\", \"life\", \"life\", \"life\", \"life\", \"life\", \"life\", \"life\", \"limitation\", \"limitation\", \"line\", \"lipid\", \"lipid\", \"lipid\", \"lipid\", \"lipid\", \"lipoprotein\", \"lipoprotein\", \"lipoprotein\", \"live\", \"live\", \"live\", \"live\", \"liver\", \"liver\", \"liver\", \"liver\", \"logistic\", \"logistic\", \"longitudinal\", \"longitudinal\", \"low\", \"low\", \"low\", \"low\", \"low\", \"low\", \"low\", \"low\", \"low\", \"low\", \"lung\", \"lung\", \"lung\", \"lung\", \"lung\", \"machine\", \"machine\", \"machine\", \"machine\", \"make\", \"make\", \"make\", \"make\", \"make\", \"make\", \"make\", \"management\", \"management\", \"management\", \"management\", \"management\", \"management\", \"management\", \"management\", \"management\", \"marker\", \"marker\", \"marker\", \"maternal\", \"maternal\", \"maternal\", \"maternal\", \"mean\", \"mean\", \"mean\", \"mean\", \"mean\", \"measle\", \"measle\", \"mechanistic\", \"mechanistic\", \"mechanistic\", \"median\", \"median\", \"median\", \"median\", \"median\", \"medical\", \"medical\", \"medical\", \"medical\", \"medical\", \"medical\", \"medical\", \"medical\", \"medical\", \"metabolic\", \"metabolic\", \"metabolic\", \"metabolic\", \"metabolic\", \"metabolic\", \"metabolic\", \"metabolism\", \"metabolism\", \"metabolism\", \"metabolism\", \"metabolism\", \"mg\", \"mg\", \"microbiota\", \"ml\", \"ml\", \"ml\", \"model\", \"model\", \"model\", \"model\", \"model\", \"model\", \"model\", \"model\", \"model\", \"modulation\", \"modulation\", \"molecular\", \"molecular\", \"molecular\", \"monitoring\", \"monitoring\", \"monitoring\", \"monitoring\", \"monitoring\", \"monitoring\", \"month\", \"month\", \"month\", \"month\", \"mortality\", \"mortality\", \"mortality\", \"mortality\", \"mortality\", \"mortality\", \"mortality\", \"mortality\", \"mortality\", \"multifactorial\", \"multifactorial\", \"multifactorial\", \"multivariable\", \"mutation\", \"mutation\", \"myocardial\", \"myocardial\", \"nan\", \"narrative\", \"narrative\", \"narrative\", \"narrative\", \"need\", \"need\", \"need\", \"need\", \"need\", \"need\", \"need\", \"need\", \"need\", \"non\", \"non\", \"non\", \"non\", \"non\", \"non\", \"non\", \"non\", \"non\", \"non\", \"nutritional\", \"nutritional\", \"nutritional\", \"obesity\", \"obesity\", \"obesity\", \"obesity\", \"objective\", \"objective\", \"objective\", \"objective\", \"objective\", \"objective\", \"objective\", \"occurrence\", \"occurrence\", \"occurrence\", \"old\", \"old\", \"old\", \"old\", \"old\", \"old\", \"optimization\", \"optimization\", \"optimization\", \"outbreak\", \"outbreak\", \"outbreak\", \"outcome\", \"outcome\", \"outcome\", \"outcome\", \"outcome\", \"outcome\", \"outcome\", \"outcome\", \"outcome\", \"outcome\", \"overcome\", \"overcome\", \"overweight\", \"overweight\", \"overweight\", \"overweight\", \"oxidative\", \"oxidative\", \"oxidative\", \"oxygen\", \"oxygen\", \"oxygen\", \"oxygen\", \"oxygen\", \"p\", \"p\", \"p\", \"p\", \"p\", \"pain\", \"pain\", \"pain\", \"pandemic\", \"pandemic\", \"pandemic\", \"pandemic\", \"paper\", \"paper\", \"paper\", \"paper\", \"papillomavirus\", \"parameter\", \"parameter\", \"parameter\", \"parameter\", \"parameter\", \"participant\", \"participant\", \"participant\", \"participant\", \"participant\", \"participant\", \"particular\", \"particular\", \"particular\", \"particular\", \"particularly\", \"particularly\", \"particularly\", \"particularly\", \"particularly\", \"particularly\", \"particularly\", \"particularly\", \"particularly\", \"pathophysiology\", \"patient\", \"patient\", \"patient\", \"patient\", \"patient\", \"patient\", \"patient\", \"patient\", \"pattern\", \"pattern\", \"pattern\", \"pattern\", \"pattern\", \"peptide\", \"peptide\", \"perception\", \"perception\", \"perception\", \"perception\", \"personal\", \"personal\", \"personalized\", \"personalized\", \"personalized\", \"perspective\", \"perspective\", \"perspective\", \"perspective\", \"perspective\", \"physician\", \"physician\", \"plan\", \"plan\", \"plan\", \"plan\", \"platform\", \"platform\", \"platform\", \"play\", \"play\", \"play\", \"play\", \"play\", \"play\", \"play\", \"play\", \"pneumonia\", \"pneumonia\", \"pneumonia\", \"pneumonia\", \"poor\", \"poor\", \"poor\", \"population\", \"population\", \"population\", \"population\", \"population\", \"population\", \"population\", \"population\", \"population\", \"potent\", \"potent\", \"potential\", \"potential\", \"potential\", \"potential\", \"potential\", \"potential\", \"potential\", \"potential\", \"practical\", \"practical\", \"practical\", \"practice\", \"practice\", \"practice\", \"practice\", \"practice\", \"practice\", \"practice\", \"practice\", \"practice\", \"precision\", \"precision\", \"precision\", \"predict\", \"predict\", \"predict\", \"predict\", \"predict\", \"prediction\", \"prediction\", \"prediction\", \"prediction\", \"predictive\", \"predictive\", \"predictive\", \"predictive\", \"pregnancy\", \"pregnancy\", \"pregnancy\", \"pregnancy\", \"pregnancy\", \"pregnancy\", \"pregnancy\", \"pregnancy\", \"pregnant\", \"pregnant\", \"pregnant\", \"pregnant\", \"pressure\", \"pressure\", \"pressure\", \"pressure\", \"pressure\", \"prevalence\", \"prevalence\", \"prevalence\", \"prevalence\", \"prevalence\", \"prevalence\", \"prevalence\", \"primarily\", \"primarily\", \"primarily\", \"primarily\", \"problem\", \"problem\", \"problem\", \"problem\", \"problem\", \"production\", \"production\", \"professional\", \"professional\", \"professional\", \"professional\", \"profile\", \"profile\", \"profile\", \"profile\", \"profile\", \"profile\", \"profile\", \"program\", \"program\", \"program\", \"program\", \"program\", \"program\", \"progress\", \"progress\", \"progress\", \"progression\", \"progression\", \"progression\", \"project\", \"project\", \"project\", \"promise\", \"promise\", \"promise\", \"promise\", \"promise\", \"promising\", \"promising\", \"promising\", \"promising\", \"property\", \"property\", \"property\", \"prospective\", \"prospective\", \"prospective\", \"provide\", \"provide\", \"provide\", \"provide\", \"provide\", \"provide\", \"provide\", \"provide\", \"provide\", \"provider\", \"provider\", \"provider\", \"provider\", \"psychological\", \"psychological\", \"psychological\", \"public\", \"public\", \"public\", \"public\", \"public\", \"public\", \"public\", \"pulmonary\", \"pulmonary\", \"pulmonary\", \"qualitative\", \"qualitative\", \"qualitative\", \"quality\", \"quality\", \"quality\", \"quality\", \"quality\", \"quality\", \"quality\", \"question\", \"question\", \"question\", \"question\", \"random\", \"random\", \"random\", \"rate\", \"rate\", \"rate\", \"rate\", \"rate\", \"rate\", \"rate\", \"rate\", \"rate\", \"ratio\", \"ratio\", \"ratio\", \"ratio\", \"ratio\", \"ratio\", \"ratio\", \"reaction\", \"reaction\", \"reactive\", \"reactive\", \"reactive\", \"reactive\", \"receive\", \"receive\", \"receive\", \"receive\", \"receive\", \"receive\", \"receive\", \"receive\", \"receptor\", \"receptor\", \"receptor\", \"receptor\", \"receptor\", \"recommend\", \"recommend\", \"recommend\", \"recommend\", \"recommend\", \"recommend\", \"recommend\", \"recommend\", \"recommend\", \"recommendation\", \"recommendation\", \"recommendation\", \"recommendation\", \"recommendation\", \"recommendation\", \"reduce\", \"reduce\", \"reduce\", \"reduce\", \"reduce\", \"reduce\", \"reduce\", \"reduce\", \"reduce\", \"region\", \"region\", \"region\", \"region\", \"region\", \"region\", \"region\", \"regression\", \"regression\", \"regression\", \"regression\", \"regression\", \"regression\", \"relate\", \"relate\", \"relate\", \"relate\", \"relate\", \"relate\", \"relate\", \"relate\", \"relationship\", \"relationship\", \"relationship\", \"relationship\", \"relationship\", \"relationship\", \"relationship\", \"remain\", \"remain\", \"remain\", \"remain\", \"remain\", \"remain\", \"remain\", \"remain\", \"remain\", \"renal\", \"renal\", \"renal\", \"renal\", \"report\", \"report\", \"report\", \"report\", \"report\", \"report\", \"report\", \"report\", \"reproductive\", \"reproductive\", \"reproductive\", \"reproductive\", \"reproductive\", \"requirement\", \"requirement\", \"research\", \"research\", \"research\", \"research\", \"research\", \"research\", \"research\", \"research\", \"research\", \"research\", \"respiratory\", \"respiratory\", \"respiratory\", \"respiratory\", \"respiratory\", \"respiratory\", \"respiratory\", \"respiratory\", \"review\", \"review\", \"review\", \"review\", \"review\", \"review\", \"review\", \"review\", \"review\", \"risk\", \"risk\", \"risk\", \"risk\", \"risk\", \"risk\", \"risk\", \"risk\", \"risk\", \"risk\", \"robust\", \"robust\", \"robust\", \"robust\", \"role\", \"role\", \"role\", \"role\", \"role\", \"role\", \"role\", \"role\", \"role\", \"role\", \"safe\", \"safe\", \"safe\", \"safe\", \"saudi\", \"saudi\", \"saudi\", \"school\", \"school\", \"school\", \"school\", \"scientific\", \"scientific\", \"score\", \"score\", \"score\", \"score\", \"self\", \"self\", \"self\", \"serum\", \"serum\", \"serum\", \"serum\", \"serum\", \"severe\", \"severe\", \"severe\", \"severe\", \"severe\", \"severe\", \"severe\", \"severity\", \"severity\", \"severity\", \"severity\", \"severity\", \"severity\", \"show\", \"show\", \"show\", \"show\", \"show\", \"show\", \"show\", \"show\", \"show\", \"show\", \"significant\", \"significant\", \"significant\", \"significant\", \"significant\", \"significant\", \"significant\", \"significant\", \"significant\", \"significant\", \"similar\", \"similar\", \"similar\", \"similar\", \"similar\", \"site\", \"site\", \"site\", \"sleep\", \"sleep\", \"sleep\", \"social\", \"social\", \"social\", \"society\", \"society\", \"socioeconomic\", \"socioeconomic\", \"socioeconomic\", \"sodium\", \"sodium\", \"solution\", \"solution\", \"solution\", \"square\", \"square\", \"square\", \"staff\", \"staff\", \"stage\", \"stage\", \"stage\", \"stage\", \"stage\", \"state\", \"state\", \"state\", \"state\", \"states\", \"states\", \"statistically\", \"statistically\", \"statistically\", \"stimulate\", \"stimulate\", \"stimulate\", \"strain\", \"strain\", \"strain\", \"strategy\", \"strategy\", \"strategy\", \"strategy\", \"strategy\", \"strategy\", \"strategy\", \"strategy\", \"stress\", \"stress\", \"stress\", \"stress\", \"stress\", \"student\", \"student\", \"study\", \"study\", \"study\", \"study\", \"study\", \"study\", \"study\", \"study\", \"study\", \"summarize\", \"summarize\", \"summarize\", \"summarize\", \"summarize\", \"supplementation\", \"supplementation\", \"support\", \"support\", \"support\", \"support\", \"support\", \"support\", \"support\", \"support\", \"support\", \"surface\", \"surface\", \"surface\", \"survey\", \"survey\", \"survey\", \"survey\", \"survival\", \"survival\", \"survival\", \"survival\", \"system\", \"system\", \"system\", \"system\", \"system\", \"system\", \"system\", \"system\", \"systemic\", \"systemic\", \"systemic\", \"systemic\", \"systemic\", \"systolic\", \"systolic\", \"target\", \"target\", \"target\", \"target\", \"target\", \"target\", \"target\", \"team\", \"team\", \"team\", \"test\", \"test\", \"test\", \"test\", \"test\", \"testing\", \"testing\", \"testing\", \"testing\", \"testing\", \"therapeutic\", \"therapeutic\", \"therapeutic\", \"therapeutic\", \"therapeutic\", \"therapy\", \"therapy\", \"therapy\", \"therapy\", \"therapy\", \"therapy\", \"therapy\", \"threaten\", \"threaten\", \"threaten\", \"threaten\", \"thyroid\", \"thyroid\", \"thyroid\", \"thyroid\", \"thyroid\", \"thyroid\", \"tool\", \"tool\", \"tool\", \"tool\", \"tool\", \"tract\", \"tract\", \"tract\", \"train\", \"train\", \"train\", \"training\", \"training\", \"transition\", \"transition\", \"transition\", \"transition\", \"treatment\", \"treatment\", \"treatment\", \"treatment\", \"treatment\", \"treatment\", \"treatment\", \"treatment\", \"treatment\", \"trial\", \"trial\", \"trial\", \"trial\", \"triglyceride\", \"triglyceride\", \"triglyceride\", \"triglyceride\", \"tsh\", \"tsh\", \"type\", \"type\", \"type\", \"type\", \"type\", \"type\", \"type\", \"type\", \"type\", \"type\", \"uncertain\", \"uncertain\", \"uncertain\", \"unit\", \"unit\", \"unit\", \"unit\", \"unit\", \"unit\", \"united\", \"united\", \"university\", \"university\", \"university\", \"untreated\", \"untreated\", \"update\", \"update\", \"uptake\", \"uptake\", \"uptake\", \"uptake\", \"uptake\", \"use\", \"use\", \"use\", \"use\", \"use\", \"use\", \"use\", \"use\", \"vaccinate\", \"vaccinate\", \"vaccinate\", \"vaccination\", \"vaccination\", \"vaccination\", \"vaccination\", \"vaccination\", \"vaccine\", \"vaccine\", \"vaccine\", \"vaccine\", \"vaccine\", \"vaccine\", \"valuable\", \"valuable\", \"valuable\", \"valuable\", \"value\", \"value\", \"value\", \"value\", \"value\", \"value\", \"value\", \"ventilation\", \"ventilation\", \"ventilation\", \"ventilation\", \"viral\", \"viral\", \"viral\", \"viral\", \"viral\", \"virus\", \"virus\", \"virus\", \"virus\", \"vitro\", \"vitro\", \"vitro\", \"vitro\", \"vitro\", \"web\", \"web\", \"web\", \"web\", \"western\", \"western\", \"western\", \"willingness\", \"willingness\", \"willingness\", \"willingness\", \"woman\", \"woman\", \"woman\", \"woman\", \"woman\", \"woman\", \"woman\", \"worker\", \"worker\", \"year\", \"year\", \"year\", \"year\", \"year\", \"year\", \"year\", \"year\", \"year\", \"young\", \"young\", \"young\", \"young\"]}, \"R\": 30, \"lambda.step\": 0.01, \"plot.opts\": {\"xlab\": \"PC1\", \"ylab\": \"PC2\"}, \"topic.order\": [10, 7, 6, 8, 2, 9, 4, 5, 1, 3]};\n",
       "\n",
       "function LDAvis_load_lib(url, callback){\n",
       "  var s = document.createElement('script');\n",
       "  s.src = url;\n",
       "  s.async = true;\n",
       "  s.onreadystatechange = s.onload = callback;\n",
       "  s.onerror = function(){console.warn(\"failed to load library \" + url);};\n",
       "  document.getElementsByTagName(\"head\")[0].appendChild(s);\n",
       "}\n",
       "\n",
       "if(typeof(LDAvis) !== \"undefined\"){\n",
       "   // already loaded: just create the visualization\n",
       "   !function(LDAvis){\n",
       "       new LDAvis(\"#\" + \"ldavis_el2128424734896890405255991090\", ldavis_el2128424734896890405255991090_data);\n",
       "   }(LDAvis);\n",
       "}else if(typeof define === \"function\" && define.amd){\n",
       "   // require.js is available: use it to load d3/LDAvis\n",
       "   require.config({paths: {d3: \"https://d3js.org/d3.v5\"}});\n",
       "   require([\"d3\"], function(d3){\n",
       "      window.d3 = d3;\n",
       "      LDAvis_load_lib(\"https://cdn.jsdelivr.net/gh/bmabey/pyLDAvis@3.4.0/pyLDAvis/js/ldavis.v3.0.0.js\", function(){\n",
       "        new LDAvis(\"#\" + \"ldavis_el2128424734896890405255991090\", ldavis_el2128424734896890405255991090_data);\n",
       "      });\n",
       "    });\n",
       "}else{\n",
       "    // require.js not available: dynamically load d3 & LDAvis\n",
       "    LDAvis_load_lib(\"https://d3js.org/d3.v5.js\", function(){\n",
       "         LDAvis_load_lib(\"https://cdn.jsdelivr.net/gh/bmabey/pyLDAvis@3.4.0/pyLDAvis/js/ldavis.v3.0.0.js\", function(){\n",
       "                 new LDAvis(\"#\" + \"ldavis_el2128424734896890405255991090\", ldavis_el2128424734896890405255991090_data);\n",
       "            })\n",
       "         });\n",
       "}\n",
       "</script>"
      ],
      "text/plain": [
       "<IPython.core.display.HTML object>"
      ]
     },
     "execution_count": 13,
     "metadata": {},
     "output_type": "execute_result"
    }
   ],
   "source": [
    "# Visualize topics\n",
    "lda_display = pyLDAvis.gensim_models.prepare(lda_model, corpus, dictionary)\n",
    "pyLDAvis.display(lda_display)"
   ]
  },
  {
   "cell_type": "markdown",
   "id": "d1f4ab7c-3041-4e67-86fa-6ce90d050310",
   "metadata": {},
   "source": [
    "#### Step 11 : Map Topics to Medical Specialties (Taxonomy Alignment)\n",
    "\n",
    "To connect topics with **HCP specialties**:\n",
    "\n",
    "- Define a taxonomy of medical specialties (Cardiology, Endocrinology, Oncology, etc.).\n",
    "- Represent both topics and specialties using **SpaCy word embeddings**.\n",
    "- Compute **cosine similarity** between topic vectors and specialty keyword vectors.\n",
    "- Assign each topic to its **most semantically similar specialty**.\n",
    "\n",
    "This converts unsupervised topic clusters into clinically meaningful domains, bridging NLP-driven insights with medical taxonomy."
   ]
  },
  {
   "cell_type": "code",
   "execution_count": 14,
   "id": "3c7a54fa-b195-435d-9904-2ea0505427e3",
   "metadata": {},
   "outputs": [],
   "source": [
    "hcp_master = pd.read_csv(\"C:/Users/bhand/Desktop/Data Science - My Collection/Deep Learning Project - 1/Data/Data for Recommender System/HCP_Hybrid_Recommendation_System/data/hcp_master.csv\")\n"
   ]
  },
  {
   "cell_type": "code",
   "execution_count": 15,
   "id": "e7148f9f-c609-4ef8-b4ba-748c6b8df6bd",
   "metadata": {},
   "outputs": [],
   "source": [
    "# Get top N words for each topic\n",
    "topic_keywords = {}\n",
    "for topic_ids in range(lda_model.num_topics):\n",
    "    words = lda_model.show_topic(topic_ids, topn=15)  # top 15 words\n",
    "    topic_keywords[topic_ids] = \" \".join([w for w, p in words])\n"
   ]
  },
  {
   "cell_type": "code",
   "execution_count": 16,
   "id": "996b99d2-5957-4c57-9f6e-462b27e1f518",
   "metadata": {},
   "outputs": [],
   "source": [
    "# Creating taxonomy data\n",
    "taxonomy_df = pd.DataFrame({\n",
    "    'Specialty': [\"Cardiology\", \"Endocrinology\", \"Family Medicine\", \"Internal Medicine\", \"General Practice\", \"Oncology\"],\n",
    "    'keywords': [\n",
    "        [\"heart, cardiac, hypertension, atrial, stroke, arrhythmia, cardiovascular, coronary, blood pressure, heart failure, myocardial, angina, echocardiography, cholesterol, stent\"],\n",
    "        [\"hormone, thyroid, tsh, pituitary, adrenal, metabolism, endocrine, insulin, glucose, pancreas, cortisol, estrogen, testosterone, parathyroid, diabetes\"],\n",
    "        [\"primary care, family, general health, routine, preventive, holistic, wellness, pediatrics, geriatrics, chronic care, screening, outpatient, immunization, counseling, checkup\"],\n",
    "        [\"internal medicine, adult, chronic disease, hypertension, diabetes, asthma, kidney, liver, digestive, infection, anemia, pneumonia, arthritis, obesity, cardiometabolic\"],\n",
    "        [\"general practice, gp, outpatient, clinic, routine, primary care, wellness, diagnosis, treatment, prevention, lifestyle, counseling, vaccination, screening, referral\"],\n",
    "        [\"cancer, tumor, oncology, chemotherapy, immunotherapy, checkpoint, pd1, tcell, metastasis, radiation, biopsy, targeted therapy, precision medicine, carcinoma, leukemia\"]\n",
    "    ]\n",
    "})"
   ]
  },
  {
   "cell_type": "code",
   "execution_count": 17,
   "id": "d4246373-7230-4d04-a042-b13ae69d329c",
   "metadata": {},
   "outputs": [],
   "source": [
    "results = []\n",
    "\n",
    "taxonomy_dict = {\n",
    "    row[\"Specialty\"]: row[\"keywords\"]\n",
    "    for _, row in taxonomy_df.iterrows()\n",
    "}\n",
    "\n",
    "for tid, twords in topic_keywords.items():\n",
    "    topic_doc = nlp(twords)\n",
    "\n",
    "    best_match, best_score = \"Others\", 0\n",
    "    for spec, spec_words in taxonomy_dict.items():\n",
    "        spec_doc = nlp(\" \".join(spec_words))\n",
    "        score = topic_doc.similarity(spec_doc)\n",
    "\n",
    "        if score > best_score:\n",
    "            best_match, best_score = spec, score\n",
    "\n",
    "    results.append([tid, twords, best_match, best_score])\n",
    "\n",
    "results_df = pd.DataFrame(\n",
    "    results, columns=[\"topic_ids\", \"topic_words\", \"specialty\", \"similarity\"]\n",
    ")"
   ]
  },
  {
   "cell_type": "markdown",
   "id": "2f2ed7ef-fdba-47c7-9e40-b57bd6cff7be",
   "metadata": {},
   "source": [
    "#### Step 12 : Merge Topic–Specialty Mapping\n",
    "\n",
    "Merge the **topic–specialty** relationships into our main *scientific_content_data* table.\n",
    "Now each content piece is labeled with:\n",
    "\n",
    "- Its dominant topic\n",
    "- Top keywords\n",
    "- Topic probability vector\n",
    "- Matched medical specialty\n",
    "\n",
    "This enriched representation supports downstream HCP targeting, content personalization, and engagement analytics."
   ]
  },
  {
   "cell_type": "code",
   "execution_count": 18,
   "id": "af7aa8b5-be9e-4faa-a838-5f475e1ede06",
   "metadata": {},
   "outputs": [],
   "source": [
    "# merging with scientific content data\n",
    "\n",
    "topic_specialty_map = (\n",
    "    results_df.loc[results_df.groupby(\"topic_ids\")[\"similarity\"].idxmax(),\n",
    "                   [\"topic_ids\", \"specialty\"]]\n",
    "    .reset_index(drop=True)\n",
    ")\n",
    "\n",
    "scientific_content_data = scientific_content_data.merge(\n",
    "    topic_specialty_map, on=\"topic_ids\", how=\"left\"\n",
    ")"
   ]
  },
  {
   "cell_type": "markdown",
   "id": "e54bdfcb-0cd3-4931-b468-0b15d3e885fa",
   "metadata": {},
   "source": [
    "#### Step 13 : Save Final Scientific Content Data\n",
    "\n",
    "Finally!\n",
    "\n",
    "*scientific_content_data* is transformed and exported as:\n",
    "\n",
    "Scientific_data_linked_new.csv → *Base topic distribution data + Specialty-mapped enriched data*\n",
    "\n",
    "This structured dataset can now be used for:\n",
    "- Input features in **HCP Recommender Systems (LSTM / Hybrid models)**\n",
    "- **Campaign analytics** for content optimization\n",
    "- **Clustering / segmentation** of scientific themes"
   ]
  },
  {
   "cell_type": "code",
   "execution_count": 19,
   "id": "b1120516-b8f8-4340-a721-b90100a70d0f",
   "metadata": {},
   "outputs": [
    {
     "name": "stdout",
     "output_type": "stream",
     "text": [
      "/n New Scientific Content Data Mapped\n"
     ]
    },
    {
     "data": {
      "text/html": [
       "<div>\n",
       "<style scoped>\n",
       "    .dataframe tbody tr th:only-of-type {\n",
       "        vertical-align: middle;\n",
       "    }\n",
       "\n",
       "    .dataframe tbody tr th {\n",
       "        vertical-align: top;\n",
       "    }\n",
       "\n",
       "    .dataframe thead th {\n",
       "        text-align: right;\n",
       "    }\n",
       "</style>\n",
       "<table border=\"1\" class=\"dataframe\">\n",
       "  <thead>\n",
       "    <tr style=\"text-align: right;\">\n",
       "      <th></th>\n",
       "      <th>PMID</th>\n",
       "      <th>Title</th>\n",
       "      <th>Abstract</th>\n",
       "      <th>topic_ids</th>\n",
       "      <th>topic_keywords</th>\n",
       "      <th>content_id</th>\n",
       "      <th>source</th>\n",
       "      <th>topic_0</th>\n",
       "      <th>topic_1</th>\n",
       "      <th>topic_2</th>\n",
       "      <th>topic_3</th>\n",
       "      <th>topic_4</th>\n",
       "      <th>topic_5</th>\n",
       "      <th>topic_6</th>\n",
       "      <th>topic_7</th>\n",
       "      <th>topic_8</th>\n",
       "      <th>topic_9</th>\n",
       "      <th>specialty</th>\n",
       "    </tr>\n",
       "  </thead>\n",
       "  <tbody>\n",
       "    <tr>\n",
       "      <th>0</th>\n",
       "      <td>40887509</td>\n",
       "      <td>Sodium glucose co-transporter 2 inhibitor-asso...</td>\n",
       "      <td>Perioperative euglycaemic diabetic ketoacidosi...</td>\n",
       "      <td>9</td>\n",
       "      <td>group, control, risk, cardiovascular, disease,...</td>\n",
       "      <td>C0000</td>\n",
       "      <td>PubMed</td>\n",
       "      <td>0.000400</td>\n",
       "      <td>0.000584</td>\n",
       "      <td>0.205033</td>\n",
       "      <td>0.000507</td>\n",
       "      <td>0.000541</td>\n",
       "      <td>0.129890</td>\n",
       "      <td>0.187372</td>\n",
       "      <td>0.000603</td>\n",
       "      <td>0.000469</td>\n",
       "      <td>0.474600</td>\n",
       "      <td>Cardiology</td>\n",
       "    </tr>\n",
       "    <tr>\n",
       "      <th>1</th>\n",
       "      <td>40886230</td>\n",
       "      <td>Can Dual Incretin Receptor Agonists Exert Bett...</td>\n",
       "      <td>Despite advances in cardiovascular risk reduct...</td>\n",
       "      <td>5</td>\n",
       "      <td>management, diabetes, glucose, risk, clinical,...</td>\n",
       "      <td>C0001</td>\n",
       "      <td>PubMed</td>\n",
       "      <td>0.000440</td>\n",
       "      <td>0.000642</td>\n",
       "      <td>0.000446</td>\n",
       "      <td>0.000558</td>\n",
       "      <td>0.000595</td>\n",
       "      <td>0.994736</td>\n",
       "      <td>0.000650</td>\n",
       "      <td>0.000663</td>\n",
       "      <td>0.000516</td>\n",
       "      <td>0.000755</td>\n",
       "      <td>General Practice</td>\n",
       "    </tr>\n",
       "    <tr>\n",
       "      <th>2</th>\n",
       "      <td>40885915</td>\n",
       "      <td>The association between diabetes management se...</td>\n",
       "      <td>Self-efficacy emerges as a crucial element tha...</td>\n",
       "      <td>1</td>\n",
       "      <td>health, care, healthcare, self, model, include...</td>\n",
       "      <td>C0002</td>\n",
       "      <td>PubMed</td>\n",
       "      <td>0.001692</td>\n",
       "      <td>0.532340</td>\n",
       "      <td>0.448721</td>\n",
       "      <td>0.002145</td>\n",
       "      <td>0.002287</td>\n",
       "      <td>0.002878</td>\n",
       "      <td>0.002498</td>\n",
       "      <td>0.002551</td>\n",
       "      <td>0.001984</td>\n",
       "      <td>0.002904</td>\n",
       "      <td>Family Medicine</td>\n",
       "    </tr>\n",
       "    <tr>\n",
       "      <th>3</th>\n",
       "      <td>40884731</td>\n",
       "      <td>Intrinsic Motivation Moderates the Effect of F...</td>\n",
       "      <td>Few studies have examined effects of intrinsic...</td>\n",
       "      <td>0</td>\n",
       "      <td>thyroid, disorder, woman, hormone, disease, hy...</td>\n",
       "      <td>C0003</td>\n",
       "      <td>PubMed</td>\n",
       "      <td>0.546631</td>\n",
       "      <td>0.271954</td>\n",
       "      <td>0.000572</td>\n",
       "      <td>0.000716</td>\n",
       "      <td>0.000763</td>\n",
       "      <td>0.000960</td>\n",
       "      <td>0.175920</td>\n",
       "      <td>0.000851</td>\n",
       "      <td>0.000662</td>\n",
       "      <td>0.000969</td>\n",
       "      <td>Endocrinology</td>\n",
       "    </tr>\n",
       "    <tr>\n",
       "      <th>4</th>\n",
       "      <td>40877913</td>\n",
       "      <td>Inhibitory effects of the flavonoids extracted...</td>\n",
       "      <td>Pollen Typhae (PT), a traditional Chinese medi...</td>\n",
       "      <td>7</td>\n",
       "      <td>disease, therapy, ckd, treatment, cell, risk, ...</td>\n",
       "      <td>C0004</td>\n",
       "      <td>PubMed</td>\n",
       "      <td>0.209026</td>\n",
       "      <td>0.004637</td>\n",
       "      <td>0.003217</td>\n",
       "      <td>0.004026</td>\n",
       "      <td>0.004293</td>\n",
       "      <td>0.366371</td>\n",
       "      <td>0.004689</td>\n",
       "      <td>0.394566</td>\n",
       "      <td>0.003725</td>\n",
       "      <td>0.005451</td>\n",
       "      <td>General Practice</td>\n",
       "    </tr>\n",
       "  </tbody>\n",
       "</table>\n",
       "</div>"
      ],
      "text/plain": [
       "       PMID                                              Title  \\\n",
       "0  40887509  Sodium glucose co-transporter 2 inhibitor-asso...   \n",
       "1  40886230  Can Dual Incretin Receptor Agonists Exert Bett...   \n",
       "2  40885915  The association between diabetes management se...   \n",
       "3  40884731  Intrinsic Motivation Moderates the Effect of F...   \n",
       "4  40877913  Inhibitory effects of the flavonoids extracted...   \n",
       "\n",
       "                                            Abstract  topic_ids  \\\n",
       "0  Perioperative euglycaemic diabetic ketoacidosi...          9   \n",
       "1  Despite advances in cardiovascular risk reduct...          5   \n",
       "2  Self-efficacy emerges as a crucial element tha...          1   \n",
       "3  Few studies have examined effects of intrinsic...          0   \n",
       "4  Pollen Typhae (PT), a traditional Chinese medi...          7   \n",
       "\n",
       "                                      topic_keywords content_id  source  \\\n",
       "0  group, control, risk, cardiovascular, disease,...      C0000  PubMed   \n",
       "1  management, diabetes, glucose, risk, clinical,...      C0001  PubMed   \n",
       "2  health, care, healthcare, self, model, include...      C0002  PubMed   \n",
       "3  thyroid, disorder, woman, hormone, disease, hy...      C0003  PubMed   \n",
       "4  disease, therapy, ckd, treatment, cell, risk, ...      C0004  PubMed   \n",
       "\n",
       "    topic_0   topic_1   topic_2   topic_3   topic_4   topic_5   topic_6  \\\n",
       "0  0.000400  0.000584  0.205033  0.000507  0.000541  0.129890  0.187372   \n",
       "1  0.000440  0.000642  0.000446  0.000558  0.000595  0.994736  0.000650   \n",
       "2  0.001692  0.532340  0.448721  0.002145  0.002287  0.002878  0.002498   \n",
       "3  0.546631  0.271954  0.000572  0.000716  0.000763  0.000960  0.175920   \n",
       "4  0.209026  0.004637  0.003217  0.004026  0.004293  0.366371  0.004689   \n",
       "\n",
       "    topic_7   topic_8   topic_9         specialty  \n",
       "0  0.000603  0.000469  0.474600        Cardiology  \n",
       "1  0.000663  0.000516  0.000755  General Practice  \n",
       "2  0.002551  0.001984  0.002904   Family Medicine  \n",
       "3  0.000851  0.000662  0.000969     Endocrinology  \n",
       "4  0.394566  0.003725  0.005451  General Practice  "
      ]
     },
     "execution_count": 19,
     "metadata": {},
     "output_type": "execute_result"
    }
   ],
   "source": [
    "# Saving scientific content mapped\n",
    "\n",
    "scientific_content_data.to_csv(\"Scientific_data_linked_new.csv\", index = False)\n",
    "print(\"/n New Scientific Content Data Mapped\")\n",
    "\n",
    "# view scientific data file\n",
    "scientific_content_data.head()"
   ]
  },
  {
   "cell_type": "code",
   "execution_count": null,
   "id": "035787ff-febf-40bc-9b75-9656f098c8fb",
   "metadata": {},
   "outputs": [],
   "source": []
  }
 ],
 "metadata": {
  "kernelspec": {
   "display_name": "Python 3 (ipykernel)",
   "language": "python",
   "name": "python3"
  },
  "language_info": {
   "codemirror_mode": {
    "name": "ipython",
    "version": 3
   },
   "file_extension": ".py",
   "mimetype": "text/x-python",
   "name": "python",
   "nbconvert_exporter": "python",
   "pygments_lexer": "ipython3",
   "version": "3.12.7"
  }
 },
 "nbformat": 4,
 "nbformat_minor": 5
}
