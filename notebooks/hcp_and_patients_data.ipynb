{
 "cells": [
  {
   "cell_type": "markdown",
   "id": "0855e4de-329f-4873-bf82-606772a6d52c",
   "metadata": {},
   "source": [
    "# Synthetic HCP Profile Creation"
   ]
  },
  {
   "cell_type": "markdown",
   "id": "d5620963-3f63-4e5d-8e44-93c60848720b",
   "metadata": {},
   "source": [
    "In this python script, I will be generating synthetic HCP profiles by linking it to synthetic patients data created previously from synthea software. Purpose of creating this type of dataset was to utilize for exploratory data analysis and in various potential projects in near future."
   ]
  },
  {
   "cell_type": "markdown",
   "id": "1cf8ea23-ea4a-4210-a8ab-3a68246df1c6",
   "metadata": {},
   "source": [
    "#### Required libraries for linking hcp with patients data"
   ]
  },
  {
   "cell_type": "code",
   "execution_count": 30,
   "id": "4c7e69ac-9689-4843-9aba-afe6d299bf28",
   "metadata": {},
   "outputs": [],
   "source": [
    "\n",
    "import os\n",
    "import requests\n",
    "import zipfile\n",
    "import pandas as pd\n",
    "from io import BytesIO\n",
    "import random"
   ]
  },
  {
   "cell_type": "markdown",
   "id": "256ee5f9-56cf-47d5-b498-a0751796de62",
   "metadata": {},
   "source": [
    "#### Extracting downloaded csv file from NPI"
   ]
  },
  {
   "cell_type": "code",
   "execution_count": null,
   "id": "85abba62-64ad-4431-8a44-e1cb1eccc098",
   "metadata": {},
   "outputs": [],
   "source": [
    "zip_filename = \"C:/Users/bhand/Desktop/Data Science - My Collection/Deep Learning Project - 1/Data/NPPES_Data_Dissemination_August_2025.zip\"\n",
    "output_dir = \"npi_data\"\n",
    "\n",
    "with zipfile.ZipFile(zip_filename, \"r\") as z:\n",
    "    z.extractall(output_dir)\n",
    "\n",
    "print(\"Files extracted to:\", output_dir)"
   ]
  },
  {
   "cell_type": "markdown",
   "id": "cb9f2415-6460-454e-aaee-8a26bde655c4",
   "metadata": {},
   "source": [
    "#### Configurations"
   ]
  },
  {
   "cell_type": "code",
   "execution_count": 20,
   "id": "e0a59df2-aa3d-4f81-8a37-65468e95e5f2",
   "metadata": {},
   "outputs": [],
   "source": [
    "# Extracting only the required columns from the dataset\n",
    "usecols = [\n",
    "    \"NPI\",\n",
    "    \"Entity Type Code\",\n",
    "    \"Provider Last Name (Legal Name)\",\n",
    "    \"Provider First Name\",\n",
    "    \"Provider Credential Text\",\n",
    "    \"Provider Business Mailing Address City Name\",\n",
    "    \"Provider Business Mailing Address State Name\",\n",
    "    \"Provider Business Mailing Address Postal Code\",\n",
    "    \"Healthcare Provider Taxonomy Code_1\"\n",
    "]\n",
    "\n",
    "chunksize = 50000\n",
    "max_hcps = 20000"
   ]
  },
  {
   "cell_type": "markdown",
   "id": "a53bb0c7-f5e4-4afa-a56c-b2cf66ce94b0",
   "metadata": {},
   "source": [
    "#### Step 1 : Process NPI in chunks"
   ]
  },
  {
   "cell_type": "code",
   "execution_count": 24,
   "id": "63313920-be06-4e9b-b98b-b4cef28ea3ca",
   "metadata": {},
   "outputs": [
    {
     "name": "stdout",
     "output_type": "stream",
     "text": [
      "Processing NPI dataset in chunks...\n"
     ]
    }
   ],
   "source": [
    "npi_csv = \"C:/Users/bhand/Desktop/Data Science - My Collection/Deep Learning Project - 1/Data/Data for Recommender System/npi_data/npidata_pfile_20050523-20250810.csv\"\n",
    "hcp_master_list = []\n",
    "total_hcps = 0\n",
    "\n",
    "print(\"Processing NPI dataset in chunks...\")\n",
    "for chunk in pd.read_csv(npi_csv, chunksize = chunksize, usecols = usecols, dtype = str, low_memory = True):\n",
    "    # filter : individuals only\n",
    "    chunk = chunk[chunk[\"Entity Type Code\"] == \"1\"]\n",
    "\n",
    "    # rename columns\n",
    "    chunk = chunk.rename(columns={\n",
    "        \"NPI\" : \"hcp_id\",\n",
    "        \"Provider Last Name (Legal Name)\": \"last_name\",\n",
    "        \"Provider First Name\": \"first_name\",\n",
    "        \"Provider Credential Text\":\"credential\",\n",
    "        \"Provider Business Mailing Address City Name\": \"city\",\n",
    "        \"Provider Business Mailing Address State Name\": \"state\",\n",
    "        \"Provider Business Mailing Address Postal Code\": \"zip\",\n",
    "        \"Healthcare Provider Taxonomy Code_1\": \"taxonomy_code\"\n",
    "    })\n",
    "\n",
    "    hcp_master_list.append(chunk)\n",
    "    total_hcps += len(chunk)\n",
    "\n",
    "    # stop once enough HCPs collected\n",
    "    if total_hcps >= max_hcps:\n",
    "        break\n",
    "\n",
    "# combine processed chunks\n",
    "hcp_master = pd.concat(hcp_master_list, ignore_index = True)"
   ]
  },
  {
   "cell_type": "markdown",
   "id": "b42b03b1-0666-4bad-bb08-8d1ad5026e76",
   "metadata": {},
   "source": [
    "#### Step 2 : Taxonomy mapping -> speciality"
   ]
  },
  {
   "cell_type": "code",
   "execution_count": 27,
   "id": "d327dac9-4154-44df-9c91-471191316ba2",
   "metadata": {},
   "outputs": [
    {
     "name": "stdout",
     "output_type": "stream",
     "text": [
      "HCP Master saved: hcp_master.csv, row37729\n"
     ]
    }
   ],
   "source": [
    "hcp_output_csv = \"hcp_master.csv\"\n",
    "\n",
    "taxonomy_map = {\n",
    "    \"207R00000X\": \"Internal Medicine\",\n",
    "    \"207Q00000X\": \"Family Medicine\",\n",
    "    \"207RE0101X\": \"Endocrinology\",\n",
    "    \"207RC0000X\": \"Cardiology\",\n",
    "    \"207RX0202X\": \"Oncology\",\n",
    "    \"208D00000X\": \"General Practice\"\n",
    "}\n",
    "\n",
    "# speciality\n",
    "hcp_master[\"speciality\"] = hcp_master[\"taxonomy_code\"].map(taxonomy_map).fillna(\"Other\")\n",
    "\n",
    "## saving hdcp_master csv file\n",
    "\n",
    "hcp_master.to_csv(hcp_output_csv, index = False)\n",
    "print(f\"HCP Master saved: {hcp_output_csv}, row{len(hcp_master)}\")"
   ]
  },
  {
   "cell_type": "markdown",
   "id": "d43236c8-15fc-4d3d-a56a-4de82e915748",
   "metadata": {},
   "source": [
    "#### Step 3 : Linking with Synthea Patients"
   ]
  },
  {
   "cell_type": "code",
   "execution_count": 33,
   "id": "b5f1d74b-d7d6-4dea-a701-a12dd6383002",
   "metadata": {},
   "outputs": [
    {
     "name": "stdout",
     "output_type": "stream",
     "text": [
      "Loading Synthea Patients...\n",
      "Patients linked with HCPs saved: patients_with_hcp.csv, rows: 1739\n"
     ]
    }
   ],
   "source": [
    "# Join with synthea patients\n",
    "\n",
    "patients_csv = \"C:/mysql_files/patients_clean.csv\"\n",
    "patients_output_csv = \"patients_with_hcp.csv\"\n",
    "\n",
    "print(\"Loading Synthea Patients...\")\n",
    "patients = pd.read_csv(patients_csv, low_memory = False)\n",
    "\n",
    "# assign specialities randomwly (placeholder logic)\n",
    "\n",
    "specialties = hcp_master[\"speciality\"].unique().tolist()\n",
    "patients[\"assigned_specialty\"] = patients[\"patient_id\"].apply(lambda x:random.choice(specialties))\n",
    "\n",
    "# link each patient to a random HCP of that specialty\n",
    "\n",
    "hcp_lookup = {}\n",
    "for spec in specialties:\n",
    "    subset = hcp_master[hcp_master[\"speciality\"] == spec][\"hcp_id\"].tolist()\n",
    "    if subset:\n",
    "        hcp_lookup[spec] = subset\n",
    "\n",
    "assigned_hcps = []\n",
    "for spec in patients[\"assigned_specialty\"]:\n",
    "    if spec in hcp_lookup:\n",
    "        assigned_hcps.append(random.choice(hcp_lookup[spec]))\n",
    "    else:\n",
    "        assigned_hcps.append(None)\n",
    "\n",
    "patients[\"hcp_id\"] = assigned_hcps\n"
   ]
  },
  {
   "cell_type": "code",
   "execution_count": null,
   "id": "b796e422-b0d3-4928-8db1-8947251f6828",
   "metadata": {},
   "outputs": [],
   "source": [
    "patients.to_csv(patients_output_csv, index = False)\n",
    "print(f\"Patients linked with HCPs saved: {patients_output_csv}, rows: {len(patients)}\")\n"
   ]
  }
 ],
 "metadata": {
  "kernelspec": {
   "display_name": "Python 3 (ipykernel)",
   "language": "python",
   "name": "python3"
  },
  "language_info": {
   "codemirror_mode": {
    "name": "ipython",
    "version": 3
   },
   "file_extension": ".py",
   "mimetype": "text/x-python",
   "name": "python",
   "nbconvert_exporter": "python",
   "pygments_lexer": "ipython3",
   "version": "3.12.7"
  }
 },
 "nbformat": 4,
 "nbformat_minor": 5
}
